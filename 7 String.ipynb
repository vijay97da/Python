{
 "cells": [
  {
   "cell_type": "code",
   "execution_count": 1,
   "id": "2cb684ed",
   "metadata": {},
   "outputs": [
    {
     "data": {
      "text/plain": [
       "'this is string'"
      ]
     },
     "execution_count": 1,
     "metadata": {},
     "output_type": "execute_result"
    }
   ],
   "source": [
    "\"this is string\" # create a string "
   ]
  },
  {
   "cell_type": "code",
   "execution_count": 2,
   "id": "dd393fe5",
   "metadata": {},
   "outputs": [],
   "source": [
    "my_str = 'string in single quotes'  # single quotes can be used around characters"
   ]
  },
  {
   "cell_type": "code",
   "execution_count": 3,
   "id": "bdf61993",
   "metadata": {},
   "outputs": [],
   "source": [
    "my_str2 = \"string in single quotes\"  # double quotes can be used around characters"
   ]
  },
  {
   "cell_type": "code",
   "execution_count": 4,
   "id": "9f5c0482",
   "metadata": {},
   "outputs": [],
   "source": [
    "my_str3 = \"\"\"string is spread \n",
    "acroos multiple lines\"\"\"  # triple quotes can be used to create multi line strings"
   ]
  },
  {
   "cell_type": "code",
   "execution_count": 5,
   "id": "cd5e4fec",
   "metadata": {},
   "outputs": [
    {
     "data": {
      "text/plain": [
       "str"
      ]
     },
     "execution_count": 5,
     "metadata": {},
     "output_type": "execute_result"
    }
   ],
   "source": [
    "type(my_str)  #use type to check the type of string variable"
   ]
  },
  {
   "cell_type": "code",
   "execution_count": 6,
   "id": "f0e4739f",
   "metadata": {},
   "outputs": [],
   "source": [
    "string_with_spaces = \" x y 1 2 3 \" #string can have spaces in it"
   ]
  },
  {
   "cell_type": "code",
   "execution_count": 8,
   "id": "85008611",
   "metadata": {},
   "outputs": [],
   "source": [
    "string_with_special_characters = \"# $ % @\""
   ]
  },
  {
   "cell_type": "code",
   "execution_count": 10,
   "id": "1f217788",
   "metadata": {},
   "outputs": [],
   "source": [
    "empty_string = ' '  #empty string has nothing in it"
   ]
  },
  {
   "cell_type": "code",
   "execution_count": 11,
   "id": "c4829143",
   "metadata": {},
   "outputs": [
    {
     "data": {
      "text/plain": [
       "' '"
      ]
     },
     "execution_count": 11,
     "metadata": {},
     "output_type": "execute_result"
    }
   ],
   "source": [
    "empty_string"
   ]
  },
  {
   "cell_type": "code",
   "execution_count": 12,
   "id": "bcc05cf7",
   "metadata": {},
   "outputs": [
    {
     "data": {
      "text/plain": [
       "14"
      ]
     },
     "execution_count": 12,
     "metadata": {},
     "output_type": "execute_result"
    }
   ],
   "source": [
    "len('this is string')"
   ]
  },
  {
   "cell_type": "code",
   "execution_count": 13,
   "id": "47589c0c",
   "metadata": {},
   "outputs": [
    {
     "data": {
      "text/plain": [
       "23"
      ]
     },
     "execution_count": 13,
     "metadata": {},
     "output_type": "execute_result"
    }
   ],
   "source": [
    "len(my_str2)"
   ]
  },
  {
   "cell_type": "code",
   "execution_count": 14,
   "id": "7aa1de4f",
   "metadata": {},
   "outputs": [
    {
     "data": {
      "text/plain": [
       "1"
      ]
     },
     "execution_count": 14,
     "metadata": {},
     "output_type": "execute_result"
    }
   ],
   "source": [
    "len(empty_string)  # len can be use to determine the length of string"
   ]
  },
  {
   "cell_type": "code",
   "execution_count": 15,
   "id": "d979f970",
   "metadata": {},
   "outputs": [
    {
     "data": {
      "text/plain": [
       "'string in single quotes  string are useful'"
      ]
     },
     "execution_count": 15,
     "metadata": {},
     "output_type": "execute_result"
    }
   ],
   "source": [
    "my_str + \"  string are useful\""
   ]
  },
  {
   "cell_type": "code",
   "execution_count": 20,
   "id": "f0e9a268",
   "metadata": {},
   "outputs": [
    {
     "data": {
      "text/plain": [
       "'string in single quotes string in single quotes'"
      ]
     },
     "execution_count": 20,
     "metadata": {},
     "output_type": "execute_result"
    }
   ],
   "source": [
    "my_str+\" \"+my_str2 # string concatenation "
   ]
  },
  {
   "cell_type": "code",
   "execution_count": 23,
   "id": "4b09c061",
   "metadata": {},
   "outputs": [
    {
     "data": {
      "text/plain": [
       "'string in single quotes string in single quotes string in single quotes '"
      ]
     },
     "execution_count": 23,
     "metadata": {},
     "output_type": "execute_result"
    }
   ],
   "source": [
    "(my_str+ \" \") * 3 #string repetition"
   ]
  },
  {
   "cell_type": "code",
   "execution_count": 24,
   "id": "50460fa5",
   "metadata": {},
   "outputs": [
    {
     "data": {
      "text/plain": [
       "'********************'"
      ]
     },
     "execution_count": 24,
     "metadata": {},
     "output_type": "execute_result"
    }
   ],
   "source": [
    "'*'*20"
   ]
  },
  {
   "cell_type": "code",
   "execution_count": 25,
   "id": "950acc6c",
   "metadata": {},
   "outputs": [
    {
     "data": {
      "text/plain": [
       "'$ $ $ $ $ $ $ $ $ $ $ $ $ $ $ $ $ $ $ $ '"
      ]
     },
     "execution_count": 25,
     "metadata": {},
     "output_type": "execute_result"
    }
   ],
   "source": [
    "'$ '*20"
   ]
  },
  {
   "cell_type": "code",
   "execution_count": 38,
   "id": "7eb8ee33",
   "metadata": {},
   "outputs": [],
   "source": [
    "my_string = 'this is my string'"
   ]
  },
  {
   "cell_type": "markdown",
   "id": "9a211997",
   "metadata": {},
   "source": [
    "# Indexing"
   ]
  },
  {
   "cell_type": "code",
   "execution_count": 39,
   "id": "08f0cdb9",
   "metadata": {},
   "outputs": [
    {
     "data": {
      "text/plain": [
       "17"
      ]
     },
     "execution_count": 39,
     "metadata": {},
     "output_type": "execute_result"
    }
   ],
   "source": [
    "len(my_string)"
   ]
  },
  {
   "cell_type": "code",
   "execution_count": 27,
   "id": "b2af4246",
   "metadata": {},
   "outputs": [
    {
     "data": {
      "text/plain": [
       "'t'"
      ]
     },
     "execution_count": 27,
     "metadata": {},
     "output_type": "execute_result"
    }
   ],
   "source": [
    "my_string[0]   # accessing first character of string"
   ]
  },
  {
   "cell_type": "code",
   "execution_count": 28,
   "id": "989c8820",
   "metadata": {},
   "outputs": [
    {
     "data": {
      "text/plain": [
       "'h'"
      ]
     },
     "execution_count": 28,
     "metadata": {},
     "output_type": "execute_result"
    }
   ],
   "source": [
    "my_string[1] #indexing of the string"
   ]
  },
  {
   "cell_type": "code",
   "execution_count": 29,
   "id": "283770c1",
   "metadata": {},
   "outputs": [
    {
     "data": {
      "text/plain": [
       "'i'"
      ]
     },
     "execution_count": 29,
     "metadata": {},
     "output_type": "execute_result"
    }
   ],
   "source": [
    "my_string[2]"
   ]
  },
  {
   "cell_type": "code",
   "execution_count": 30,
   "id": "1706f21d",
   "metadata": {},
   "outputs": [
    {
     "data": {
      "text/plain": [
       "'s'"
      ]
     },
     "execution_count": 30,
     "metadata": {},
     "output_type": "execute_result"
    }
   ],
   "source": [
    "my_string[3]"
   ]
  },
  {
   "cell_type": "code",
   "execution_count": 31,
   "id": "e2fa0071",
   "metadata": {},
   "outputs": [
    {
     "data": {
      "text/plain": [
       "' '"
      ]
     },
     "execution_count": 31,
     "metadata": {},
     "output_type": "execute_result"
    }
   ],
   "source": [
    "my_string[4]"
   ]
  },
  {
   "cell_type": "code",
   "execution_count": 33,
   "id": "30bf75f4",
   "metadata": {},
   "outputs": [],
   "source": [
    "length = len(my_string)  # accessing last character of string, gives error as index has to be one less than length of string"
   ]
  },
  {
   "cell_type": "code",
   "execution_count": 40,
   "id": "fa72c7e7",
   "metadata": {},
   "outputs": [
    {
     "ename": "IndexError",
     "evalue": "string index out of range",
     "output_type": "error",
     "traceback": [
      "\u001b[1;31m---------------------------------------------------------------------------\u001b[0m",
      "\u001b[1;31mIndexError\u001b[0m                                Traceback (most recent call last)",
      "Cell \u001b[1;32mIn[40], line 1\u001b[0m\n\u001b[1;32m----> 1\u001b[0m my_string[length]\n",
      "\u001b[1;31mIndexError\u001b[0m: string index out of range"
     ]
    }
   ],
   "source": [
    "my_string[length]"
   ]
  },
  {
   "cell_type": "code",
   "execution_count": 41,
   "id": "e486ed5e",
   "metadata": {},
   "outputs": [
    {
     "data": {
      "text/plain": [
       "'g'"
      ]
     },
     "execution_count": 41,
     "metadata": {},
     "output_type": "execute_result"
    }
   ],
   "source": [
    "my_string[length-1]"
   ]
  },
  {
   "cell_type": "code",
   "execution_count": 42,
   "id": "4796bd86",
   "metadata": {},
   "outputs": [
    {
     "data": {
      "text/plain": [
       "'g'"
      ]
     },
     "execution_count": 42,
     "metadata": {},
     "output_type": "execute_result"
    }
   ],
   "source": [
    "my_string[-1] # accessing last character of string using negative indexing"
   ]
  },
  {
   "cell_type": "code",
   "execution_count": 43,
   "id": "95e957e4",
   "metadata": {},
   "outputs": [
    {
     "data": {
      "text/plain": [
       "'this is my string'"
      ]
     },
     "execution_count": 43,
     "metadata": {},
     "output_type": "execute_result"
    }
   ],
   "source": [
    "my_string"
   ]
  },
  {
   "cell_type": "code",
   "execution_count": 45,
   "id": "aa308033",
   "metadata": {},
   "outputs": [
    {
     "data": {
      "text/plain": [
       "'i'"
      ]
     },
     "execution_count": 45,
     "metadata": {},
     "output_type": "execute_result"
    }
   ],
   "source": [
    "my_string[-3]"
   ]
  },
  {
   "cell_type": "code",
   "execution_count": 46,
   "id": "f543e4e5",
   "metadata": {},
   "outputs": [
    {
     "data": {
      "text/plain": [
       "' '"
      ]
     },
     "execution_count": 46,
     "metadata": {},
     "output_type": "execute_result"
    }
   ],
   "source": [
    "my_string[-10]"
   ]
  },
  {
   "cell_type": "code",
   "execution_count": 48,
   "id": "25839f4d",
   "metadata": {},
   "outputs": [
    {
     "data": {
      "text/plain": [
       "'this is my string'"
      ]
     },
     "execution_count": 48,
     "metadata": {},
     "output_type": "execute_result"
    }
   ],
   "source": [
    "my_string"
   ]
  },
  {
   "cell_type": "markdown",
   "id": "ecc0a54a",
   "metadata": {},
   "source": [
    "# Slicing"
   ]
  },
  {
   "cell_type": "code",
   "execution_count": 49,
   "id": "c31706ca",
   "metadata": {},
   "outputs": [
    {
     "data": {
      "text/plain": [
       "'this is my string'"
      ]
     },
     "execution_count": 49,
     "metadata": {},
     "output_type": "execute_result"
    }
   ],
   "source": [
    "my_string[ : ]  # extracts complete string"
   ]
  },
  {
   "cell_type": "code",
   "execution_count": 50,
   "id": "ef43e91e",
   "metadata": {},
   "outputs": [
    {
     "data": {
      "text/plain": [
       "'s is my string'"
      ]
     },
     "execution_count": 50,
     "metadata": {},
     "output_type": "execute_result"
    }
   ],
   "source": [
    "my_string[3: ]   "
   ]
  },
  {
   "cell_type": "code",
   "execution_count": 51,
   "id": "4409d9c8",
   "metadata": {},
   "outputs": [
    {
     "data": {
      "text/plain": [
       "'y string'"
      ]
     },
     "execution_count": 51,
     "metadata": {},
     "output_type": "execute_result"
    }
   ],
   "source": [
    "my_string[ 9: ]  # extracts complete string"
   ]
  },
  {
   "cell_type": "code",
   "execution_count": 1,
   "id": "f05ef34f",
   "metadata": {},
   "outputs": [
    {
     "ename": "NameError",
     "evalue": "name 'my_string' is not defined",
     "output_type": "error",
     "traceback": [
      "\u001b[1;31m---------------------------------------------------------------------------\u001b[0m",
      "\u001b[1;31mNameError\u001b[0m                                 Traceback (most recent call last)",
      "Cell \u001b[1;32mIn[1], line 1\u001b[0m\n\u001b[1;32m----> 1\u001b[0m my_string[\u001b[38;5;241m1\u001b[39m:\u001b[38;5;241m12\u001b[39m]\n",
      "\u001b[1;31mNameError\u001b[0m: name 'my_string' is not defined"
     ]
    }
   ],
   "source": [
    "my_string[1:12]  # extracts complete string"
   ]
  },
  {
   "cell_type": "code",
   "execution_count": 2,
   "id": "66e70c2a",
   "metadata": {},
   "outputs": [
    {
     "ename": "NameError",
     "evalue": "name 'my_string' is not defined",
     "output_type": "error",
     "traceback": [
      "\u001b[1;31m---------------------------------------------------------------------------\u001b[0m",
      "\u001b[1;31mNameError\u001b[0m                                 Traceback (most recent call last)",
      "Cell \u001b[1;32mIn[2], line 1\u001b[0m\n\u001b[1;32m----> 1\u001b[0m my_string\n",
      "\u001b[1;31mNameError\u001b[0m: name 'my_string' is not defined"
     ]
    }
   ],
   "source": [
    "my_string"
   ]
  },
  {
   "cell_type": "code",
   "execution_count": 53,
   "id": "a56ba7b7",
   "metadata": {},
   "outputs": [
    {
     "data": {
      "text/plain": [
       "'this is my'"
      ]
     },
     "execution_count": 53,
     "metadata": {},
     "output_type": "execute_result"
    }
   ],
   "source": [
    "my_string[ :10 ]  # extracts complete string"
   ]
  },
  {
   "cell_type": "code",
   "execution_count": 54,
   "id": "95a26396",
   "metadata": {},
   "outputs": [
    {
     "data": {
      "text/plain": [
       "'s is '"
      ]
     },
     "execution_count": 54,
     "metadata": {},
     "output_type": "execute_result"
    }
   ],
   "source": [
    "my_string[ 3: 8]  # extracts complete string"
   ]
  },
  {
   "cell_type": "code",
   "execution_count": 55,
   "id": "8eceaaf0",
   "metadata": {},
   "outputs": [
    {
     "data": {
      "text/plain": [
       "'i sm'"
      ]
     },
     "execution_count": 55,
     "metadata": {},
     "output_type": "execute_result"
    }
   ],
   "source": [
    "my_string[ 2:10:2 ]  # extracts complete string"
   ]
  },
  {
   "cell_type": "code",
   "execution_count": 59,
   "id": "fc4e9ec4",
   "metadata": {},
   "outputs": [
    {
     "data": {
      "text/plain": [
       "'tssytn'"
      ]
     },
     "execution_count": 59,
     "metadata": {},
     "output_type": "execute_result"
    }
   ],
   "source": [
    "my_string[ 0:16:3]  # extracts complete string"
   ]
  },
  {
   "cell_type": "code",
   "execution_count": 57,
   "id": "dbc68365",
   "metadata": {},
   "outputs": [
    {
     "data": {
      "text/plain": [
       "'this is my string'"
      ]
     },
     "execution_count": 57,
     "metadata": {},
     "output_type": "execute_result"
    }
   ],
   "source": [
    "my_string"
   ]
  },
  {
   "cell_type": "code",
   "execution_count": 60,
   "id": "e86331c4",
   "metadata": {},
   "outputs": [
    {
     "data": {
      "text/plain": [
       "'ssytn'"
      ]
     },
     "execution_count": 60,
     "metadata": {},
     "output_type": "execute_result"
    }
   ],
   "source": [
    "my_string[ 3::3]"
   ]
  },
  {
   "cell_type": "code",
   "execution_count": 61,
   "id": "a5b450c0",
   "metadata": {},
   "outputs": [
    {
     "data": {
      "text/plain": [
       "'tssytn'"
      ]
     },
     "execution_count": 61,
     "metadata": {},
     "output_type": "execute_result"
    }
   ],
   "source": [
    "my_string[ :16:3]"
   ]
  },
  {
   "cell_type": "code",
   "execution_count": 62,
   "id": "78c8aaf4",
   "metadata": {},
   "outputs": [
    {
     "data": {
      "text/plain": [
       "'tssytn'"
      ]
     },
     "execution_count": 62,
     "metadata": {},
     "output_type": "execute_result"
    }
   ],
   "source": [
    "my_string[ ::3]"
   ]
  },
  {
   "cell_type": "code",
   "execution_count": 63,
   "id": "7c8e2b7a",
   "metadata": {},
   "outputs": [
    {
     "data": {
      "text/plain": [
       "'ti sm tig'"
      ]
     },
     "execution_count": 63,
     "metadata": {},
     "output_type": "execute_result"
    }
   ],
   "source": [
    "my_string[ ::2]"
   ]
  },
  {
   "cell_type": "code",
   "execution_count": 64,
   "id": "202e1407",
   "metadata": {},
   "outputs": [
    {
     "data": {
      "text/plain": [
       "'gnirts ym si siht'"
      ]
     },
     "execution_count": 64,
     "metadata": {},
     "output_type": "execute_result"
    }
   ],
   "source": [
    "my_string[ ::-1]"
   ]
  },
  {
   "cell_type": "code",
   "execution_count": 65,
   "id": "8322f9b6",
   "metadata": {},
   "outputs": [
    {
     "data": {
      "text/plain": [
       "''"
      ]
     },
     "execution_count": 65,
     "metadata": {},
     "output_type": "execute_result"
    }
   ],
   "source": [
    "my_string[-1:-6:2]"
   ]
  },
  {
   "cell_type": "code",
   "execution_count": 66,
   "id": "b4090974",
   "metadata": {},
   "outputs": [
    {
     "data": {
      "text/plain": [
       "'this is my string'"
      ]
     },
     "execution_count": 66,
     "metadata": {},
     "output_type": "execute_result"
    }
   ],
   "source": [
    "my_string"
   ]
  },
  {
   "cell_type": "code",
   "execution_count": 67,
   "id": "67ed2ce4",
   "metadata": {},
   "outputs": [
    {
     "data": {
      "text/plain": [
       "'gnirt'"
      ]
     },
     "execution_count": 67,
     "metadata": {},
     "output_type": "execute_result"
    }
   ],
   "source": [
    "my_string[-1:-6:-1]"
   ]
  },
  {
   "cell_type": "code",
   "execution_count": 68,
   "id": "86276e9d",
   "metadata": {},
   "outputs": [
    {
     "data": {
      "text/plain": [
       "''"
      ]
     },
     "execution_count": 68,
     "metadata": {},
     "output_type": "execute_result"
    }
   ],
   "source": [
    "my_string[-10:-1:-2]"
   ]
  },
  {
   "cell_type": "code",
   "execution_count": 69,
   "id": "ce4c84ef",
   "metadata": {},
   "outputs": [
    {
     "data": {
      "text/plain": [
       "' ysrn'"
      ]
     },
     "execution_count": 69,
     "metadata": {},
     "output_type": "execute_result"
    }
   ],
   "source": [
    "my_string[-10:-1:2]"
   ]
  },
  {
   "cell_type": "code",
   "execution_count": 70,
   "id": "44e9ebf9",
   "metadata": {},
   "outputs": [
    {
     "data": {
      "text/plain": [
       "'gnirts ym si siht'"
      ]
     },
     "execution_count": 70,
     "metadata": {},
     "output_type": "execute_result"
    }
   ],
   "source": [
    "my_string[::-1]"
   ]
  },
  {
   "cell_type": "code",
   "execution_count": 72,
   "id": "2686124f",
   "metadata": {},
   "outputs": [
    {
     "data": {
      "text/plain": [
       "'this is my string'"
      ]
     },
     "execution_count": 72,
     "metadata": {},
     "output_type": "execute_result"
    }
   ],
   "source": [
    "my_string"
   ]
  },
  {
   "cell_type": "markdown",
   "id": "50c1efb2",
   "metadata": {},
   "source": [
    "# Escape Sequences"
   ]
  },
  {
   "cell_type": "code",
   "execution_count": 74,
   "id": "e39c44a8",
   "metadata": {},
   "outputs": [
    {
     "name": "stdout",
     "output_type": "stream",
     "text": [
      " Python is beautiful! \n",
      " I love Python!\n"
     ]
    }
   ],
   "source": [
    "print(\" Python is beautiful! \\n I love Python!\" )   # The output is given by a new line "
   ]
  },
  {
   "cell_type": "code",
   "execution_count": 75,
   "id": "977ffa07",
   "metadata": {},
   "outputs": [
    {
     "name": "stdout",
     "output_type": "stream",
     "text": [
      " Python is beautiful! \\ I love Python!\n"
     ]
    }
   ],
   "source": [
    "print(\" Python is beautiful! \\\\ I love Python!\" )  # to place a back slash in your string, use a double back slash"
   ]
  },
  {
   "cell_type": "code",
   "execution_count": 76,
   "id": "f528486a",
   "metadata": {},
   "outputs": [
    {
     "name": "stdout",
     "output_type": "stream",
     "text": [
      " Python is beautiful! \\ I love Python!\n"
     ]
    }
   ],
   "source": [
    "print(\" Python is beautiful! \\ I love Python!\" ) "
   ]
  },
  {
   "cell_type": "code",
   "execution_count": 77,
   "id": "1e497fd1",
   "metadata": {},
   "outputs": [
    {
     "name": "stdout",
     "output_type": "stream",
     "text": [
      " Python is beautiful! \t I love Python!\n"
     ]
    }
   ],
   "source": [
    "print(\" Python is beautiful! \\t I love Python!\" ) "
   ]
  },
  {
   "cell_type": "code",
   "execution_count": 81,
   "id": "3a3f5e73",
   "metadata": {},
   "outputs": [
    {
     "name": "stdout",
     "output_type": "stream",
     "text": [
      "Python is beautiful!. I love Python!\n"
     ]
    }
   ],
   "source": [
    "print(\"Python is beautiful!\", end = \". \") \n",
    "print(\"I love Python!\")"
   ]
  },
  {
   "cell_type": "code",
   "execution_count": 82,
   "id": "8bc1abbc",
   "metadata": {},
   "outputs": [],
   "source": [
    "my_string = \"this is string\""
   ]
  },
  {
   "cell_type": "code",
   "execution_count": 83,
   "id": "bbd80243",
   "metadata": {},
   "outputs": [
    {
     "data": {
      "text/plain": [
       "True"
      ]
     },
     "execution_count": 83,
     "metadata": {},
     "output_type": "execute_result"
    }
   ],
   "source": [
    "\"s\" in my_string"
   ]
  },
  {
   "cell_type": "code",
   "execution_count": 84,
   "id": "3f0f0759",
   "metadata": {},
   "outputs": [
    {
     "data": {
      "text/plain": [
       "False"
      ]
     },
     "execution_count": 84,
     "metadata": {},
     "output_type": "execute_result"
    }
   ],
   "source": [
    "\"z\" in my_string"
   ]
  },
  {
   "cell_type": "code",
   "execution_count": 85,
   "id": "f0d88f8c",
   "metadata": {},
   "outputs": [
    {
     "data": {
      "text/plain": [
       "False"
      ]
     },
     "execution_count": 85,
     "metadata": {},
     "output_type": "execute_result"
    }
   ],
   "source": [
    "\"t\" not in my_string"
   ]
  },
  {
   "cell_type": "code",
   "execution_count": 87,
   "id": "f025773f",
   "metadata": {},
   "outputs": [
    {
     "data": {
      "text/plain": [
       "True"
      ]
     },
     "execution_count": 87,
     "metadata": {},
     "output_type": "execute_result"
    }
   ],
   "source": [
    "\"T\" not in my_string"
   ]
  },
  {
   "cell_type": "code",
   "execution_count": 88,
   "id": "52f65ed7",
   "metadata": {},
   "outputs": [
    {
     "data": {
      "text/plain": [
       "False"
      ]
     },
     "execution_count": 88,
     "metadata": {},
     "output_type": "execute_result"
    }
   ],
   "source": [
    "\"this\" not in my_string"
   ]
  },
  {
   "cell_type": "markdown",
   "id": "6ab90549",
   "metadata": {},
   "source": [
    "# Immutability"
   ]
  },
  {
   "cell_type": "code",
   "execution_count": 89,
   "id": "87a62569",
   "metadata": {},
   "outputs": [],
   "source": [
    "my_string = \"this is my string\""
   ]
  },
  {
   "cell_type": "code",
   "execution_count": 90,
   "id": "dd4dff3f",
   "metadata": {},
   "outputs": [
    {
     "ename": "TypeError",
     "evalue": "'str' object does not support item assignment",
     "output_type": "error",
     "traceback": [
      "\u001b[1;31m---------------------------------------------------------------------------\u001b[0m",
      "\u001b[1;31mTypeError\u001b[0m                                 Traceback (most recent call last)",
      "Cell \u001b[1;32mIn[90], line 1\u001b[0m\n\u001b[1;32m----> 1\u001b[0m my_string[\u001b[38;5;241m0\u001b[39m] \u001b[38;5;241m=\u001b[39m \u001b[38;5;124m'\u001b[39m\u001b[38;5;124mp\u001b[39m\u001b[38;5;124m'\u001b[39m\n",
      "\u001b[1;31mTypeError\u001b[0m: 'str' object does not support item assignment"
     ]
    }
   ],
   "source": [
    "my_string[0] = 'p'   # not allowed, as strings are immutable i.e. can not be modified"
   ]
  },
  {
   "cell_type": "code",
   "execution_count": 91,
   "id": "5d357d42",
   "metadata": {},
   "outputs": [],
   "source": [
    "my_string = \"this is my string\""
   ]
  },
  {
   "cell_type": "code",
   "execution_count": 93,
   "id": "6f545d88",
   "metadata": {},
   "outputs": [],
   "source": [
    "new_str = \"P\""
   ]
  },
  {
   "cell_type": "code",
   "execution_count": 94,
   "id": "b34f5c52",
   "metadata": {},
   "outputs": [
    {
     "data": {
      "text/plain": [
       "'Pthis is my string'"
      ]
     },
     "execution_count": 94,
     "metadata": {},
     "output_type": "execute_result"
    }
   ],
   "source": [
    "new_str + my_string "
   ]
  },
  {
   "cell_type": "code",
   "execution_count": 95,
   "id": "468c3561",
   "metadata": {},
   "outputs": [
    {
     "data": {
      "text/plain": [
       "'Phis is my string'"
      ]
     },
     "execution_count": 95,
     "metadata": {},
     "output_type": "execute_result"
    }
   ],
   "source": [
    "new_str + my_string[1:] "
   ]
  },
  {
   "cell_type": "code",
   "execution_count": null,
   "id": "a90c46d3",
   "metadata": {},
   "outputs": [],
   "source": []
  },
  {
   "cell_type": "code",
   "execution_count": null,
   "id": "49e4d8a3",
   "metadata": {},
   "outputs": [],
   "source": []
  }
 ],
 "metadata": {
  "kernelspec": {
   "display_name": "Python 3 (ipykernel)",
   "language": "python",
   "name": "python3"
  },
  "language_info": {
   "codemirror_mode": {
    "name": "ipython",
    "version": 3
   },
   "file_extension": ".py",
   "mimetype": "text/x-python",
   "name": "python",
   "nbconvert_exporter": "python",
   "pygments_lexer": "ipython3",
   "version": "3.11.5"
  }
 },
 "nbformat": 4,
 "nbformat_minor": 5
}
