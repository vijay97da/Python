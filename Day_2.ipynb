{
 "cells": [
  {
   "cell_type": "markdown",
   "id": "ac9033ef",
   "metadata": {},
   "source": [
    "# Basic of python"
   ]
  },
  {
   "cell_type": "code",
   "execution_count": 1,
   "id": "ece47ad8",
   "metadata": {},
   "outputs": [
    {
     "ename": "NameError",
     "evalue": "name 'Smith' is not defined",
     "output_type": "error",
     "traceback": [
      "\u001b[1;31m---------------------------------------------------------------------------\u001b[0m",
      "\u001b[1;31mNameError\u001b[0m                                 Traceback (most recent call last)",
      "Cell \u001b[1;32mIn[1], line 1\u001b[0m\n\u001b[1;32m----> 1\u001b[0m \u001b[38;5;28mprint\u001b[39m(\u001b[43mSmith\u001b[49m) \u001b[38;5;66;03m##for printing\u001b[39;00m\n",
      "\u001b[1;31mNameError\u001b[0m: name 'Smith' is not defined"
     ]
    }
   ],
   "source": [
    "print(Smith) ##for printing"
   ]
  },
  {
   "cell_type": "code",
   "execution_count": 2,
   "id": "6bfd300b",
   "metadata": {},
   "outputs": [
    {
     "name": "stdout",
     "output_type": "stream",
     "text": [
      "Smith\n"
     ]
    }
   ],
   "source": [
    "print(\"Smith\")"
   ]
  },
  {
   "cell_type": "code",
   "execution_count": 3,
   "id": "13b929e0",
   "metadata": {},
   "outputs": [],
   "source": [
    "name = \"smith\""
   ]
  },
  {
   "cell_type": "code",
   "execution_count": 4,
   "id": "b1f57fdf",
   "metadata": {},
   "outputs": [
    {
     "name": "stdout",
     "output_type": "stream",
     "text": [
      "smith\n"
     ]
    }
   ],
   "source": [
    "print(name)"
   ]
  },
  {
   "cell_type": "code",
   "execution_count": 5,
   "id": "c0592609",
   "metadata": {},
   "outputs": [
    {
     "name": "stdout",
     "output_type": "stream",
     "text": [
      "Smith\n"
     ]
    },
    {
     "data": {
      "text/plain": [
       "NoneType"
      ]
     },
     "execution_count": 5,
     "metadata": {},
     "output_type": "execute_result"
    }
   ],
   "source": [
    "type(print('Smith')) ##type is used to check the data type"
   ]
  },
  {
   "cell_type": "code",
   "execution_count": 7,
   "id": "67f623e8",
   "metadata": {},
   "outputs": [
    {
     "name": "stdout",
     "output_type": "stream",
     "text": [
      "Smith\n"
     ]
    },
    {
     "data": {
      "text/plain": [
       "NoneType"
      ]
     },
     "execution_count": 7,
     "metadata": {},
     "output_type": "execute_result"
    }
   ],
   "source": [
    "type(print('Smith'))"
   ]
  },
  {
   "cell_type": "code",
   "execution_count": null,
   "id": "c19bc668",
   "metadata": {},
   "outputs": [],
   "source": [
    "a - z   -->  str\n",
    "0- 9    -->  int\n",
    "0.5     -->  float\n",
    "56 + 7j -->  complex\n",
    "True/False -->  boolen\n",
    "( )     -->  str\n",
    "( )     -->  tuple\n",
    "[ ]     -->  list\n",
    "{ }     -->  set\n",
    "{ }     -->  dict"
   ]
  },
  {
   "cell_type": "code",
   "execution_count": null,
   "id": "08a44012",
   "metadata": {},
   "outputs": [],
   "source": [
    "name    = \"hello python\"\n",
    "\n",
    "name1   = \"hello python\"\n",
    "\n",
    "name_1  =  \"hello python\"\n",
    "\n",
    "1name   =  \"hello python\"\n",
    "\n",
    "1_name  =  \"hello python\"\n",
    "\n",
    "name$   =   \"hello python\"\n",
    "\n",
    "__name  =  \"hello python\"\n",
    "\n",
    "_____   =  \"hello python\"\n",
    "\n",
    "6576    =  \"hello python\"\n",
    "\n",
    "_22   =    \"hello python\"\n",
    "\n",
    "name lastname = \"hello python\"\n",
    "\n",
    "name# = \"hello python\""
   ]
  },
  {
   "cell_type": "code",
   "execution_count": 8,
   "id": "61f0d71a",
   "metadata": {},
   "outputs": [],
   "source": [
    "name    = \"hello python\""
   ]
  },
  {
   "cell_type": "code",
   "execution_count": 9,
   "id": "dad25488",
   "metadata": {},
   "outputs": [],
   "source": [
    "name1   = \"hello python\""
   ]
  },
  {
   "cell_type": "code",
   "execution_count": 10,
   "id": "d521f656",
   "metadata": {},
   "outputs": [],
   "source": [
    "name_1  =  \"hello python\""
   ]
  },
  {
   "cell_type": "code",
   "execution_count": 11,
   "id": "3a56b4ab",
   "metadata": {},
   "outputs": [
    {
     "ename": "SyntaxError",
     "evalue": "invalid decimal literal (2783300272.py, line 1)",
     "output_type": "error",
     "traceback": [
      "\u001b[1;36m  Cell \u001b[1;32mIn[11], line 1\u001b[1;36m\u001b[0m\n\u001b[1;33m    1name   =  \"hello python\"\u001b[0m\n\u001b[1;37m    ^\u001b[0m\n\u001b[1;31mSyntaxError\u001b[0m\u001b[1;31m:\u001b[0m invalid decimal literal\n"
     ]
    }
   ],
   "source": [
    "1name   =  \"hello python\""
   ]
  },
  {
   "cell_type": "code",
   "execution_count": 12,
   "id": "90c9b21b",
   "metadata": {},
   "outputs": [
    {
     "ename": "SyntaxError",
     "evalue": "invalid decimal literal (1783402476.py, line 1)",
     "output_type": "error",
     "traceback": [
      "\u001b[1;36m  Cell \u001b[1;32mIn[12], line 1\u001b[1;36m\u001b[0m\n\u001b[1;33m    1_name  =  \"hello python\"\u001b[0m\n\u001b[1;37m     ^\u001b[0m\n\u001b[1;31mSyntaxError\u001b[0m\u001b[1;31m:\u001b[0m invalid decimal literal\n"
     ]
    }
   ],
   "source": [
    "1_name  =  \"hello python\""
   ]
  },
  {
   "cell_type": "code",
   "execution_count": 13,
   "id": "c01e06a6",
   "metadata": {},
   "outputs": [
    {
     "ename": "SyntaxError",
     "evalue": "invalid syntax (599391388.py, line 1)",
     "output_type": "error",
     "traceback": [
      "\u001b[1;36m  Cell \u001b[1;32mIn[13], line 1\u001b[1;36m\u001b[0m\n\u001b[1;33m    name$   =   \"hello python\"\u001b[0m\n\u001b[1;37m        ^\u001b[0m\n\u001b[1;31mSyntaxError\u001b[0m\u001b[1;31m:\u001b[0m invalid syntax\n"
     ]
    }
   ],
   "source": [
    "name$   =   \"hello python\""
   ]
  },
  {
   "cell_type": "code",
   "execution_count": 14,
   "id": "77f0176d",
   "metadata": {},
   "outputs": [],
   "source": [
    "__name  =  \"hello python\""
   ]
  },
  {
   "cell_type": "code",
   "execution_count": 15,
   "id": "64b6de6e",
   "metadata": {},
   "outputs": [],
   "source": [
    "_____   =  \"hello python\""
   ]
  },
  {
   "cell_type": "code",
   "execution_count": 16,
   "id": "11529a3a",
   "metadata": {},
   "outputs": [
    {
     "ename": "SyntaxError",
     "evalue": "cannot assign to literal here. Maybe you meant '==' instead of '='? (221964919.py, line 1)",
     "output_type": "error",
     "traceback": [
      "\u001b[1;36m  Cell \u001b[1;32mIn[16], line 1\u001b[1;36m\u001b[0m\n\u001b[1;33m    6576    =  \"hello python\"\u001b[0m\n\u001b[1;37m    ^\u001b[0m\n\u001b[1;31mSyntaxError\u001b[0m\u001b[1;31m:\u001b[0m cannot assign to literal here. Maybe you meant '==' instead of '='?\n"
     ]
    }
   ],
   "source": [
    "6576    =  \"hello python\""
   ]
  },
  {
   "cell_type": "code",
   "execution_count": 17,
   "id": "5612ac11",
   "metadata": {},
   "outputs": [],
   "source": [
    "_22   =    \"hello python\""
   ]
  },
  {
   "cell_type": "code",
   "execution_count": 18,
   "id": "7174d11a",
   "metadata": {},
   "outputs": [
    {
     "ename": "SyntaxError",
     "evalue": "invalid syntax (2120346472.py, line 1)",
     "output_type": "error",
     "traceback": [
      "\u001b[1;36m  Cell \u001b[1;32mIn[18], line 1\u001b[1;36m\u001b[0m\n\u001b[1;33m    name lastname = \"hello python\"\u001b[0m\n\u001b[1;37m         ^\u001b[0m\n\u001b[1;31mSyntaxError\u001b[0m\u001b[1;31m:\u001b[0m invalid syntax\n"
     ]
    }
   ],
   "source": [
    "name lastname = \"hello python\""
   ]
  },
  {
   "cell_type": "code",
   "execution_count": 19,
   "id": "f07f3419",
   "metadata": {},
   "outputs": [
    {
     "data": {
      "text/plain": [
       "'hello python'"
      ]
     },
     "execution_count": 19,
     "metadata": {},
     "output_type": "execute_result"
    }
   ],
   "source": [
    "name # = \"hello python\""
   ]
  },
  {
   "cell_type": "code",
   "execution_count": null,
   "id": "0c94a140",
   "metadata": {},
   "outputs": [],
   "source": [
    "print()\n",
    "len()\n",
    "range()\n",
    "str()\n",
    "list()\n",
    "set()\n",
    "dict()\n",
    "float()\n",
    "tuple()\n",
    "complex()\n",
    "bool()\n",
    "int()\n",
    "type()\n",
    "input()"
   ]
  },
  {
   "cell_type": "code",
   "execution_count": 21,
   "id": "0bd9040f",
   "metadata": {},
   "outputs": [],
   "source": [
    "lastname = \"kunal\""
   ]
  },
  {
   "cell_type": "code",
   "execution_count": 22,
   "id": "c485227c",
   "metadata": {},
   "outputs": [],
   "source": [
    "name = \"vijay\""
   ]
  },
  {
   "cell_type": "code",
   "execution_count": 23,
   "id": "b16a5995",
   "metadata": {},
   "outputs": [],
   "source": [
    "last_name = \"chinikesh\""
   ]
  },
  {
   "cell_type": "code",
   "execution_count": 24,
   "id": "52c6f696",
   "metadata": {},
   "outputs": [
    {
     "data": {
      "text/plain": [
       "'kunal'"
      ]
     },
     "execution_count": 24,
     "metadata": {},
     "output_type": "execute_result"
    }
   ],
   "source": [
    "lastname"
   ]
  },
  {
   "cell_type": "code",
   "execution_count": 27,
   "id": "b33a1093",
   "metadata": {},
   "outputs": [
    {
     "data": {
      "text/plain": [
       "'vijay'"
      ]
     },
     "execution_count": 27,
     "metadata": {},
     "output_type": "execute_result"
    }
   ],
   "source": [
    "name"
   ]
  },
  {
   "cell_type": "code",
   "execution_count": 26,
   "id": "7f9092d7",
   "metadata": {},
   "outputs": [
    {
     "data": {
      "text/plain": [
       "'chinikesh'"
      ]
     },
     "execution_count": 26,
     "metadata": {},
     "output_type": "execute_result"
    }
   ],
   "source": [
    "last_name"
   ]
  },
  {
   "cell_type": "code",
   "execution_count": 28,
   "id": "04a5a3a2",
   "metadata": {},
   "outputs": [],
   "source": [
    "name2 = \"chinikesh\""
   ]
  },
  {
   "cell_type": "code",
   "execution_count": 29,
   "id": "2401721b",
   "metadata": {},
   "outputs": [
    {
     "data": {
      "text/plain": [
       "'chinikesh'"
      ]
     },
     "execution_count": 29,
     "metadata": {},
     "output_type": "execute_result"
    }
   ],
   "source": [
    "last_name"
   ]
  },
  {
   "cell_type": "code",
   "execution_count": 30,
   "id": "aaf13e24",
   "metadata": {},
   "outputs": [
    {
     "data": {
      "text/plain": [
       "'chinikesh'"
      ]
     },
     "execution_count": 30,
     "metadata": {},
     "output_type": "execute_result"
    }
   ],
   "source": [
    "name2"
   ]
  },
  {
   "cell_type": "code",
   "execution_count": 31,
   "id": "3bc1d1a7",
   "metadata": {},
   "outputs": [],
   "source": [
    "name2 = \"vijay\""
   ]
  },
  {
   "cell_type": "code",
   "execution_count": 32,
   "id": "85471c3f",
   "metadata": {},
   "outputs": [
    {
     "data": {
      "text/plain": [
       "'vijay'"
      ]
     },
     "execution_count": 32,
     "metadata": {},
     "output_type": "execute_result"
    }
   ],
   "source": [
    "name2"
   ]
  },
  {
   "cell_type": "code",
   "execution_count": 36,
   "id": "732f3e34",
   "metadata": {},
   "outputs": [],
   "source": [
    "name = \"chinikesh\""
   ]
  },
  {
   "cell_type": "code",
   "execution_count": 33,
   "id": "f2741b6c",
   "metadata": {},
   "outputs": [],
   "source": [
    "age = 23"
   ]
  },
  {
   "cell_type": "code",
   "execution_count": 37,
   "id": "8a1d19ad",
   "metadata": {},
   "outputs": [],
   "source": [
    "salary = 20000.0"
   ]
  },
  {
   "cell_type": "code",
   "execution_count": 35,
   "id": "10b92b9a",
   "metadata": {},
   "outputs": [],
   "source": [
    "status = \"mingle\""
   ]
  },
  {
   "cell_type": "code",
   "execution_count": 40,
   "id": "2640863a",
   "metadata": {},
   "outputs": [
    {
     "data": {
      "text/plain": [
       "str"
      ]
     },
     "execution_count": 40,
     "metadata": {},
     "output_type": "execute_result"
    }
   ],
   "source": [
    "type(name)"
   ]
  },
  {
   "cell_type": "code",
   "execution_count": 41,
   "id": "1775c601",
   "metadata": {},
   "outputs": [
    {
     "data": {
      "text/plain": [
       "int"
      ]
     },
     "execution_count": 41,
     "metadata": {},
     "output_type": "execute_result"
    }
   ],
   "source": [
    "type(age)"
   ]
  },
  {
   "cell_type": "code",
   "execution_count": 42,
   "id": "613edb80",
   "metadata": {},
   "outputs": [
    {
     "data": {
      "text/plain": [
       "float"
      ]
     },
     "execution_count": 42,
     "metadata": {},
     "output_type": "execute_result"
    }
   ],
   "source": [
    "type(salary)"
   ]
  },
  {
   "cell_type": "code",
   "execution_count": 43,
   "id": "7a2f3f4b",
   "metadata": {},
   "outputs": [
    {
     "data": {
      "text/plain": [
       "str"
      ]
     },
     "execution_count": 43,
     "metadata": {},
     "output_type": "execute_result"
    }
   ],
   "source": [
    "type(status)"
   ]
  },
  {
   "cell_type": "code",
   "execution_count": 50,
   "id": "bd925a9c",
   "metadata": {},
   "outputs": [
    {
     "name": "stdout",
     "output_type": "stream",
     "text": [
      "chinikesh 23 20000.0     mingle\n"
     ]
    }
   ],
   "source": [
    "print(name,age,salary, \"   \" ,status)"
   ]
  },
  {
   "cell_type": "code",
   "execution_count": 51,
   "id": "da25c3b9",
   "metadata": {},
   "outputs": [
    {
     "data": {
      "text/plain": [
       "'chinikesh'"
      ]
     },
     "execution_count": 51,
     "metadata": {},
     "output_type": "execute_result"
    }
   ],
   "source": [
    "name "
   ]
  },
  {
   "cell_type": "code",
   "execution_count": 52,
   "id": "bcafa670",
   "metadata": {},
   "outputs": [
    {
     "data": {
      "text/plain": [
       "9"
      ]
     },
     "execution_count": 52,
     "metadata": {},
     "output_type": "execute_result"
    }
   ],
   "source": [
    "len(name)"
   ]
  },
  {
   "cell_type": "code",
   "execution_count": 53,
   "id": "9698c65d",
   "metadata": {},
   "outputs": [
    {
     "ename": "TypeError",
     "evalue": "object of type 'float' has no len()",
     "output_type": "error",
     "traceback": [
      "\u001b[1;31m---------------------------------------------------------------------------\u001b[0m",
      "\u001b[1;31mTypeError\u001b[0m                                 Traceback (most recent call last)",
      "Cell \u001b[1;32mIn[53], line 1\u001b[0m\n\u001b[1;32m----> 1\u001b[0m \u001b[38;5;28;43mlen\u001b[39;49m\u001b[43m(\u001b[49m\u001b[43msalary\u001b[49m\u001b[43m)\u001b[49m\n",
      "\u001b[1;31mTypeError\u001b[0m: object of type 'float' has no len()"
     ]
    }
   ],
   "source": [
    "len(salary)"
   ]
  },
  {
   "cell_type": "code",
   "execution_count": 54,
   "id": "477f0580",
   "metadata": {},
   "outputs": [
    {
     "ename": "TypeError",
     "evalue": "object of type 'int' has no len()",
     "output_type": "error",
     "traceback": [
      "\u001b[1;31m---------------------------------------------------------------------------\u001b[0m",
      "\u001b[1;31mTypeError\u001b[0m                                 Traceback (most recent call last)",
      "Cell \u001b[1;32mIn[54], line 1\u001b[0m\n\u001b[1;32m----> 1\u001b[0m \u001b[38;5;28;43mlen\u001b[39;49m\u001b[43m(\u001b[49m\u001b[43mage\u001b[49m\u001b[43m)\u001b[49m\n",
      "\u001b[1;31mTypeError\u001b[0m: object of type 'int' has no len()"
     ]
    }
   ],
   "source": [
    "len(age)"
   ]
  },
  {
   "cell_type": "code",
   "execution_count": 56,
   "id": "ce70af7e",
   "metadata": {},
   "outputs": [],
   "source": [
    "tuple1 = ( \"vijay\", \"chinikesh\", \"kunal\")"
   ]
  },
  {
   "cell_type": "code",
   "execution_count": 58,
   "id": "bae58a03",
   "metadata": {},
   "outputs": [
    {
     "data": {
      "text/plain": [
       "tuple"
      ]
     },
     "execution_count": 58,
     "metadata": {},
     "output_type": "execute_result"
    }
   ],
   "source": [
    "type(tuple1)"
   ]
  },
  {
   "cell_type": "code",
   "execution_count": 59,
   "id": "685194fd",
   "metadata": {},
   "outputs": [
    {
     "data": {
      "text/plain": [
       "3"
      ]
     },
     "execution_count": 59,
     "metadata": {},
     "output_type": "execute_result"
    }
   ],
   "source": [
    "len(tuple1)"
   ]
  },
  {
   "cell_type": "code",
   "execution_count": 76,
   "id": "4eb98ac8",
   "metadata": {},
   "outputs": [],
   "source": [
    "prara = \"3 numbers from 3 till 19 by skipping 2 numbers in between (step size-1)\""
   ]
  },
  {
   "cell_type": "code",
   "execution_count": 79,
   "id": "507167fa",
   "metadata": {},
   "outputs": [
    {
     "data": {
      "text/plain": [
       "str"
      ]
     },
     "execution_count": 79,
     "metadata": {},
     "output_type": "execute_result"
    }
   ],
   "source": [
    "type(prara)"
   ]
  },
  {
   "cell_type": "code",
   "execution_count": 80,
   "id": "8168c7d4",
   "metadata": {},
   "outputs": [
    {
     "data": {
      "text/plain": [
       "72"
      ]
     },
     "execution_count": 80,
     "metadata": {},
     "output_type": "execute_result"
    }
   ],
   "source": [
    "len(prara)"
   ]
  },
  {
   "cell_type": "code",
   "execution_count": 83,
   "id": "0ba218be",
   "metadata": {},
   "outputs": [],
   "source": [
    "sr_1 = (\"kunal is banker\")\n",
    "\n",
    "t_1 = (\"kunal\", \"is\", \"banker\")\n",
    "\n",
    "t_2 = (\"kunal\", \"is\", \"banker\", 33, 6.8, True)\n",
    "\n",
    "l_1 = [\"kunal\", \"is\", \"banker\", 33, 6.8, True]\n",
    "\n",
    "s_1  = {\"kunal\", \"is\", \"banker\", 33, 6.8, True}\n",
    "\n",
    "d_1 = { \"name\" : \"kunal\", \"job\" :\"banker\", \"age\" : 33,  \"status\": True }"
   ]
  },
  {
   "cell_type": "code",
   "execution_count": 84,
   "id": "9c72a194",
   "metadata": {},
   "outputs": [
    {
     "data": {
      "text/plain": [
       "str"
      ]
     },
     "execution_count": 84,
     "metadata": {},
     "output_type": "execute_result"
    }
   ],
   "source": [
    "type(sr_1)"
   ]
  },
  {
   "cell_type": "code",
   "execution_count": 85,
   "id": "c9163df2",
   "metadata": {},
   "outputs": [
    {
     "data": {
      "text/plain": [
       "tuple"
      ]
     },
     "execution_count": 85,
     "metadata": {},
     "output_type": "execute_result"
    }
   ],
   "source": [
    "type(t_1)"
   ]
  },
  {
   "cell_type": "code",
   "execution_count": 86,
   "id": "ec750e37",
   "metadata": {},
   "outputs": [
    {
     "data": {
      "text/plain": [
       "tuple"
      ]
     },
     "execution_count": 86,
     "metadata": {},
     "output_type": "execute_result"
    }
   ],
   "source": [
    "type(t_2)"
   ]
  },
  {
   "cell_type": "code",
   "execution_count": 87,
   "id": "c255752c",
   "metadata": {},
   "outputs": [
    {
     "data": {
      "text/plain": [
       "list"
      ]
     },
     "execution_count": 87,
     "metadata": {},
     "output_type": "execute_result"
    }
   ],
   "source": [
    "type(l_1)"
   ]
  },
  {
   "cell_type": "code",
   "execution_count": 88,
   "id": "1a029d58",
   "metadata": {},
   "outputs": [
    {
     "data": {
      "text/plain": [
       "set"
      ]
     },
     "execution_count": 88,
     "metadata": {},
     "output_type": "execute_result"
    }
   ],
   "source": [
    "type(s_1)"
   ]
  },
  {
   "cell_type": "code",
   "execution_count": 89,
   "id": "750a1d16",
   "metadata": {},
   "outputs": [
    {
     "data": {
      "text/plain": [
       "dict"
      ]
     },
     "execution_count": 89,
     "metadata": {},
     "output_type": "execute_result"
    }
   ],
   "source": [
    "type(d_1)"
   ]
  },
  {
   "cell_type": "code",
   "execution_count": 90,
   "id": "8d4ddfb2",
   "metadata": {},
   "outputs": [
    {
     "data": {
      "text/plain": [
       "15"
      ]
     },
     "execution_count": 90,
     "metadata": {},
     "output_type": "execute_result"
    }
   ],
   "source": [
    "len(sr_1)"
   ]
  },
  {
   "cell_type": "code",
   "execution_count": 91,
   "id": "e565c080",
   "metadata": {},
   "outputs": [
    {
     "data": {
      "text/plain": [
       "3"
      ]
     },
     "execution_count": 91,
     "metadata": {},
     "output_type": "execute_result"
    }
   ],
   "source": [
    "len(t_1)"
   ]
  },
  {
   "cell_type": "code",
   "execution_count": 92,
   "id": "4f9b3e02",
   "metadata": {},
   "outputs": [
    {
     "data": {
      "text/plain": [
       "6"
      ]
     },
     "execution_count": 92,
     "metadata": {},
     "output_type": "execute_result"
    }
   ],
   "source": [
    "len(t_2)"
   ]
  },
  {
   "cell_type": "code",
   "execution_count": 93,
   "id": "ff8365a9",
   "metadata": {},
   "outputs": [
    {
     "data": {
      "text/plain": [
       "6"
      ]
     },
     "execution_count": 93,
     "metadata": {},
     "output_type": "execute_result"
    }
   ],
   "source": [
    "len(l_1)"
   ]
  },
  {
   "cell_type": "code",
   "execution_count": 94,
   "id": "78049b2b",
   "metadata": {},
   "outputs": [
    {
     "data": {
      "text/plain": [
       "6"
      ]
     },
     "execution_count": 94,
     "metadata": {},
     "output_type": "execute_result"
    }
   ],
   "source": [
    "len(s_1)"
   ]
  },
  {
   "cell_type": "code",
   "execution_count": 95,
   "id": "df5cbafc",
   "metadata": {},
   "outputs": [
    {
     "data": {
      "text/plain": [
       "4"
      ]
     },
     "execution_count": 95,
     "metadata": {},
     "output_type": "execute_result"
    }
   ],
   "source": [
    "len(d_1)"
   ]
  },
  {
   "cell_type": "code",
   "execution_count": null,
   "id": "fa34dea5",
   "metadata": {},
   "outputs": [],
   "source": []
  }
 ],
 "metadata": {
  "kernelspec": {
   "display_name": "Python 3 (ipykernel)",
   "language": "python",
   "name": "python3"
  },
  "language_info": {
   "codemirror_mode": {
    "name": "ipython",
    "version": 3
   },
   "file_extension": ".py",
   "mimetype": "text/x-python",
   "name": "python",
   "nbconvert_exporter": "python",
   "pygments_lexer": "ipython3",
   "version": "3.10.10"
  }
 },
 "nbformat": 4,
 "nbformat_minor": 5
}
