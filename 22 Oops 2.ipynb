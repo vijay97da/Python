{
 "cells": [
  {
   "cell_type": "code",
   "execution_count": 1,
   "id": "07da2338",
   "metadata": {},
   "outputs": [],
   "source": [
    "class ineuron:\n",
    "    def student(self):\n",
    "        print(\"print the details of all the students\")\n",
    "    def achivers(self):\n",
    "        print(\"print the list of all the achiver \")\n",
    "    def hall_of_fame(self):\n",
    "        print(\"print everyone form hall of fame \")\n",
    "\n",
    "\n",
    "\n",
    "class ineuron_vision(ineuron):\n",
    "\n",
    "    def student(self):      #override method\n",
    "        print(\"these are the filters student list \")"
   ]
  },
  {
   "cell_type": "code",
   "execution_count": 3,
   "id": "2d3b9610",
   "metadata": {},
   "outputs": [],
   "source": [
    "obj1 = ineuron()"
   ]
  },
  {
   "cell_type": "code",
   "execution_count": 5,
   "id": "548986fd",
   "metadata": {},
   "outputs": [
    {
     "name": "stdout",
     "output_type": "stream",
     "text": [
      "print everyone form hall of fame \n"
     ]
    }
   ],
   "source": [
    "obj1.hall_of_fame()"
   ]
  },
  {
   "cell_type": "code",
   "execution_count": 7,
   "id": "4b4e6bb7",
   "metadata": {},
   "outputs": [],
   "source": [
    "obj2= ineuron_vision()"
   ]
  },
  {
   "cell_type": "code",
   "execution_count": 8,
   "id": "c8fba44d",
   "metadata": {},
   "outputs": [
    {
     "name": "stdout",
     "output_type": "stream",
     "text": [
      "print everyone form hall of fame \n"
     ]
    }
   ],
   "source": [
    "obj2.hall_of_fame()"
   ]
  },
  {
   "cell_type": "code",
   "execution_count": 9,
   "id": "769b8486",
   "metadata": {},
   "outputs": [
    {
     "name": "stdout",
     "output_type": "stream",
     "text": [
      "print the details of all the students\n"
     ]
    }
   ],
   "source": [
    "obj1.student()"
   ]
  },
  {
   "cell_type": "code",
   "execution_count": 10,
   "id": "ca01af10",
   "metadata": {},
   "outputs": [
    {
     "name": "stdout",
     "output_type": "stream",
     "text": [
      "these are the filters student list \n"
     ]
    }
   ],
   "source": [
    "obj2.student()"
   ]
  },
  {
   "cell_type": "code",
   "execution_count": null,
   "id": "7af50d0a",
   "metadata": {},
   "outputs": [],
   "source": [
    "**************************************************************"
   ]
  },
  {
   "cell_type": "code",
   "execution_count": 13,
   "id": "ba5b054a",
   "metadata": {},
   "outputs": [],
   "source": [
    "class ineuron:\n",
    "    __students = \"data science\"       #data abstraction \n",
    "\n",
    "    def studetns(self):\n",
    "        print(ineuron.__students)\n",
    "\n",
    " "
   ]
  },
  {
   "cell_type": "code",
   "execution_count": 14,
   "id": "8b204b14",
   "metadata": {},
   "outputs": [
    {
     "name": "stdout",
     "output_type": "stream",
     "text": [
      "data science\n"
     ]
    },
    {
     "ename": "AttributeError",
     "evalue": "'ineuron' object has no attribute '__students'",
     "output_type": "error",
     "traceback": [
      "\u001b[1;31m---------------------------------------------------------------------------\u001b[0m",
      "\u001b[1;31mAttributeError\u001b[0m                            Traceback (most recent call last)",
      "Cell \u001b[1;32mIn[14], line 3\u001b[0m\n\u001b[0;32m      1\u001b[0m i \u001b[38;5;241m=\u001b[39m ineuron()\n\u001b[0;32m      2\u001b[0m i\u001b[38;5;241m.\u001b[39mstudetns()\n\u001b[1;32m----> 3\u001b[0m \u001b[38;5;28mprint\u001b[39m(i\u001b[38;5;241m.\u001b[39m__students)\n",
      "\u001b[1;31mAttributeError\u001b[0m: 'ineuron' object has no attribute '__students'"
     ]
    }
   ],
   "source": [
    "i = ineuron()\n",
    "i.studetns()\n",
    "print(i.__students)"
   ]
  },
  {
   "cell_type": "code",
   "execution_count": 15,
   "id": "34a87173",
   "metadata": {},
   "outputs": [
    {
     "name": "stdout",
     "output_type": "stream",
     "text": [
      "data science\n",
      "data science\n"
     ]
    }
   ],
   "source": [
    "i = ineuron()\n",
    "i.studetns()\n",
    "i._ineuron__students\n",
    "print(i._ineuron__students)"
   ]
  },
  {
   "cell_type": "code",
   "execution_count": null,
   "id": "e12c1ba7",
   "metadata": {},
   "outputs": [],
   "source": [
    "*********************************************************"
   ]
  },
  {
   "cell_type": "code",
   "execution_count": 16,
   "id": "af0bbe28",
   "metadata": {},
   "outputs": [],
   "source": [
    "class ineuron:                      # encpsulation \n",
    "    def __init__(self):\n",
    "        self.students1 = \"data science\"\n",
    "\n",
    "    def students(self):\n",
    "        print(self.students1)\n",
    "\n",
    "\n",
    "\n",
    "class ineuron1:\n",
    "    def __init__(self):\n",
    "        self.__students1 = \"data science \"\n",
    "\n",
    "    def students(self):\n",
    "        print(self.__students1)\n",
    "        \n",
    "    def student_change(self,new_value):\n",
    "        self.__students1 = new_value\n"
   ]
  },
  {
   "cell_type": "code",
   "execution_count": 18,
   "id": "25f20fa3",
   "metadata": {},
   "outputs": [
    {
     "name": "stdout",
     "output_type": "stream",
     "text": [
      "data science\n"
     ]
    }
   ],
   "source": [
    "i = ineuron()\n",
    "i.students()\n"
   ]
  },
  {
   "cell_type": "code",
   "execution_count": 19,
   "id": "7dd40a9d",
   "metadata": {},
   "outputs": [
    {
     "name": "stdout",
     "output_type": "stream",
     "text": [
      "data analytics\n"
     ]
    }
   ],
   "source": [
    "i.students1 = \"data analytics\"\n",
    "i.students()"
   ]
  },
  {
   "cell_type": "code",
   "execution_count": 20,
   "id": "aa6fd42c",
   "metadata": {},
   "outputs": [],
   "source": [
    "var = \"name\""
   ]
  },
  {
   "cell_type": "code",
   "execution_count": 21,
   "id": "2931bede",
   "metadata": {},
   "outputs": [],
   "source": [
    "var = \"name2\""
   ]
  },
  {
   "cell_type": "code",
   "execution_count": 22,
   "id": "eca49ae3",
   "metadata": {},
   "outputs": [],
   "source": [
    "i1 = ineuron1()"
   ]
  },
  {
   "cell_type": "code",
   "execution_count": 24,
   "id": "5a8bfc21",
   "metadata": {},
   "outputs": [
    {
     "name": "stdout",
     "output_type": "stream",
     "text": [
      "data science \n"
     ]
    }
   ],
   "source": [
    "i1.students()"
   ]
  },
  {
   "cell_type": "code",
   "execution_count": 25,
   "id": "b1834214",
   "metadata": {},
   "outputs": [],
   "source": [
    "i1.__students1 = \"big data\""
   ]
  },
  {
   "cell_type": "code",
   "execution_count": 26,
   "id": "7cc69f0f",
   "metadata": {},
   "outputs": [
    {
     "name": "stdout",
     "output_type": "stream",
     "text": [
      "data science \n"
     ]
    }
   ],
   "source": [
    "i1.students()"
   ]
  },
  {
   "cell_type": "code",
   "execution_count": 27,
   "id": "c219726c",
   "metadata": {},
   "outputs": [
    {
     "name": "stdout",
     "output_type": "stream",
     "text": [
      "sudhanshu\n"
     ]
    }
   ],
   "source": [
    "i1.student_change(\"sudhanshu\")\n",
    "i1.students()"
   ]
  },
  {
   "cell_type": "code",
   "execution_count": null,
   "id": "ce2df232",
   "metadata": {},
   "outputs": [],
   "source": [
    "*************************************************************"
   ]
  },
  {
   "cell_type": "code",
   "execution_count": 29,
   "id": "9dfdcf88",
   "metadata": {},
   "outputs": [],
   "source": [
    "class ineuron:                      #polymorphism\n",
    "    def students(self):\n",
    "        print(\"print a students details \")\n",
    "\n",
    "class class_type :\n",
    "    def students(self):\n",
    "        print(\"print the class type of students\")\n",
    "\n",
    "def ineuron_external(a):\n",
    "    a.students()\n"
   ]
  },
  {
   "cell_type": "code",
   "execution_count": 35,
   "id": "d3cda64c",
   "metadata": {},
   "outputs": [
    {
     "name": "stdout",
     "output_type": "stream",
     "text": [
      "7\n",
      "sudhanshukumar\n"
     ]
    }
   ],
   "source": [
    "def test(a,b):\n",
    "    return a+b\n",
    "print(test(3,4))\n",
    "print(test(\"sudhanshu\" ,\"kumar\"))"
   ]
  },
  {
   "cell_type": "code",
   "execution_count": 30,
   "id": "d1b072b3",
   "metadata": {},
   "outputs": [],
   "source": [
    "i =ineuron()\n",
    "j = class_type()"
   ]
  },
  {
   "cell_type": "code",
   "execution_count": null,
   "id": "20ce909a",
   "metadata": {},
   "outputs": [],
   "source": [
    "ineuron_external(i)\n",
    "ineuron_external(j)"
   ]
  },
  {
   "cell_type": "code",
   "execution_count": 31,
   "id": "79e17c61",
   "metadata": {},
   "outputs": [
    {
     "name": "stdout",
     "output_type": "stream",
     "text": [
      "print a students details \n"
     ]
    }
   ],
   "source": [
    "i.students()"
   ]
  },
  {
   "cell_type": "code",
   "execution_count": 32,
   "id": "8d9aaf0a",
   "metadata": {},
   "outputs": [
    {
     "name": "stdout",
     "output_type": "stream",
     "text": [
      "print the class type of students\n"
     ]
    }
   ],
   "source": [
    "j.students()"
   ]
  },
  {
   "cell_type": "code",
   "execution_count": 33,
   "id": "57b07571",
   "metadata": {},
   "outputs": [
    {
     "name": "stdout",
     "output_type": "stream",
     "text": [
      "print a students details \n"
     ]
    }
   ],
   "source": [
    "ineuron_external(i)"
   ]
  },
  {
   "cell_type": "code",
   "execution_count": 34,
   "id": "9491e036",
   "metadata": {},
   "outputs": [
    {
     "name": "stdout",
     "output_type": "stream",
     "text": [
      "print the class type of students\n"
     ]
    }
   ],
   "source": [
    "ineuron_external(j)"
   ]
  },
  {
   "cell_type": "code",
   "execution_count": null,
   "id": "60dc5712",
   "metadata": {},
   "outputs": [],
   "source": []
  },
  {
   "cell_type": "code",
   "execution_count": null,
   "id": "1af96e14",
   "metadata": {},
   "outputs": [],
   "source": [
    "class         = attribute\n",
    "__init__      = constructor\n",
    "self          = pointer\n",
    "def           = method\n",
    "object        = to call the class\n",
    "public        = normal variable\n",
    "private       = private variable _name\n",
    "protective    = protective variable __name\n",
    "inheritence   = parent and child class\n",
    "multilevel    = class child(perent), class grandchild(child)\n",
    "multiple      = class perent, class child, class gchild(perent, child)\n",
    "method override = \n",
    "data abstraction = hide a variable behind class\n",
    "encapsulation = variable update\n",
    "polymorphism  = we can use class method inside any outer user define method"
   ]
  },
  {
   "cell_type": "code",
   "execution_count": null,
   "id": "1c1578f8",
   "metadata": {},
   "outputs": [],
   "source": []
  }
 ],
 "metadata": {
  "kernelspec": {
   "display_name": "Python 3 (ipykernel)",
   "language": "python",
   "name": "python3"
  },
  "language_info": {
   "codemirror_mode": {
    "name": "ipython",
    "version": 3
   },
   "file_extension": ".py",
   "mimetype": "text/x-python",
   "name": "python",
   "nbconvert_exporter": "python",
   "pygments_lexer": "ipython3",
   "version": "3.11.5"
  }
 },
 "nbformat": 4,
 "nbformat_minor": 5
}
