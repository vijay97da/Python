{
 "cells": [
  {
   "cell_type": "code",
   "execution_count": null,
   "id": "eaa949cd",
   "metadata": {},
   "outputs": [],
   "source": []
  },
  {
   "cell_type": "code",
   "execution_count": 1,
   "id": "7ca929a5",
   "metadata": {},
   "outputs": [
    {
     "name": "stdout",
     "output_type": "stream",
     "text": [
      "hello python\n"
     ]
    }
   ],
   "source": [
    "print(\"hello python\") "
   ]
  },
  {
   "cell_type": "code",
   "execution_count": null,
   "id": "c3443a5a",
   "metadata": {},
   "outputs": [],
   "source": []
  },
  {
   "cell_type": "code",
   "execution_count": null,
   "id": "61288b5a",
   "metadata": {},
   "outputs": [],
   "source": []
  },
  {
   "cell_type": "code",
   "execution_count": 2,
   "id": "16798cbf",
   "metadata": {},
   "outputs": [
    {
     "ename": "NameError",
     "evalue": "name 'chinikesh' is not defined",
     "output_type": "error",
     "traceback": [
      "\u001b[1;31m---------------------------------------------------------------------------\u001b[0m",
      "\u001b[1;31mNameError\u001b[0m                                 Traceback (most recent call last)",
      "Cell \u001b[1;32mIn[2], line 1\u001b[0m\n\u001b[1;32m----> 1\u001b[0m \u001b[38;5;28mprint\u001b[39m(\u001b[43mchinikesh\u001b[49m)\n",
      "\u001b[1;31mNameError\u001b[0m: name 'chinikesh' is not defined"
     ]
    }
   ],
   "source": [
    "print(chinikesh)"
   ]
  },
  {
   "cell_type": "code",
   "execution_count": 3,
   "id": "5f496f6d",
   "metadata": {},
   "outputs": [
    {
     "name": "stdout",
     "output_type": "stream",
     "text": [
      "vijay\n"
     ]
    }
   ],
   "source": [
    "print('vijay')"
   ]
  },
  {
   "cell_type": "code",
   "execution_count": 4,
   "id": "8f1e672f",
   "metadata": {},
   "outputs": [
    {
     "name": "stdout",
     "output_type": "stream",
     "text": [
      "2 3 4\n"
     ]
    }
   ],
   "source": [
    "print(2,3,4)"
   ]
  },
  {
   "cell_type": "code",
   "execution_count": 5,
   "id": "44e8d778",
   "metadata": {},
   "outputs": [
    {
     "name": "stdout",
     "output_type": "stream",
     "text": [
      "34\n"
     ]
    }
   ],
   "source": [
    "print(\"34\")"
   ]
  },
  {
   "cell_type": "markdown",
   "id": "8ef2395e",
   "metadata": {},
   "source": [
    "# data types:----"
   ]
  },
  {
   "cell_type": "code",
   "execution_count": null,
   "id": "e3de24b8",
   "metadata": {},
   "outputs": [],
   "source": [
    "string = a to z\n",
    "\n",
    "integer = 0 - 9\n",
    "\n",
    "float = 4.0, 5.5\n",
    "\n",
    "complex = 45 + 8j\n",
    "\n",
    "boolen = True / False\n",
    "\n",
    "str = (\"hello python\")\n",
    "\n",
    "list = [4,5,2.5, \"hello\", 45+8j, True]\n",
    "\n",
    "tuple = ( 3,5,\"python\", False )\n",
    "\n",
    "set = {4,6.7, \"language\"}\n",
    "\n",
    "dict = { \"a\": 1, \"b\": 2, \"c\": 3 }"
   ]
  },
  {
   "cell_type": "code",
   "execution_count": 10,
   "id": "16a15569",
   "metadata": {},
   "outputs": [],
   "source": [
    "str = (\"hello python\")"
   ]
  },
  {
   "cell_type": "code",
   "execution_count": 11,
   "id": "be4be574",
   "metadata": {},
   "outputs": [],
   "source": [
    "name =  ( \"chinikesh\", \"vijay\", \"mayuri\" )"
   ]
  },
  {
   "cell_type": "code",
   "execution_count": 12,
   "id": "855ff0d3",
   "metadata": {},
   "outputs": [],
   "source": [
    "name_1 = \"vijay\""
   ]
  },
  {
   "cell_type": "code",
   "execution_count": 13,
   "id": "b3fc4502",
   "metadata": {},
   "outputs": [
    {
     "data": {
      "text/plain": [
       "('chinikesh', 'vijay', 'mayuri')"
      ]
     },
     "execution_count": 13,
     "metadata": {},
     "output_type": "execute_result"
    }
   ],
   "source": [
    "name"
   ]
  },
  {
   "cell_type": "code",
   "execution_count": 14,
   "id": "09a0dca8",
   "metadata": {},
   "outputs": [
    {
     "name": "stdout",
     "output_type": "stream",
     "text": [
      "('chinikesh', 'vijay', 'mayuri')\n"
     ]
    }
   ],
   "source": [
    "print(name)"
   ]
  },
  {
   "cell_type": "code",
   "execution_count": 15,
   "id": "35e82a01",
   "metadata": {},
   "outputs": [
    {
     "data": {
      "text/plain": [
       "'vijay'"
      ]
     },
     "execution_count": 15,
     "metadata": {},
     "output_type": "execute_result"
    }
   ],
   "source": [
    "name_1"
   ]
  },
  {
   "cell_type": "code",
   "execution_count": 16,
   "id": "1c3ea9ca",
   "metadata": {},
   "outputs": [],
   "source": [
    "name_1 = \"mayuri\""
   ]
  },
  {
   "cell_type": "code",
   "execution_count": 17,
   "id": "a1ae4c22",
   "metadata": {},
   "outputs": [
    {
     "data": {
      "text/plain": [
       "'mayuri'"
      ]
     },
     "execution_count": 17,
     "metadata": {},
     "output_type": "execute_result"
    }
   ],
   "source": [
    "name_1"
   ]
  },
  {
   "cell_type": "code",
   "execution_count": 18,
   "id": "10d7cb57",
   "metadata": {},
   "outputs": [
    {
     "ename": "SyntaxError",
     "evalue": "invalid decimal literal (1463689165.py, line 1)",
     "output_type": "error",
     "traceback": [
      "\u001b[1;36m  Cell \u001b[1;32mIn[18], line 1\u001b[1;36m\u001b[0m\n\u001b[1;33m    1_name = \"nikita\"\u001b[0m\n\u001b[1;37m     ^\u001b[0m\n\u001b[1;31mSyntaxError\u001b[0m\u001b[1;31m:\u001b[0m invalid decimal literal\n"
     ]
    }
   ],
   "source": [
    "1_name = \"nikita\""
   ]
  },
  {
   "cell_type": "code",
   "execution_count": 19,
   "id": "245e94a7",
   "metadata": {},
   "outputs": [],
   "source": [
    "name1 = \"jashmin\""
   ]
  },
  {
   "cell_type": "code",
   "execution_count": 20,
   "id": "fa5fce07",
   "metadata": {},
   "outputs": [],
   "source": [
    "a_b = \"aarti\""
   ]
  },
  {
   "cell_type": "code",
   "execution_count": 21,
   "id": "502a5b48",
   "metadata": {},
   "outputs": [
    {
     "ename": "SyntaxError",
     "evalue": "invalid syntax (2278956913.py, line 1)",
     "output_type": "error",
     "traceback": [
      "\u001b[1;36m  Cell \u001b[1;32mIn[21], line 1\u001b[1;36m\u001b[0m\n\u001b[1;33m    name_@ = \"pratiksha\"\u001b[0m\n\u001b[1;37m           ^\u001b[0m\n\u001b[1;31mSyntaxError\u001b[0m\u001b[1;31m:\u001b[0m invalid syntax\n"
     ]
    }
   ],
   "source": [
    "name_@ = \"pratiksha\""
   ]
  },
  {
   "cell_type": "code",
   "execution_count": 22,
   "id": "f72906cc",
   "metadata": {},
   "outputs": [],
   "source": [
    "_ = \"megha\""
   ]
  },
  {
   "cell_type": "code",
   "execution_count": 23,
   "id": "9ae858c7",
   "metadata": {},
   "outputs": [
    {
     "ename": "SyntaxError",
     "evalue": "invalid syntax (3553881069.py, line 1)",
     "output_type": "error",
     "traceback": [
      "\u001b[1;36m  Cell \u001b[1;32mIn[23], line 1\u001b[1;36m\u001b[0m\n\u001b[1;33m    & = \"manisha\"\u001b[0m\n\u001b[1;37m    ^\u001b[0m\n\u001b[1;31mSyntaxError\u001b[0m\u001b[1;31m:\u001b[0m invalid syntax\n"
     ]
    }
   ],
   "source": [
    "& = \"manisha\""
   ]
  },
  {
   "cell_type": "code",
   "execution_count": 26,
   "id": "609ab685",
   "metadata": {},
   "outputs": [],
   "source": [
    "#variable name can be only string, _, int. str will be used first and then use _, int"
   ]
  },
  {
   "cell_type": "code",
   "execution_count": 27,
   "id": "8e1f43c6",
   "metadata": {},
   "outputs": [],
   "source": [
    "_3 = \"vijay\""
   ]
  },
  {
   "cell_type": "code",
   "execution_count": 29,
   "id": "3f290e9a",
   "metadata": {},
   "outputs": [],
   "source": [
    "std_name = \" student\""
   ]
  },
  {
   "cell_type": "code",
   "execution_count": null,
   "id": "a2a6c4f7",
   "metadata": {},
   "outputs": [],
   "source": []
  },
  {
   "cell_type": "code",
   "execution_count": null,
   "id": "23625d54",
   "metadata": {},
   "outputs": [],
   "source": []
  },
  {
   "cell_type": "code",
   "execution_count": 6,
   "id": "4b139108",
   "metadata": {},
   "outputs": [
    {
     "ename": "NameError",
     "evalue": "name 'string' is not defined",
     "output_type": "error",
     "traceback": [
      "\u001b[1;31m---------------------------------------------------------------------------\u001b[0m",
      "\u001b[1;31mNameError\u001b[0m                                 Traceback (most recent call last)",
      "Cell \u001b[1;32mIn[6], line 1\u001b[0m\n\u001b[1;32m----> 1\u001b[0m \u001b[38;5;28mtype\u001b[39m(\u001b[43mstring\u001b[49m)\n",
      "\u001b[1;31mNameError\u001b[0m: name 'string' is not defined"
     ]
    }
   ],
   "source": []
  },
  {
   "cell_type": "code",
   "execution_count": null,
   "id": "aced5e9e",
   "metadata": {},
   "outputs": [],
   "source": []
  }
 ],
 "metadata": {
  "kernelspec": {
   "display_name": "Python 3 (ipykernel)",
   "language": "python",
   "name": "python3"
  },
  "language_info": {
   "codemirror_mode": {
    "name": "ipython",
    "version": 3
   },
   "file_extension": ".py",
   "mimetype": "text/x-python",
   "name": "python",
   "nbconvert_exporter": "python",
   "pygments_lexer": "ipython3",
   "version": "3.10.10"
  }
 },
 "nbformat": 4,
 "nbformat_minor": 5
}
