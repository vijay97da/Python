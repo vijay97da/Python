{
 "cells": [
  {
   "cell_type": "code",
   "execution_count": 1,
   "id": "ce250da5",
   "metadata": {},
   "outputs": [
    {
     "data": {
      "text/plain": [
       "[1, 2, 3, 4, 5]"
      ]
     },
     "execution_count": 1,
     "metadata": {},
     "output_type": "execute_result"
    }
   ],
   "source": [
    "my_list = [1 , 2, 3, 4, 5]\n",
    "my_list"
   ]
  },
  {
   "cell_type": "code",
   "execution_count": 2,
   "id": "ee381945",
   "metadata": {},
   "outputs": [
    {
     "data": {
      "text/plain": [
       "['__add__',\n",
       " '__class__',\n",
       " '__class_getitem__',\n",
       " '__contains__',\n",
       " '__delattr__',\n",
       " '__delitem__',\n",
       " '__dir__',\n",
       " '__doc__',\n",
       " '__eq__',\n",
       " '__format__',\n",
       " '__ge__',\n",
       " '__getattribute__',\n",
       " '__getitem__',\n",
       " '__getstate__',\n",
       " '__gt__',\n",
       " '__hash__',\n",
       " '__iadd__',\n",
       " '__imul__',\n",
       " '__init__',\n",
       " '__init_subclass__',\n",
       " '__iter__',\n",
       " '__le__',\n",
       " '__len__',\n",
       " '__lt__',\n",
       " '__mul__',\n",
       " '__ne__',\n",
       " '__new__',\n",
       " '__reduce__',\n",
       " '__reduce_ex__',\n",
       " '__repr__',\n",
       " '__reversed__',\n",
       " '__rmul__',\n",
       " '__setattr__',\n",
       " '__setitem__',\n",
       " '__sizeof__',\n",
       " '__str__',\n",
       " '__subclasshook__',\n",
       " 'append',\n",
       " 'clear',\n",
       " 'copy',\n",
       " 'count',\n",
       " 'extend',\n",
       " 'index',\n",
       " 'insert',\n",
       " 'pop',\n",
       " 'remove',\n",
       " 'reverse',\n",
       " 'sort']"
      ]
     },
     "execution_count": 2,
     "metadata": {},
     "output_type": "execute_result"
    }
   ],
   "source": [
    "dir(list)"
   ]
  },
  {
   "cell_type": "code",
   "execution_count": 3,
   "id": "3020cfe5",
   "metadata": {},
   "outputs": [],
   "source": [
    "my_list.append(6)"
   ]
  },
  {
   "cell_type": "code",
   "execution_count": 6,
   "id": "d2430661",
   "metadata": {},
   "outputs": [],
   "source": [
    "my_list.append(7)"
   ]
  },
  {
   "cell_type": "code",
   "execution_count": 7,
   "id": "6ff59571",
   "metadata": {},
   "outputs": [
    {
     "data": {
      "text/plain": [
       "[1, 2, 3, 4, 5, 6, 7, 7]"
      ]
     },
     "execution_count": 7,
     "metadata": {},
     "output_type": "execute_result"
    }
   ],
   "source": [
    "my_list"
   ]
  },
  {
   "cell_type": "code",
   "execution_count": 8,
   "id": "9b7db43f",
   "metadata": {},
   "outputs": [],
   "source": [
    "empty_list = []"
   ]
  },
  {
   "cell_type": "code",
   "execution_count": 17,
   "id": "50deb599",
   "metadata": {},
   "outputs": [],
   "source": [
    "empty_list.append([5,7,8,0])"
   ]
  },
  {
   "cell_type": "code",
   "execution_count": 18,
   "id": "fd6f9d47",
   "metadata": {},
   "outputs": [
    {
     "data": {
      "text/plain": [
       "[1, 2, 2, 'py', [5, 7, 8, 0]]"
      ]
     },
     "execution_count": 18,
     "metadata": {},
     "output_type": "execute_result"
    }
   ],
   "source": [
    "empty_list"
   ]
  },
  {
   "cell_type": "code",
   "execution_count": 21,
   "id": "8d5e7e43",
   "metadata": {},
   "outputs": [],
   "source": [
    "my_list.extend([6])"
   ]
  },
  {
   "cell_type": "code",
   "execution_count": 23,
   "id": "0d89c4d7",
   "metadata": {},
   "outputs": [],
   "source": [
    "my_list.extend([4,5,6,7,8])"
   ]
  },
  {
   "cell_type": "code",
   "execution_count": 24,
   "id": "0b4ee917",
   "metadata": {},
   "outputs": [
    {
     "data": {
      "text/plain": [
       "[1, 2, 3, 4, 5, 6, 7, 7, 6, 4, 5, 6, 7, 8]"
      ]
     },
     "execution_count": 24,
     "metadata": {},
     "output_type": "execute_result"
    }
   ],
   "source": [
    "my_list"
   ]
  },
  {
   "cell_type": "code",
   "execution_count": 26,
   "id": "141309d2",
   "metadata": {},
   "outputs": [],
   "source": [
    "my_list.insert(3, 5)"
   ]
  },
  {
   "cell_type": "code",
   "execution_count": 27,
   "id": "b38d4b24",
   "metadata": {},
   "outputs": [
    {
     "data": {
      "text/plain": [
       "[1, 2, 3, 5, 4, 5, 6, 7, 7, 6, 4, 5, 6, 7, 8]"
      ]
     },
     "execution_count": 27,
     "metadata": {},
     "output_type": "execute_result"
    }
   ],
   "source": [
    "my_list"
   ]
  },
  {
   "cell_type": "code",
   "execution_count": 28,
   "id": "c7613a24",
   "metadata": {},
   "outputs": [
    {
     "data": {
      "text/plain": [
       "3"
      ]
     },
     "execution_count": 28,
     "metadata": {},
     "output_type": "execute_result"
    }
   ],
   "source": [
    "my_list.count(7)"
   ]
  },
  {
   "cell_type": "code",
   "execution_count": 29,
   "id": "cf8f401c",
   "metadata": {},
   "outputs": [
    {
     "data": {
      "text/plain": [
       "3"
      ]
     },
     "execution_count": 29,
     "metadata": {},
     "output_type": "execute_result"
    }
   ],
   "source": [
    "my_list.count(5)"
   ]
  },
  {
   "cell_type": "code",
   "execution_count": 31,
   "id": "78e38893",
   "metadata": {},
   "outputs": [
    {
     "data": {
      "text/plain": [
       "7"
      ]
     },
     "execution_count": 31,
     "metadata": {},
     "output_type": "execute_result"
    }
   ],
   "source": [
    "my_list.index(7)"
   ]
  },
  {
   "cell_type": "code",
   "execution_count": 34,
   "id": "9b3a9f39",
   "metadata": {},
   "outputs": [
    {
     "data": {
      "text/plain": [
       "[3, 4, 6, 7]"
      ]
     },
     "execution_count": 34,
     "metadata": {},
     "output_type": "execute_result"
    }
   ],
   "source": [
    "my_list[2:10:2]"
   ]
  },
  {
   "cell_type": "code",
   "execution_count": 35,
   "id": "c7f371a7",
   "metadata": {},
   "outputs": [
    {
     "data": {
      "text/plain": [
       "[8, 7, 6, 5, 4, 6, 7, 7, 6, 5, 4, 5, 3, 2, 1]"
      ]
     },
     "execution_count": 35,
     "metadata": {},
     "output_type": "execute_result"
    }
   ],
   "source": [
    "my_list[::-1]"
   ]
  },
  {
   "cell_type": "code",
   "execution_count": 36,
   "id": "d7a81e7a",
   "metadata": {},
   "outputs": [
    {
     "data": {
      "text/plain": [
       "[8, 6, 4, 7, 6, 4, 3, 1]"
      ]
     },
     "execution_count": 36,
     "metadata": {},
     "output_type": "execute_result"
    }
   ],
   "source": [
    "my_list[::-2]"
   ]
  },
  {
   "cell_type": "code",
   "execution_count": 37,
   "id": "cbc8e1ce",
   "metadata": {},
   "outputs": [
    {
     "data": {
      "text/plain": [
       "[1, 2, 3, 5, 4, 5, 6, 7, 7, 6, 4, 5, 6, 7, 8]"
      ]
     },
     "execution_count": 37,
     "metadata": {},
     "output_type": "execute_result"
    }
   ],
   "source": [
    "my_list[::1]"
   ]
  },
  {
   "cell_type": "code",
   "execution_count": 38,
   "id": "64154761",
   "metadata": {},
   "outputs": [
    {
     "data": {
      "text/plain": [
       "8"
      ]
     },
     "execution_count": 38,
     "metadata": {},
     "output_type": "execute_result"
    }
   ],
   "source": [
    "my_list.pop()"
   ]
  },
  {
   "cell_type": "code",
   "execution_count": 41,
   "id": "d7b43f7a",
   "metadata": {},
   "outputs": [
    {
     "data": {
      "text/plain": [
       "6"
      ]
     },
     "execution_count": 41,
     "metadata": {},
     "output_type": "execute_result"
    }
   ],
   "source": [
    "my_list.pop()"
   ]
  },
  {
   "cell_type": "code",
   "execution_count": 44,
   "id": "63e11efb",
   "metadata": {},
   "outputs": [
    {
     "data": {
      "text/plain": [
       "[1, 2, 3, 5, 4, 6, 7, 7, 6, 4, 5]"
      ]
     },
     "execution_count": 44,
     "metadata": {},
     "output_type": "execute_result"
    }
   ],
   "source": [
    "my_list"
   ]
  },
  {
   "cell_type": "code",
   "execution_count": 43,
   "id": "f4e2849f",
   "metadata": {},
   "outputs": [
    {
     "data": {
      "text/plain": [
       "5"
      ]
     },
     "execution_count": 43,
     "metadata": {},
     "output_type": "execute_result"
    }
   ],
   "source": [
    "my_list.pop(5)"
   ]
  },
  {
   "cell_type": "code",
   "execution_count": 45,
   "id": "e465bbc9",
   "metadata": {},
   "outputs": [
    {
     "data": {
      "text/plain": [
       "7"
      ]
     },
     "execution_count": 45,
     "metadata": {},
     "output_type": "execute_result"
    }
   ],
   "source": [
    "my_list.pop(7)"
   ]
  },
  {
   "cell_type": "code",
   "execution_count": 50,
   "id": "37f38f8a",
   "metadata": {},
   "outputs": [
    {
     "data": {
      "text/plain": [
       "[]"
      ]
     },
     "execution_count": 50,
     "metadata": {},
     "output_type": "execute_result"
    }
   ],
   "source": [
    "my_list"
   ]
  },
  {
   "cell_type": "code",
   "execution_count": 47,
   "id": "330c3703",
   "metadata": {},
   "outputs": [],
   "source": [
    "my_list.clear()"
   ]
  },
  {
   "cell_type": "code",
   "execution_count": 49,
   "id": "b9bc80d8",
   "metadata": {},
   "outputs": [
    {
     "data": {
      "text/plain": [
       "[]"
      ]
     },
     "execution_count": 49,
     "metadata": {},
     "output_type": "execute_result"
    }
   ],
   "source": [
    "my_list"
   ]
  },
  {
   "cell_type": "code",
   "execution_count": 58,
   "id": "5e53c0e8",
   "metadata": {},
   "outputs": [],
   "source": [
    "my_list = [1 , 2, 3, 4, 5]"
   ]
  },
  {
   "cell_type": "code",
   "execution_count": 53,
   "id": "2ff3455f",
   "metadata": {},
   "outputs": [],
   "source": [
    "my_list.clear()"
   ]
  },
  {
   "cell_type": "code",
   "execution_count": 54,
   "id": "936c45af",
   "metadata": {},
   "outputs": [
    {
     "data": {
      "text/plain": [
       "[]"
      ]
     },
     "execution_count": 54,
     "metadata": {},
     "output_type": "execute_result"
    }
   ],
   "source": [
    "my_list"
   ]
  },
  {
   "cell_type": "code",
   "execution_count": 59,
   "id": "a84fe860",
   "metadata": {},
   "outputs": [],
   "source": [
    "my_list.remove(3)"
   ]
  },
  {
   "cell_type": "code",
   "execution_count": 60,
   "id": "07be763e",
   "metadata": {},
   "outputs": [
    {
     "data": {
      "text/plain": [
       "[1, 2, 4, 5]"
      ]
     },
     "execution_count": 60,
     "metadata": {},
     "output_type": "execute_result"
    }
   ],
   "source": [
    "my_list"
   ]
  },
  {
   "cell_type": "code",
   "execution_count": 62,
   "id": "6189e7ce",
   "metadata": {},
   "outputs": [],
   "source": [
    "new_list = my_list.copy()"
   ]
  },
  {
   "cell_type": "code",
   "execution_count": 63,
   "id": "35e66c2c",
   "metadata": {},
   "outputs": [
    {
     "data": {
      "text/plain": [
       "[1, 2, 4, 5]"
      ]
     },
     "execution_count": 63,
     "metadata": {},
     "output_type": "execute_result"
    }
   ],
   "source": [
    "new_list"
   ]
  },
  {
   "cell_type": "code",
   "execution_count": 64,
   "id": "ba782b3d",
   "metadata": {},
   "outputs": [],
   "source": [
    "my_list.reverse()"
   ]
  },
  {
   "cell_type": "code",
   "execution_count": 66,
   "id": "031f6cd1",
   "metadata": {},
   "outputs": [
    {
     "data": {
      "text/plain": [
       "[5, 4, 2, 1]"
      ]
     },
     "execution_count": 66,
     "metadata": {},
     "output_type": "execute_result"
    }
   ],
   "source": [
    "my_list"
   ]
  },
  {
   "cell_type": "code",
   "execution_count": 67,
   "id": "2a4afb67",
   "metadata": {},
   "outputs": [],
   "source": [
    "my_list.sort()"
   ]
  },
  {
   "cell_type": "code",
   "execution_count": 68,
   "id": "8efe9694",
   "metadata": {},
   "outputs": [
    {
     "data": {
      "text/plain": [
       "[1, 2, 4, 5]"
      ]
     },
     "execution_count": 68,
     "metadata": {},
     "output_type": "execute_result"
    }
   ],
   "source": [
    "my_list"
   ]
  },
  {
   "cell_type": "code",
   "execution_count": 69,
   "id": "ba96a86e",
   "metadata": {},
   "outputs": [],
   "source": [
    "my_list1 = [2,57,8,3,8,23,89,0,2,6,8,43,7,35,9]"
   ]
  },
  {
   "cell_type": "code",
   "execution_count": 70,
   "id": "3b6d0f4e",
   "metadata": {},
   "outputs": [],
   "source": [
    "my_list1.sort()"
   ]
  },
  {
   "cell_type": "code",
   "execution_count": 71,
   "id": "85768df9",
   "metadata": {},
   "outputs": [
    {
     "data": {
      "text/plain": [
       "[0, 2, 2, 3, 6, 7, 8, 8, 8, 9, 23, 35, 43, 57, 89]"
      ]
     },
     "execution_count": 71,
     "metadata": {},
     "output_type": "execute_result"
    }
   ],
   "source": [
    "my_list1"
   ]
  },
  {
   "cell_type": "code",
   "execution_count": 72,
   "id": "aa20134c",
   "metadata": {},
   "outputs": [],
   "source": [
    "my_list1.sort(reverse=True)"
   ]
  },
  {
   "cell_type": "code",
   "execution_count": 73,
   "id": "0a508751",
   "metadata": {},
   "outputs": [
    {
     "data": {
      "text/plain": [
       "[89, 57, 43, 35, 23, 9, 8, 8, 8, 7, 6, 3, 2, 2, 0]"
      ]
     },
     "execution_count": 73,
     "metadata": {},
     "output_type": "execute_result"
    }
   ],
   "source": [
    "my_list1"
   ]
  },
  {
   "cell_type": "code",
   "execution_count": 75,
   "id": "7fb04c2d",
   "metadata": {},
   "outputs": [
    {
     "data": {
      "text/plain": [
       "5"
      ]
     },
     "execution_count": 75,
     "metadata": {},
     "output_type": "execute_result"
    }
   ],
   "source": [
    "max(my_list)"
   ]
  },
  {
   "cell_type": "code",
   "execution_count": 76,
   "id": "c6461d24",
   "metadata": {},
   "outputs": [
    {
     "data": {
      "text/plain": [
       "0"
      ]
     },
     "execution_count": 76,
     "metadata": {},
     "output_type": "execute_result"
    }
   ],
   "source": [
    "min(my_list1)"
   ]
  },
  {
   "cell_type": "code",
   "execution_count": 77,
   "id": "f7f51248",
   "metadata": {},
   "outputs": [
    {
     "data": {
      "text/plain": [
       "300"
      ]
     },
     "execution_count": 77,
     "metadata": {},
     "output_type": "execute_result"
    }
   ],
   "source": [
    "sum(my_list1)"
   ]
  },
  {
   "cell_type": "code",
   "execution_count": 78,
   "id": "5950d03d",
   "metadata": {},
   "outputs": [],
   "source": [
    "del(my_list1)"
   ]
  },
  {
   "cell_type": "code",
   "execution_count": 79,
   "id": "2a79bf38",
   "metadata": {},
   "outputs": [
    {
     "ename": "NameError",
     "evalue": "name 'my_list1' is not defined",
     "output_type": "error",
     "traceback": [
      "\u001b[1;31m---------------------------------------------------------------------------\u001b[0m",
      "\u001b[1;31mNameError\u001b[0m                                 Traceback (most recent call last)",
      "Cell \u001b[1;32mIn[79], line 1\u001b[0m\n\u001b[1;32m----> 1\u001b[0m my_list1\n",
      "\u001b[1;31mNameError\u001b[0m: name 'my_list1' is not defined"
     ]
    }
   ],
   "source": [
    "my_list1"
   ]
  },
  {
   "cell_type": "code",
   "execution_count": 82,
   "id": "9e6f0e0d",
   "metadata": {},
   "outputs": [
    {
     "data": {
      "text/plain": [
       "[1, 2, 4, 5]"
      ]
     },
     "execution_count": 82,
     "metadata": {},
     "output_type": "execute_result"
    }
   ],
   "source": [
    "my_list"
   ]
  },
  {
   "cell_type": "code",
   "execution_count": 83,
   "id": "e28a58c9",
   "metadata": {},
   "outputs": [
    {
     "data": {
      "text/plain": [
       "True"
      ]
     },
     "execution_count": 83,
     "metadata": {},
     "output_type": "execute_result"
    }
   ],
   "source": [
    "1 in my_list"
   ]
  },
  {
   "cell_type": "code",
   "execution_count": 84,
   "id": "1f605ea5",
   "metadata": {},
   "outputs": [
    {
     "data": {
      "text/plain": [
       "False"
      ]
     },
     "execution_count": 84,
     "metadata": {},
     "output_type": "execute_result"
    }
   ],
   "source": [
    "7 in my_list"
   ]
  },
  {
   "cell_type": "code",
   "execution_count": 85,
   "id": "a5a3bb42",
   "metadata": {},
   "outputs": [
    {
     "data": {
      "text/plain": [
       "False"
      ]
     },
     "execution_count": 85,
     "metadata": {},
     "output_type": "execute_result"
    }
   ],
   "source": [
    "new_list is my_list"
   ]
  },
  {
   "cell_type": "code",
   "execution_count": 86,
   "id": "116fdebc",
   "metadata": {},
   "outputs": [
    {
     "data": {
      "text/plain": [
       "True"
      ]
     },
     "execution_count": 86,
     "metadata": {},
     "output_type": "execute_result"
    }
   ],
   "source": [
    "8 not in my_list"
   ]
  },
  {
   "cell_type": "code",
   "execution_count": 87,
   "id": "d57d68e1",
   "metadata": {},
   "outputs": [
    {
     "data": {
      "text/plain": [
       "[1, 2, 4, 5]"
      ]
     },
     "execution_count": 87,
     "metadata": {},
     "output_type": "execute_result"
    }
   ],
   "source": [
    "my_list"
   ]
  },
  {
   "cell_type": "code",
   "execution_count": 90,
   "id": "7bb8d7e4",
   "metadata": {},
   "outputs": [
    {
     "name": "stdout",
     "output_type": "stream",
     "text": [
      "2\n",
      "3\n",
      "5\n",
      "6\n"
     ]
    }
   ],
   "source": [
    "for i in my_list:\n",
    "    print(i+1)"
   ]
  },
  {
   "cell_type": "code",
   "execution_count": 91,
   "id": "d31f79fd",
   "metadata": {},
   "outputs": [
    {
     "data": {
      "text/plain": [
       "[1, 2, 4, 5]"
      ]
     },
     "execution_count": 91,
     "metadata": {},
     "output_type": "execute_result"
    }
   ],
   "source": [
    "[i for i in my_list]"
   ]
  },
  {
   "cell_type": "code",
   "execution_count": 92,
   "id": "f51e2531",
   "metadata": {},
   "outputs": [],
   "source": [
    "mystr = \"python \""
   ]
  },
  {
   "cell_type": "code",
   "execution_count": 93,
   "id": "5a1b549e",
   "metadata": {},
   "outputs": [
    {
     "data": {
      "text/plain": [
       "['p', 'y', 't', 'h', 'o', 'n', ' ']"
      ]
     },
     "execution_count": 93,
     "metadata": {},
     "output_type": "execute_result"
    }
   ],
   "source": [
    "[i for i in mystr]"
   ]
  },
  {
   "cell_type": "code",
   "execution_count": 94,
   "id": "d790b514",
   "metadata": {},
   "outputs": [
    {
     "data": {
      "text/plain": [
       "[1, 32, 1024, 3125]"
      ]
     },
     "execution_count": 94,
     "metadata": {},
     "output_type": "execute_result"
    }
   ],
   "source": [
    "[i**5 for i in my_list]"
   ]
  },
  {
   "cell_type": "code",
   "execution_count": 96,
   "id": "9677f003",
   "metadata": {},
   "outputs": [
    {
     "name": "stdout",
     "output_type": "stream",
     "text": [
      "Please enter a sentense having more than three words\n",
      "we are learning list comprehension\n",
      "['we', 'are', 'learning', 'list', 'comprehension']\n",
      "Third word of sentence :  learning\n"
     ]
    }
   ],
   "source": [
    "sentence = input(\"Please enter a sentense having more than three words\\n\")\n",
    "\n",
    "list_of_word = sentence.split()\n",
    "print(list_of_word )\n",
    "#(a) Print out the third word of sentence \n",
    "print('Third word of sentence : ', list_of_word[2])\n"
   ]
  },
  {
   "cell_type": "code",
   "execution_count": 100,
   "id": "086bfdd2",
   "metadata": {},
   "outputs": [
    {
     "name": "stdout",
     "output_type": "stream",
     "text": [
      "['learning']\n",
      "learning\n"
     ]
    }
   ],
   "source": [
    "#(b) Print out every third word of sentence\n",
    "new_list = list_of_word[ 2: 3]\n",
    "print(new_list)\n",
    "for word in new_list:\n",
    "        print(word)"
   ]
  },
  {
   "cell_type": "code",
   "execution_count": 101,
   "id": "6d541526",
   "metadata": {},
   "outputs": [
    {
     "name": "stdout",
     "output_type": "stream",
     "text": [
      "Please enter a sentense\n",
      "we are learning list comprehension\n",
      "we      1\n",
      "are      1\n",
      "learning      1\n",
      "list      1\n",
      "comprehension      1\n"
     ]
    }
   ],
   "source": [
    "sentence = input(\"Please enter a sentense\\n\")\n",
    "\n",
    "list_of_word = sentence.split()\n",
    "\n",
    "list_of_unique_words = []\n",
    "count_of_unique_words = []\n",
    "\n",
    "for i in list_of_word:\n",
    "    cnt = list_of_word.count(i)\n",
    "    print(i, \"    \", cnt)"
   ]
  },
  {
   "cell_type": "code",
   "execution_count": 103,
   "id": "d9908a88",
   "metadata": {},
   "outputs": [
    {
     "name": "stdout",
     "output_type": "stream",
     "text": [
      "Please enter a sentense\n",
      "we are learning list comprehension\n",
      "we = 1. are = 1. learning = 1. list = 1. comprehension = 1. "
     ]
    }
   ],
   "source": [
    "sentence = input(\"Please enter a sentense\\n\")\n",
    "\n",
    "list_of_word = sentence.split()\n",
    "\n",
    "list_of_unique_words = []\n",
    "count_of_unique_words = []\n",
    "\n",
    "for i in list_of_word:\n",
    "    cnt = list_of_word.count(i)\n",
    "    print(i, \"=\", cnt, end = \". \")"
   ]
  },
  {
   "cell_type": "code",
   "execution_count": null,
   "id": "1e59ceb1",
   "metadata": {},
   "outputs": [],
   "source": []
  }
 ],
 "metadata": {
  "kernelspec": {
   "display_name": "Python 3 (ipykernel)",
   "language": "python",
   "name": "python3"
  },
  "language_info": {
   "codemirror_mode": {
    "name": "ipython",
    "version": 3
   },
   "file_extension": ".py",
   "mimetype": "text/x-python",
   "name": "python",
   "nbconvert_exporter": "python",
   "pygments_lexer": "ipython3",
   "version": "3.11.5"
  }
 },
 "nbformat": 4,
 "nbformat_minor": 5
}
