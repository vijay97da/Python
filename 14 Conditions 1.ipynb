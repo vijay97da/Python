{
 "cells": [
  {
   "cell_type": "markdown",
   "id": "7f754172",
   "metadata": {},
   "source": [
    "# condition"
   ]
  },
  {
   "cell_type": "code",
   "execution_count": 4,
   "id": "351e9e68",
   "metadata": {},
   "outputs": [],
   "source": [
    "n = 200\n",
    "\n",
    "if n > 200:\n",
    "    print(\"yes\")"
   ]
  },
  {
   "cell_type": "code",
   "execution_count": 7,
   "id": "e4626769",
   "metadata": {},
   "outputs": [
    {
     "name": "stdout",
     "output_type": "stream",
     "text": [
      "no it is less than\n"
     ]
    }
   ],
   "source": [
    "if n > 200:\n",
    "    print(\"yes\")\n",
    "else:\n",
    "    print(\"no it is less than\")"
   ]
  },
  {
   "cell_type": "code",
   "execution_count": 9,
   "id": "b84391ab",
   "metadata": {},
   "outputs": [
    {
     "name": "stdout",
     "output_type": "stream",
     "text": [
      "no\n"
     ]
    }
   ],
   "source": [
    "n = 100\n",
    "if n > 200:\n",
    "    print(\"yes\")\n",
    "elif n == 200:\n",
    "    print(\"equal\")\n",
    "else:\n",
    "    print(\"no\")"
   ]
  },
  {
   "cell_type": "code",
   "execution_count": 10,
   "id": "a565cb99",
   "metadata": {},
   "outputs": [
    {
     "name": "stdout",
     "output_type": "stream",
     "text": [
      "you can try with another num\n"
     ]
    }
   ],
   "source": [
    "num = 86\n",
    "if num == 88:\n",
    "    print(\"it is correct\")\n",
    "else:\n",
    "    print(\"you can try with another num\")"
   ]
  },
  {
   "cell_type": "code",
   "execution_count": 11,
   "id": "220b7f7b",
   "metadata": {},
   "outputs": [
    {
     "data": {
      "text/plain": [
       "True"
      ]
     },
     "execution_count": 11,
     "metadata": {},
     "output_type": "execute_result"
    }
   ],
   "source": [
    "12 == 12  # returns true"
   ]
  },
  {
   "cell_type": "code",
   "execution_count": 12,
   "id": "4e6f76c2",
   "metadata": {},
   "outputs": [
    {
     "data": {
      "text/plain": [
       "False"
      ]
     },
     "execution_count": 12,
     "metadata": {},
     "output_type": "execute_result"
    }
   ],
   "source": [
    "12 == 13"
   ]
  },
  {
   "cell_type": "code",
   "execution_count": 13,
   "id": "53eb1b26",
   "metadata": {},
   "outputs": [
    {
     "data": {
      "text/plain": [
       "False"
      ]
     },
     "execution_count": 13,
     "metadata": {},
     "output_type": "execute_result"
    }
   ],
   "source": [
    "12 != 12"
   ]
  },
  {
   "cell_type": "code",
   "execution_count": 17,
   "id": "1358db15",
   "metadata": {},
   "outputs": [],
   "source": [
    "x = 5\n",
    "y = 6 \n",
    "\n",
    "#x = y  # this is assignment operator not conditional operator"
   ]
  },
  {
   "cell_type": "code",
   "execution_count": 15,
   "id": "08f42130",
   "metadata": {},
   "outputs": [
    {
     "data": {
      "text/plain": [
       "6"
      ]
     },
     "execution_count": 15,
     "metadata": {},
     "output_type": "execute_result"
    }
   ],
   "source": [
    "x"
   ]
  },
  {
   "cell_type": "code",
   "execution_count": 16,
   "id": "060e3bfb",
   "metadata": {},
   "outputs": [
    {
     "data": {
      "text/plain": [
       "6"
      ]
     },
     "execution_count": 16,
     "metadata": {},
     "output_type": "execute_result"
    }
   ],
   "source": [
    "y"
   ]
  },
  {
   "cell_type": "code",
   "execution_count": 18,
   "id": "62a0bc79",
   "metadata": {},
   "outputs": [],
   "source": [
    "y = x"
   ]
  },
  {
   "cell_type": "code",
   "execution_count": 19,
   "id": "68dc5437",
   "metadata": {},
   "outputs": [
    {
     "data": {
      "text/plain": [
       "5"
      ]
     },
     "execution_count": 19,
     "metadata": {},
     "output_type": "execute_result"
    }
   ],
   "source": [
    "y"
   ]
  },
  {
   "cell_type": "code",
   "execution_count": 20,
   "id": "c988604d",
   "metadata": {},
   "outputs": [
    {
     "data": {
      "text/plain": [
       "True"
      ]
     },
     "execution_count": 20,
     "metadata": {},
     "output_type": "execute_result"
    }
   ],
   "source": [
    "x is y # x is same as y "
   ]
  },
  {
   "cell_type": "code",
   "execution_count": 21,
   "id": "03e945e1",
   "metadata": {},
   "outputs": [
    {
     "data": {
      "text/plain": [
       "False"
      ]
     },
     "execution_count": 21,
     "metadata": {},
     "output_type": "execute_result"
    }
   ],
   "source": [
    "x is not y # x is not same as y"
   ]
  },
  {
   "cell_type": "code",
   "execution_count": 22,
   "id": "5ae238a1",
   "metadata": {},
   "outputs": [],
   "source": [
    "x = 5\n",
    "y = 6 "
   ]
  },
  {
   "cell_type": "code",
   "execution_count": 23,
   "id": "312dfe27",
   "metadata": {},
   "outputs": [
    {
     "data": {
      "text/plain": [
       "True"
      ]
     },
     "execution_count": 23,
     "metadata": {},
     "output_type": "execute_result"
    }
   ],
   "source": [
    "x > 4 and y > 5   # two conditions concatenanted , if both are true then only true will be returned"
   ]
  },
  {
   "cell_type": "code",
   "execution_count": 24,
   "id": "fa91ff99",
   "metadata": {},
   "outputs": [
    {
     "data": {
      "text/plain": [
       "False"
      ]
     },
     "execution_count": 24,
     "metadata": {},
     "output_type": "execute_result"
    }
   ],
   "source": [
    "x < 4 and y < 5"
   ]
  },
  {
   "cell_type": "code",
   "execution_count": 25,
   "id": "5998c643",
   "metadata": {},
   "outputs": [
    {
     "data": {
      "text/plain": [
       "False"
      ]
     },
     "execution_count": 25,
     "metadata": {},
     "output_type": "execute_result"
    }
   ],
   "source": [
    "x > 4 and y < 5"
   ]
  },
  {
   "cell_type": "code",
   "execution_count": 26,
   "id": "40556f07",
   "metadata": {},
   "outputs": [
    {
     "data": {
      "text/plain": [
       "True"
      ]
     },
     "execution_count": 26,
     "metadata": {},
     "output_type": "execute_result"
    }
   ],
   "source": [
    "x > 4 or y < 3     # if any one of the condition is true, then will be returned otherwise false is returned"
   ]
  },
  {
   "cell_type": "code",
   "execution_count": 27,
   "id": "9c013967",
   "metadata": {},
   "outputs": [
    {
     "data": {
      "text/plain": [
       "True"
      ]
     },
     "execution_count": 27,
     "metadata": {},
     "output_type": "execute_result"
    }
   ],
   "source": [
    "x < 4 or y > 5"
   ]
  },
  {
   "cell_type": "code",
   "execution_count": 28,
   "id": "94d6b373",
   "metadata": {},
   "outputs": [
    {
     "data": {
      "text/plain": [
       "False"
      ]
     },
     "execution_count": 28,
     "metadata": {},
     "output_type": "execute_result"
    }
   ],
   "source": [
    "x < 4 or y < 5"
   ]
  },
  {
   "cell_type": "code",
   "execution_count": 29,
   "id": "242d9e42",
   "metadata": {},
   "outputs": [
    {
     "data": {
      "text/plain": [
       "False"
      ]
     },
     "execution_count": 29,
     "metadata": {},
     "output_type": "execute_result"
    }
   ],
   "source": [
    "not(x < y )    # used to negate the value returned by conditional expression"
   ]
  },
  {
   "cell_type": "code",
   "execution_count": 30,
   "id": "6e1312a1",
   "metadata": {},
   "outputs": [
    {
     "data": {
      "text/plain": [
       "True"
      ]
     },
     "execution_count": 30,
     "metadata": {},
     "output_type": "execute_result"
    }
   ],
   "source": [
    "not(x < y ) or (y > x) "
   ]
  },
  {
   "cell_type": "code",
   "execution_count": 33,
   "id": "7b670ee8",
   "metadata": {},
   "outputs": [
    {
     "name": "stdout",
     "output_type": "stream",
     "text": [
      "Enter the number\n",
      "8\n",
      "8  is even number\n"
     ]
    }
   ],
   "source": [
    "number = int(input(\"Enter the number\\n\"))\n",
    "\n",
    "if number % 2 == 0 :                 # if entered number is even then only message is shown to the user\n",
    "    print(number ,\" is even number\") "
   ]
  },
  {
   "cell_type": "code",
   "execution_count": 37,
   "id": "2ee9d858",
   "metadata": {},
   "outputs": [
    {
     "name": "stdout",
     "output_type": "stream",
     "text": [
      "Enter the number\n",
      "10\n",
      "You have entered  10\n",
      "10  is even number\n"
     ]
    }
   ],
   "source": [
    "number = int(input(\"Enter the number\\n\"))\n",
    "\n",
    "if number % 3 == 1 :                  # if block can consists of more than one statements, here two print statements are printed if condiotn is true\n",
    "    print(\"You have entered \", number)\n",
    "    print(number ,\" is even number\") "
   ]
  },
  {
   "cell_type": "code",
   "execution_count": 39,
   "id": "b70e8c8a",
   "metadata": {},
   "outputs": [
    {
     "name": "stdout",
     "output_type": "stream",
     "text": [
      "Enter the number\n",
      "7\n",
      "I am always printed!\n"
     ]
    }
   ],
   "source": [
    "number = int(input(\"Enter the number\\n\"))\n",
    "\n",
    "if number % 2 == 0 :   # if block can consists of more than one statements, here two print statements are printed if condiotn is true\n",
    "    print(\"You have entered \", number)\n",
    "    print(number ,\" is even number\")\n",
    "    \n",
    "print(\"I am always printed!\")"
   ]
  },
  {
   "cell_type": "code",
   "execution_count": 41,
   "id": "599b8752",
   "metadata": {},
   "outputs": [
    {
     "name": "stdout",
     "output_type": "stream",
     "text": [
      "Enter the number\n",
      "11\n",
      "11  is odd number\n"
     ]
    }
   ],
   "source": [
    "number = int(input(\"Enter the number\\n\"))\n",
    "\n",
    "if number % 2 == 0 :   # if entered number is even then only message is shown to the user\n",
    "    print(number ,\" is even number\") \n",
    "else :\n",
    "    print(number ,\" is odd number\") "
   ]
  },
  {
   "cell_type": "code",
   "execution_count": 42,
   "id": "ba286fb7",
   "metadata": {},
   "outputs": [
    {
     "name": "stdout",
     "output_type": "stream",
     "text": [
      "Enter the number- 4\n",
      "4  is odd number\n"
     ]
    }
   ],
   "source": [
    "number = int(input(\"Enter the number- \"))\n",
    "\n",
    "if number % 2 == 0 and number == 2:   # if entered number is even then only message is shown to the user\n",
    "    print(number ,\" is even number\") \n",
    "else :\n",
    "    print(number ,\" is odd number\")"
   ]
  },
  {
   "cell_type": "code",
   "execution_count": 49,
   "id": "63505360",
   "metadata": {},
   "outputs": [
    {
     "name": "stdout",
     "output_type": "stream",
     "text": [
      "Enter the number\n",
      "4\n",
      "4  is even number\n"
     ]
    }
   ],
   "source": [
    "number = int(input(\"Enter the number\\n\"))\n",
    "\n",
    "if number % 2 == 0 or number == 2:   # if entered number is even then only message is shown to the user\n",
    "    print(number ,\" is even number\") \n",
    "else :\n",
    "    print(number ,\" is odd number\")"
   ]
  }
 ],
 "metadata": {
  "kernelspec": {
   "display_name": "Python 3 (ipykernel)",
   "language": "python",
   "name": "python3"
  },
  "language_info": {
   "codemirror_mode": {
    "name": "ipython",
    "version": 3
   },
   "file_extension": ".py",
   "mimetype": "text/x-python",
   "name": "python",
   "nbconvert_exporter": "python",
   "pygments_lexer": "ipython3",
   "version": "3.11.5"
  }
 },
 "nbformat": 4,
 "nbformat_minor": 5
}
