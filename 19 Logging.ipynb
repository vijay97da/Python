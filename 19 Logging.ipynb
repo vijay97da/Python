{
 "cells": [
  {
   "cell_type": "markdown",
   "id": "94226f44",
   "metadata": {},
   "source": [
    "## logging "
   ]
  },
  {
   "cell_type": "code",
   "execution_count": 1,
   "id": "f2f61d5a",
   "metadata": {},
   "outputs": [],
   "source": [
    "import logging"
   ]
  },
  {
   "cell_type": "markdown",
   "id": "7023e123",
   "metadata": {},
   "source": [
    "#### level "
   ]
  },
  {
   "cell_type": "code",
   "execution_count": null,
   "id": "68ef549e",
   "metadata": {},
   "outputs": [],
   "source": [
    "Debug   = 10\n",
    "info    = 20\n",
    "warning = 30\n",
    "error   = 40\n",
    "critical= 50"
   ]
  },
  {
   "cell_type": "code",
   "execution_count": null,
   "id": "8bbdd04b",
   "metadata": {},
   "outputs": [],
   "source": []
  },
  {
   "cell_type": "code",
   "execution_count": null,
   "id": "401061fe",
   "metadata": {},
   "outputs": [],
   "source": [
    "logging.DEBUG\n",
    "logging.info\n",
    "logging.warning\n",
    "logging.error\n",
    "logging.critical"
   ]
  },
  {
   "cell_type": "code",
   "execution_count": 3,
   "id": "160b5a0a",
   "metadata": {},
   "outputs": [],
   "source": [
    "import logging\n",
    "\n",
    "logging.basicConfig(filename=\"log_file.txt\", level=logging.DEBUG, format=\"%(asctime)s %(levelname)s %(message)s\")"
   ]
  },
  {
   "cell_type": "code",
   "execution_count": 5,
   "id": "7d7f2a8c",
   "metadata": {},
   "outputs": [],
   "source": [
    "l = [[1, 2, 3, 4], (2, 3, 4, 5, 6), (3, 4, 5, 6, 7), set([23, 4, 5, 45, 4, 4, 5, 45, 45, 4, 5]),\n",
    "     {'k1': \"sudh\", 'k2': \"ineuron\", 'k3': \"kumar\", 3: 6, 7: 8}, [\"ineuron\", \"data science\"]]"
   ]
  },
  {
   "cell_type": "code",
   "execution_count": 4,
   "id": "4fcf0dea",
   "metadata": {},
   "outputs": [],
   "source": [
    "def extract_list(l):\n",
    "        \"\"\" Extract list entity from collections\"\"\"\n",
    "        logging.info(\"We are in the extract_list function\")\n",
    "        try:\n",
    "            l = l\n",
    "            for i in l:  \n",
    "                if type(i) == list:\n",
    "                    print(i)\n",
    "        except Exception as e:\n",
    "            logging.exception(e, \" Please enter iterable collections like :- lists, tuples, set, dictionary\")\n"
   ]
  },
  {
   "cell_type": "code",
   "execution_count": 6,
   "id": "5450d83d",
   "metadata": {},
   "outputs": [
    {
     "name": "stderr",
     "output_type": "stream",
     "text": [
      "--- Logging error ---\n",
      "Traceback (most recent call last):\n",
      "  File \"C:\\Users\\amitm\\AppData\\Local\\Temp\\ipykernel_7376\\1035668691.py\", line 5, in extract_list\n",
      "    self.l = l\n",
      "    ^^^^\n",
      "NameError: name 'self' is not defined\n",
      "\n",
      "During handling of the above exception, another exception occurred:\n",
      "\n",
      "Traceback (most recent call last):\n",
      "  File \"C:\\Users\\amitm\\anaconda3\\Lib\\logging\\__init__.py\", line 1110, in emit\n",
      "    msg = self.format(record)\n",
      "          ^^^^^^^^^^^^^^^^^^^\n",
      "  File \"C:\\Users\\amitm\\anaconda3\\Lib\\logging\\__init__.py\", line 953, in format\n",
      "    return fmt.format(record)\n",
      "           ^^^^^^^^^^^^^^^^^^\n",
      "  File \"C:\\Users\\amitm\\anaconda3\\Lib\\logging\\__init__.py\", line 687, in format\n",
      "    record.message = record.getMessage()\n",
      "                     ^^^^^^^^^^^^^^^^^^^\n",
      "  File \"C:\\Users\\amitm\\anaconda3\\Lib\\logging\\__init__.py\", line 377, in getMessage\n",
      "    msg = msg % self.args\n",
      "          ~~~~^~~~~~~~~~~\n",
      "TypeError: not all arguments converted during string formatting\n",
      "Call stack:\n",
      "  File \"<frozen runpy>\", line 198, in _run_module_as_main\n",
      "  File \"<frozen runpy>\", line 88, in _run_code\n",
      "  File \"C:\\Users\\amitm\\anaconda3\\Lib\\site-packages\\ipykernel_launcher.py\", line 17, in <module>\n",
      "    app.launch_new_instance()\n",
      "  File \"C:\\Users\\amitm\\anaconda3\\Lib\\site-packages\\traitlets\\config\\application.py\", line 992, in launch_instance\n",
      "    app.start()\n",
      "  File \"C:\\Users\\amitm\\anaconda3\\Lib\\site-packages\\ipykernel\\kernelapp.py\", line 736, in start\n",
      "    self.io_loop.start()\n",
      "  File \"C:\\Users\\amitm\\anaconda3\\Lib\\site-packages\\tornado\\platform\\asyncio.py\", line 195, in start\n",
      "    self.asyncio_loop.run_forever()\n",
      "  File \"C:\\Users\\amitm\\anaconda3\\Lib\\asyncio\\base_events.py\", line 607, in run_forever\n",
      "    self._run_once()\n",
      "  File \"C:\\Users\\amitm\\anaconda3\\Lib\\asyncio\\base_events.py\", line 1922, in _run_once\n",
      "    handle._run()\n",
      "  File \"C:\\Users\\amitm\\anaconda3\\Lib\\asyncio\\events.py\", line 80, in _run\n",
      "    self._context.run(self._callback, *self._args)\n",
      "  File \"C:\\Users\\amitm\\anaconda3\\Lib\\site-packages\\ipykernel\\kernelbase.py\", line 516, in dispatch_queue\n",
      "    await self.process_one()\n",
      "  File \"C:\\Users\\amitm\\anaconda3\\Lib\\site-packages\\ipykernel\\kernelbase.py\", line 505, in process_one\n",
      "    await dispatch(*args)\n",
      "  File \"C:\\Users\\amitm\\anaconda3\\Lib\\site-packages\\ipykernel\\kernelbase.py\", line 412, in dispatch_shell\n",
      "    await result\n",
      "  File \"C:\\Users\\amitm\\anaconda3\\Lib\\site-packages\\ipykernel\\kernelbase.py\", line 740, in execute_request\n",
      "    reply_content = await reply_content\n",
      "  File \"C:\\Users\\amitm\\anaconda3\\Lib\\site-packages\\ipykernel\\ipkernel.py\", line 422, in do_execute\n",
      "    res = shell.run_cell(\n",
      "  File \"C:\\Users\\amitm\\anaconda3\\Lib\\site-packages\\ipykernel\\zmqshell.py\", line 546, in run_cell\n",
      "    return super().run_cell(*args, **kwargs)\n",
      "  File \"C:\\Users\\amitm\\anaconda3\\Lib\\site-packages\\IPython\\core\\interactiveshell.py\", line 3024, in run_cell\n",
      "    result = self._run_cell(\n",
      "  File \"C:\\Users\\amitm\\anaconda3\\Lib\\site-packages\\IPython\\core\\interactiveshell.py\", line 3079, in _run_cell\n",
      "    result = runner(coro)\n",
      "  File \"C:\\Users\\amitm\\anaconda3\\Lib\\site-packages\\IPython\\core\\async_helpers.py\", line 129, in _pseudo_sync_runner\n",
      "    coro.send(None)\n",
      "  File \"C:\\Users\\amitm\\anaconda3\\Lib\\site-packages\\IPython\\core\\interactiveshell.py\", line 3284, in run_cell_async\n",
      "    has_raised = await self.run_ast_nodes(code_ast.body, cell_name,\n",
      "  File \"C:\\Users\\amitm\\anaconda3\\Lib\\site-packages\\IPython\\core\\interactiveshell.py\", line 3466, in run_ast_nodes\n",
      "    if await self.run_code(code, result, async_=asy):\n",
      "  File \"C:\\Users\\amitm\\anaconda3\\Lib\\site-packages\\IPython\\core\\interactiveshell.py\", line 3526, in run_code\n",
      "    exec(code_obj, self.user_global_ns, self.user_ns)\n",
      "  File \"C:\\Users\\amitm\\AppData\\Local\\Temp\\ipykernel_7376\\3475246155.py\", line 1, in <module>\n",
      "    extract_list(l)\n",
      "  File \"C:\\Users\\amitm\\AppData\\Local\\Temp\\ipykernel_7376\\1035668691.py\", line 10, in extract_list\n",
      "    logging.exception(e, \" Please enter iterable collections like :- lists, tuples, set, dictionary\")\n",
      "Message: NameError(\"name 'self' is not defined\")\n",
      "Arguments: (' Please enter iterable collections like :- lists, tuples, set, dictionary',)\n"
     ]
    }
   ],
   "source": [
    "extract_list(l)"
   ]
  },
  {
   "cell_type": "code",
   "execution_count": 13,
   "id": "5bdf79dc",
   "metadata": {},
   "outputs": [],
   "source": [
    "def flat_list(l):\n",
    "        \"\"\" To create flat list from nested collection\"\"\"\n",
    "        logging.info(\"Inside flat_list function\")\n",
    "        try:\n",
    "            l = l\n",
    "            p = []\n",
    "            for i in l:\n",
    "                if type(i) != dict:\n",
    "                    logging.info(\"data :- %s\", i)\n",
    "                    p.extend(i)\n",
    "                else:\n",
    "                    logging.info(\"values inside dict %s\", i)\n",
    "                    p.extend(i.keys())\n",
    "                    p.extend(i.values())\n",
    "            return p\n",
    "            logging.info(\"Output %s\", p)\n",
    "        except Exception as e:\n",
    "            logging.exception(e)\n",
    "            return e"
   ]
  },
  {
   "cell_type": "code",
   "execution_count": 14,
   "id": "d896491a",
   "metadata": {},
   "outputs": [
    {
     "data": {
      "text/plain": [
       "[1,\n",
       " 2,\n",
       " 3,\n",
       " 4,\n",
       " 2,\n",
       " 3,\n",
       " 4,\n",
       " 5,\n",
       " 6,\n",
       " 3,\n",
       " 4,\n",
       " 5,\n",
       " 6,\n",
       " 7,\n",
       " 45,\n",
       " 4,\n",
       " 5,\n",
       " 23,\n",
       " 'k1',\n",
       " 'k2',\n",
       " 'k3',\n",
       " 3,\n",
       " 7,\n",
       " 'sudh',\n",
       " 'ineuron',\n",
       " 'kumar',\n",
       " 6,\n",
       " 8,\n",
       " 'ineuron',\n",
       " 'data science']"
      ]
     },
     "execution_count": 14,
     "metadata": {},
     "output_type": "execute_result"
    }
   ],
   "source": [
    "flat_list(l)"
   ]
  },
  {
   "cell_type": "code",
   "execution_count": 35,
   "id": "ea71b080",
   "metadata": {},
   "outputs": [],
   "source": [
    "def Upper_str(a):\n",
    "    logging.info(\"this is a upper str function\")\n",
    "    try:\n",
    "        a= a.upper()\n",
    "        logging.info(\"using upper function of str\")\n",
    "        \n",
    "        return a\n",
    "    except Exception as e:\n",
    "        logging.info(\"There is something wrong in our code\")\n",
    "        print(e)\n",
    "               "
   ]
  },
  {
   "cell_type": "code",
   "execution_count": 15,
   "id": "2dd812fa",
   "metadata": {},
   "outputs": [],
   "source": [
    "a = \"amit\""
   ]
  },
  {
   "cell_type": "code",
   "execution_count": 18,
   "id": "827a79cd",
   "metadata": {},
   "outputs": [],
   "source": [
    "a =a.upper()"
   ]
  },
  {
   "cell_type": "code",
   "execution_count": 22,
   "id": "0737f641",
   "metadata": {},
   "outputs": [
    {
     "data": {
      "text/plain": [
       "'PYTHON IS A DS LANGUAGE'"
      ]
     },
     "execution_count": 22,
     "metadata": {},
     "output_type": "execute_result"
    }
   ],
   "source": [
    "Upper_str(x)"
   ]
  },
  {
   "cell_type": "code",
   "execution_count": 21,
   "id": "51ba080e",
   "metadata": {},
   "outputs": [],
   "source": [
    "x = \"python is a DS language\""
   ]
  },
  {
   "cell_type": "code",
   "execution_count": 32,
   "id": "8a6ff6b6",
   "metadata": {},
   "outputs": [],
   "source": [
    "y = 345345"
   ]
  },
  {
   "cell_type": "code",
   "execution_count": 36,
   "id": "6c3df5cd",
   "metadata": {},
   "outputs": [
    {
     "name": "stdout",
     "output_type": "stream",
     "text": [
      "'int' object has no attribute 'upper'\n"
     ]
    }
   ],
   "source": [
    "Upper_str(y)"
   ]
  },
  {
   "cell_type": "code",
   "execution_count": 25,
   "id": "db7f9504",
   "metadata": {},
   "outputs": [
    {
     "ename": "ZeroDivisionError",
     "evalue": "division by zero",
     "output_type": "error",
     "traceback": [
      "\u001b[1;31m---------------------------------------------------------------------------\u001b[0m",
      "\u001b[1;31mZeroDivisionError\u001b[0m                         Traceback (most recent call last)",
      "Cell \u001b[1;32mIn[25], line 1\u001b[0m\n\u001b[1;32m----> 1\u001b[0m \u001b[38;5;241m1\u001b[39m\u001b[38;5;241m/\u001b[39m\u001b[38;5;241m0\u001b[39m\n",
      "\u001b[1;31mZeroDivisionError\u001b[0m: division by zero"
     ]
    }
   ],
   "source": [
    "1/0"
   ]
  },
  {
   "cell_type": "code",
   "execution_count": null,
   "id": "c8f8355c",
   "metadata": {},
   "outputs": [],
   "source": []
  }
 ],
 "metadata": {
  "kernelspec": {
   "display_name": "Python 3 (ipykernel)",
   "language": "python",
   "name": "python3"
  },
  "language_info": {
   "codemirror_mode": {
    "name": "ipython",
    "version": 3
   },
   "file_extension": ".py",
   "mimetype": "text/x-python",
   "name": "python",
   "nbconvert_exporter": "python",
   "pygments_lexer": "ipython3",
   "version": "3.11.5"
  }
 },
 "nbformat": 4,
 "nbformat_minor": 5
}
