{
 "cells": [
  {
   "cell_type": "markdown",
   "id": "5d73d562",
   "metadata": {},
   "source": [
    "# F- string"
   ]
  },
  {
   "cell_type": "code",
   "execution_count": 5,
   "id": "7ed87127",
   "metadata": {},
   "outputs": [],
   "source": [
    "name = \"amit\"\n",
    "education = \"DEGREE\""
   ]
  },
  {
   "cell_type": "code",
   "execution_count": 2,
   "id": "2bbf9cea",
   "metadata": {},
   "outputs": [
    {
     "name": "stdout",
     "output_type": "stream",
     "text": [
      "amit\n"
     ]
    }
   ],
   "source": [
    "print(name)"
   ]
  },
  {
   "cell_type": "code",
   "execution_count": 3,
   "id": "28ed07a6",
   "metadata": {},
   "outputs": [
    {
     "name": "stdout",
     "output_type": "stream",
     "text": [
      "amit  the data science studen\n"
     ]
    }
   ],
   "source": [
    "print(name, \" the data science studen\")"
   ]
  },
  {
   "cell_type": "code",
   "execution_count": 6,
   "id": "eb01a19a",
   "metadata": {},
   "outputs": [
    {
     "name": "stdout",
     "output_type": "stream",
     "text": [
      "amit the data science DEGREE studen\n"
     ]
    }
   ],
   "source": [
    "print(f\"{name} the data science { education} studen\")"
   ]
  },
  {
   "cell_type": "code",
   "execution_count": null,
   "id": "e8857fe4",
   "metadata": {},
   "outputs": [],
   "source": [
    "\"%(acstime)s, %(level)s, \""
   ]
  },
  {
   "cell_type": "code",
   "execution_count": 7,
   "id": "22f80018",
   "metadata": {},
   "outputs": [
    {
     "name": "stdout",
     "output_type": "stream",
     "text": [
      "GeeksforGeeks is a portal for Geeks.\n",
      "Hello, My name is Tushar and I'm 23 years old.\n"
     ]
    }
   ],
   "source": [
    "# Python3 program introducing f-string\n",
    "val = 'Geeks'\n",
    "print(f\"{val}for{val} is a portal for {val}.\")\n",
    "\n",
    "\n",
    "name = 'Tushar'\n",
    "age = 23\n",
    "print(f\"Hello, My name is {name} and I'm {age} years old.\")\n"
   ]
  },
  {
   "cell_type": "code",
   "execution_count": 8,
   "id": "1459e888",
   "metadata": {},
   "outputs": [],
   "source": [
    "# Prints today's date with help\n",
    "# of datetime library\n",
    "import datetime\n",
    "\n",
    "today = datetime.datetime.today()"
   ]
  },
  {
   "cell_type": "code",
   "execution_count": 9,
   "id": "2ad9adcf",
   "metadata": {},
   "outputs": [
    {
     "data": {
      "text/plain": [
       "datetime.datetime(2023, 12, 19, 10, 31, 42, 12643)"
      ]
     },
     "execution_count": 9,
     "metadata": {},
     "output_type": "execute_result"
    }
   ],
   "source": [
    "today"
   ]
  },
  {
   "cell_type": "code",
   "execution_count": 16,
   "id": "96c2ae76",
   "metadata": {},
   "outputs": [
    {
     "name": "stdout",
     "output_type": "stream",
     "text": [
      "December 19, 2023\n"
     ]
    }
   ],
   "source": [
    "print(f\"{today:%B %d, %Y}\")"
   ]
  },
  {
   "cell_type": "code",
   "execution_count": 23,
   "id": "7df40389",
   "metadata": {},
   "outputs": [
    {
     "name": "stdout",
     "output_type": "stream",
     "text": [
      "newline: 97\n"
     ]
    }
   ],
   "source": [
    "print(f\"newline: {ord('a')}\")\n"
   ]
  },
  {
   "cell_type": "code",
   "execution_count": 21,
   "id": "4abc7a33",
   "metadata": {},
   "outputs": [
    {
     "data": {
      "text/plain": [
       "53"
      ]
     },
     "execution_count": 21,
     "metadata": {},
     "output_type": "execute_result"
    }
   ],
   "source": [
    "ord(\"5\")"
   ]
  },
  {
   "cell_type": "code",
   "execution_count": 22,
   "id": "b397bff8",
   "metadata": {},
   "outputs": [
    {
     "data": {
      "text/plain": [
       "66"
      ]
     },
     "execution_count": 22,
     "metadata": {},
     "output_type": "execute_result"
    }
   ],
   "source": [
    "ord(\"B\")"
   ]
  },
  {
   "cell_type": "code",
   "execution_count": 24,
   "id": "206c61c5",
   "metadata": {},
   "outputs": [
    {
     "name": "stdout",
     "output_type": "stream",
     "text": [
      "<class 'int'> this is int data type\n"
     ]
    }
   ],
   "source": [
    "print(f\"{type(45)} this is int data type\")"
   ]
  },
  {
   "cell_type": "code",
   "execution_count": 32,
   "id": "74c9884f",
   "metadata": {},
   "outputs": [],
   "source": [
    "name = \"Jane\"\n",
    "age = 25"
   ]
  },
  {
   "cell_type": "code",
   "execution_count": 37,
   "id": "cf2d1720",
   "metadata": {},
   "outputs": [
    {
     "name": "stdout",
     "output_type": "stream",
     "text": [
      "I'm learning Python from freeCodeCamp.\n"
     ]
    }
   ],
   "source": [
    "language = \"Python\"\n",
    "school = \"freeCodeCamp\"\n",
    "print(f\"I'm learning {language} from {school}.\")"
   ]
  },
  {
   "cell_type": "code",
   "execution_count": 38,
   "id": "88a41cc4",
   "metadata": {},
   "outputs": [
    {
     "name": "stdout",
     "output_type": "stream",
     "text": [
      "The product of 83 and 9 is 747.\n"
     ]
    }
   ],
   "source": [
    "num1 = 83\n",
    "num2 = 9\n",
    "print(f\"The product of {num1} and {num2} is {num1 * num2}.\")"
   ]
  },
  {
   "cell_type": "code",
   "execution_count": 45,
   "id": "049e9737",
   "metadata": {},
   "outputs": [
    {
     "name": "stdout",
     "output_type": "stream",
     "text": [
      "Is num even? True\n"
     ]
    }
   ],
   "source": [
    "num = 88\n",
    "print(f\"Is num even? {True if num%2==0 else False}\")"
   ]
  },
  {
   "cell_type": "code",
   "execution_count": 47,
   "id": "c53995de",
   "metadata": {},
   "outputs": [
    {
     "name": "stdout",
     "output_type": "stream",
     "text": [
      "Hello, JOHN!\n"
     ]
    }
   ],
   "source": [
    "name = 'John'\n",
    "s = f'Hello, {name.upper()}!'\n",
    "print(s)"
   ]
  },
  {
   "cell_type": "code",
   "execution_count": 54,
   "id": "7ff0b66b",
   "metadata": {},
   "outputs": [
    {
     "name": "stdout",
     "output_type": "stream",
     "text": [
      "Hello John. You're learning Python at PythonTutorial.net.\n"
     ]
    }
   ],
   "source": [
    "name = 'John'\n",
    "website = 'PythonTutorial.net'\n",
    "\n",
    "message = (\n",
    "    f'Hello {name}. '\n",
    "    f\"You're learning Python at {website}.\" \n",
    ")\n",
    "\n",
    "print(message)"
   ]
  },
  {
   "cell_type": "code",
   "execution_count": null,
   "id": "37bdca51",
   "metadata": {},
   "outputs": [],
   "source": []
  },
  {
   "cell_type": "code",
   "execution_count": null,
   "id": "043a96e5",
   "metadata": {},
   "outputs": [],
   "source": []
  }
 ],
 "metadata": {
  "kernelspec": {
   "display_name": "Python 3 (ipykernel)",
   "language": "python",
   "name": "python3"
  },
  "language_info": {
   "codemirror_mode": {
    "name": "ipython",
    "version": 3
   },
   "file_extension": ".py",
   "mimetype": "text/x-python",
   "name": "python",
   "nbconvert_exporter": "python",
   "pygments_lexer": "ipython3",
   "version": "3.11.5"
  }
 },
 "nbformat": 4,
 "nbformat_minor": 5
}
