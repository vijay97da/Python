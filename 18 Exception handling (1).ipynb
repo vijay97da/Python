{
 "cells": [
  {
   "cell_type": "code",
   "execution_count": 1,
   "id": "7185c023",
   "metadata": {},
   "outputs": [
    {
     "ename": "ZeroDivisionError",
     "evalue": "division by zero",
     "output_type": "error",
     "traceback": [
      "\u001b[1;31m---------------------------------------------------------------------------\u001b[0m",
      "\u001b[1;31mZeroDivisionError\u001b[0m                         Traceback (most recent call last)",
      "Cell \u001b[1;32mIn[1], line 1\u001b[0m\n\u001b[1;32m----> 1\u001b[0m \u001b[38;5;241m1\u001b[39m\u001b[38;5;241m/\u001b[39m\u001b[38;5;241m0\u001b[39m\n",
      "\u001b[1;31mZeroDivisionError\u001b[0m: division by zero"
     ]
    }
   ],
   "source": [
    "1/0"
   ]
  },
  {
   "cell_type": "code",
   "execution_count": 2,
   "id": "2157b53c",
   "metadata": {},
   "outputs": [
    {
     "ename": "NameError",
     "evalue": "name 'a' is not defined",
     "output_type": "error",
     "traceback": [
      "\u001b[1;31m---------------------------------------------------------------------------\u001b[0m",
      "\u001b[1;31mNameError\u001b[0m                                 Traceback (most recent call last)",
      "Cell \u001b[1;32mIn[2], line 1\u001b[0m\n\u001b[1;32m----> 1\u001b[0m a\n",
      "\u001b[1;31mNameError\u001b[0m: name 'a' is not defined"
     ]
    }
   ],
   "source": [
    "a"
   ]
  },
  {
   "cell_type": "code",
   "execution_count": 3,
   "id": "3d304b52",
   "metadata": {},
   "outputs": [
    {
     "ename": "SyntaxError",
     "evalue": "invalid syntax (1607442065.py, line 1)",
     "output_type": "error",
     "traceback": [
      "\u001b[1;36m  Cell \u001b[1;32mIn[3], line 1\u001b[1;36m\u001b[0m\n\u001b[1;33m    a b = 78\u001b[0m\n\u001b[1;37m      ^\u001b[0m\n\u001b[1;31mSyntaxError\u001b[0m\u001b[1;31m:\u001b[0m invalid syntax\n"
     ]
    }
   ],
   "source": [
    "a b = 78"
   ]
  },
  {
   "cell_type": "code",
   "execution_count": 5,
   "id": "45289253",
   "metadata": {},
   "outputs": [
    {
     "ename": "ZeroDivisionError",
     "evalue": "division by zero",
     "output_type": "error",
     "traceback": [
      "\u001b[1;31m---------------------------------------------------------------------------\u001b[0m",
      "\u001b[1;31mZeroDivisionError\u001b[0m                         Traceback (most recent call last)",
      "Cell \u001b[1;32mIn[5], line 4\u001b[0m\n\u001b[0;32m      1\u001b[0m a \u001b[38;5;241m=\u001b[39m \u001b[38;5;241m1\u001b[39m\n\u001b[0;32m      2\u001b[0m b \u001b[38;5;241m=\u001b[39m \u001b[38;5;241m0\u001b[39m\n\u001b[1;32m----> 4\u001b[0m a\u001b[38;5;241m/\u001b[39mb\n\u001b[0;32m      5\u001b[0m \u001b[38;5;28mprint\u001b[39m(\u001b[38;5;124m\"\u001b[39m\u001b[38;5;124mhello\u001b[39m\u001b[38;5;124m\"\u001b[39m)\n",
      "\u001b[1;31mZeroDivisionError\u001b[0m: division by zero"
     ]
    }
   ],
   "source": [
    "a = 1\n",
    "b = 0\n",
    "\n",
    "a/b\n",
    "print(\"hello\")"
   ]
  },
  {
   "cell_type": "code",
   "execution_count": 6,
   "id": "4a85743d",
   "metadata": {},
   "outputs": [
    {
     "name": "stdout",
     "output_type": "stream",
     "text": [
      "division by zero\n"
     ]
    }
   ],
   "source": [
    "try:\n",
    "    a/b\n",
    "except Exception as e:\n",
    "    print(e)"
   ]
  },
  {
   "cell_type": "code",
   "execution_count": 9,
   "id": "202c1cda",
   "metadata": {},
   "outputs": [
    {
     "name": "stdout",
     "output_type": "stream",
     "text": [
      "division by zero\n",
      "python\n"
     ]
    }
   ],
   "source": [
    "try:\n",
    "    a/b\n",
    "except Exception as e:\n",
    "    print(e)\n",
    "\n",
    "print(\"python\")    \n",
    "    "
   ]
  },
  {
   "cell_type": "code",
   "execution_count": 10,
   "id": "00e766bd",
   "metadata": {},
   "outputs": [
    {
     "name": "stdout",
     "output_type": "stream",
     "text": [
      "1.0\n"
     ]
    }
   ],
   "source": [
    " try :\n",
    "    a = 10 \n",
    "    print(a/10)\n",
    "except:\n",
    "    print(\"this will be my final code after handling an exception \")"
   ]
  },
  {
   "cell_type": "code",
   "execution_count": 11,
   "id": "c5c42b0b",
   "metadata": {},
   "outputs": [
    {
     "name": "stdout",
     "output_type": "stream",
     "text": [
      "this will be my final code after handling an exception \n"
     ]
    }
   ],
   "source": [
    "try :\n",
    "    a = 10 \n",
    "    print(a/0)\n",
    "except:\n",
    "    print(\"this will be my final code after handling an exception \")"
   ]
  },
  {
   "cell_type": "code",
   "execution_count": 12,
   "id": "abb02985",
   "metadata": {},
   "outputs": [
    {
     "name": "stdout",
     "output_type": "stream",
     "text": [
      "division by zero\n",
      "this will be my final code after handling an exception \n"
     ]
    }
   ],
   "source": [
    "try :\n",
    "    a = 10 \n",
    "    print(a/0)\n",
    "except Exception as e:\n",
    "    print(e)\n",
    "    print(\"this will be my final code after handling an exception \")"
   ]
  },
  {
   "cell_type": "code",
   "execution_count": 15,
   "id": "c03718ee",
   "metadata": {},
   "outputs": [
    {
     "ename": "NameError",
     "evalue": "name 'number1' is not defined",
     "output_type": "error",
     "traceback": [
      "\u001b[1;31m---------------------------------------------------------------------------\u001b[0m",
      "\u001b[1;31mNameError\u001b[0m                                 Traceback (most recent call last)",
      "Cell \u001b[1;32mIn[15], line 1\u001b[0m\n\u001b[1;32m----> 1\u001b[0m \u001b[38;5;28;01mif\u001b[39;00m number1 \u001b[38;5;241m==\u001b[39m number2:\n\u001b[0;32m      2\u001b[0m     \u001b[38;5;28mprint\u001b[39m(\u001b[38;5;124m\"\u001b[39m\u001b[38;5;124mBoth numbers are same\u001b[39m\u001b[38;5;124m\"\u001b[39m)\n\u001b[0;32m      3\u001b[0m \u001b[38;5;28;01melse\u001b[39;00m:\n",
      "\u001b[1;31mNameError\u001b[0m: name 'number1' is not defined"
     ]
    }
   ],
   "source": [
    "if number1 == number2:\n",
    "    print(\"Both numbers are same\")\n",
    "else:\n",
    "    if number1 > number2:\n",
    "        print(\"First number is bigger than second\")\n",
    "    else:\n",
    "        print(\"First number is smaller than second\")"
   ]
  },
  {
   "cell_type": "code",
   "execution_count": null,
   "id": "9d49c5a1",
   "metadata": {},
   "outputs": [],
   "source": [
    "def test(a,b):\n",
    "    try:\n",
    "        return a*b\n",
    "    except:\n",
    "        print()"
   ]
  },
  {
   "cell_type": "code",
   "execution_count": 18,
   "id": "09b7dea7",
   "metadata": {},
   "outputs": [
    {
     "name": "stdout",
     "output_type": "stream",
     "text": [
      "5.0\n",
      "Enter the number\n",
      "8\n",
      "You have entered  8\n",
      "8  is even number\n"
     ]
    }
   ],
   "source": [
    "try :\n",
    "    a = 10 \n",
    "    print(a/2)\n",
    "except:\n",
    "    print(\"this will be my final code after handling an exception \")\n",
    "    \n",
    "number = int(input(\"Enter the number\\n\"))\n",
    "\n",
    "if number % 2 == 0 :   # if block can consists of more than one statements, here two print statements are printed if condiotn is true\n",
    "    print(\"You have entered \", number)\n",
    "    print(number ,\" is even number\")"
   ]
  },
  {
   "cell_type": "code",
   "execution_count": 19,
   "id": "e8c19301",
   "metadata": {},
   "outputs": [
    {
     "ename": "ZeroDivisionError",
     "evalue": "division by zero",
     "output_type": "error",
     "traceback": [
      "\u001b[1;31m---------------------------------------------------------------------------\u001b[0m",
      "\u001b[1;31mZeroDivisionError\u001b[0m                         Traceback (most recent call last)",
      "Cell \u001b[1;32mIn[19], line 3\u001b[0m\n\u001b[0;32m      1\u001b[0m \u001b[38;5;66;03m#try :\u001b[39;00m\n\u001b[0;32m      2\u001b[0m a \u001b[38;5;241m=\u001b[39m \u001b[38;5;241m10\u001b[39m \n\u001b[1;32m----> 3\u001b[0m \u001b[38;5;28mprint\u001b[39m(a\u001b[38;5;241m/\u001b[39m\u001b[38;5;241m0\u001b[39m)\n\u001b[0;32m      4\u001b[0m \u001b[38;5;66;03m#except:\u001b[39;00m\n\u001b[0;32m      5\u001b[0m     \u001b[38;5;66;03m#print(\"this will be my final code after handling an exception \")\u001b[39;00m\n\u001b[0;32m      7\u001b[0m number \u001b[38;5;241m=\u001b[39m \u001b[38;5;28mint\u001b[39m(\u001b[38;5;28minput\u001b[39m(\u001b[38;5;124m\"\u001b[39m\u001b[38;5;124mEnter the number\u001b[39m\u001b[38;5;130;01m\\n\u001b[39;00m\u001b[38;5;124m\"\u001b[39m))\n",
      "\u001b[1;31mZeroDivisionError\u001b[0m: division by zero"
     ]
    }
   ],
   "source": [
    "#try :\n",
    "a = 10 \n",
    "print(a/0)\n",
    "#except:\n",
    "    #print(\"this will be my final code after handling an exception \")\n",
    "    \n",
    "number = int(input(\"Enter the number\\n\"))\n",
    "if number % 2 == 0 :   # if block can consists of more than one statements, here two print statements are printed if condiotn is true\n",
    "    print(\"You have entered \", number)\n",
    "    print(number ,\" is even number\")"
   ]
  },
  {
   "cell_type": "code",
   "execution_count": 20,
   "id": "8e487939",
   "metadata": {},
   "outputs": [
    {
     "name": "stdout",
     "output_type": "stream",
     "text": [
      "[Errno 2] No such file or directory: 'sudh.txtr'\n",
      "this is not my suspicious set of the code \n"
     ]
    }
   ],
   "source": [
    "try :\n",
    "    f = open(\"sudh.txt\" \"r\")\n",
    "    f.write(\"this is my suspicuous code \")\n",
    "except Exception as e : \n",
    "    print(e)\n",
    "    print(\"this is not my suspicious set of the code \")"
   ]
  },
  {
   "cell_type": "code",
   "execution_count": 21,
   "id": "1a907e93",
   "metadata": {},
   "outputs": [
    {
     "name": "stdout",
     "output_type": "stream",
     "text": [
      "[Errno 2] No such file or directory: 'sudh.txt r'\n",
      "this is  not my suspicious set of the code \n",
      "this block will be executed anytime \n"
     ]
    }
   ],
   "source": [
    "try :\n",
    "    f = open(\"sudh.txt\" \" r\")\n",
    "    f.write(\"this is my suspicuous code \")\n",
    "except Exception as e : \n",
    "    print(e)\n",
    "    print(\"this is  not my suspicious set of the code \")\n",
    "finally :\n",
    "    print(\"this block will be executed anytime \")"
   ]
  },
  {
   "cell_type": "code",
   "execution_count": 23,
   "id": "12638428",
   "metadata": {},
   "outputs": [
    {
     "name": "stdout",
     "output_type": "stream",
     "text": [
      "this block will be executed anytime \n"
     ]
    }
   ],
   "source": [
    "try :\n",
    "    f = open(\"demo2.txt\",\"r+\")\n",
    "    f.write(\"this is my suspicuous code \")\n",
    "    f.close()\n",
    "except Exception as e : \n",
    "    print(e)\n",
    "    print(\"this is  not my suspicious set of the code \")\n",
    "finally :\n",
    "    print(\"this block will be executed anytime \")"
   ]
  },
  {
   "cell_type": "code",
   "execution_count": 24,
   "id": "ec3be4c6",
   "metadata": {},
   "outputs": [],
   "source": [
    "def askint():\n",
    "    try :\n",
    "        val = int(input(\"plese enter an interger \"))\n",
    "    except:\n",
    "        print(\"no you have not entered an  integer \")\n",
    "        try :\n",
    "            val = int(input(\"plese enter an interger \"))\n",
    "        except : \n",
    "            print(\"we are able to handle your mistake second time \")\n",
    "    finally : \n",
    "         print(\"finally will be executed anyhow \")"
   ]
  },
  {
   "cell_type": "code",
   "execution_count": 25,
   "id": "b188cee1",
   "metadata": {},
   "outputs": [
    {
     "name": "stdout",
     "output_type": "stream",
     "text": [
      "plese enter an interger asd\n",
      "no you have not entered an  integer \n",
      "plese enter an interger 6\n",
      "finally will be executed anyhow \n"
     ]
    }
   ],
   "source": [
    "askint()"
   ]
  },
  {
   "cell_type": "code",
   "execution_count": 26,
   "id": "1fc1e932",
   "metadata": {},
   "outputs": [],
   "source": [
    "def askfloat():\n",
    "    try :\n",
    "        val = float(input(\"plese enter an interger \"))\n",
    "    except Exception as e:\n",
    "        print(e)\n",
    "        print(\"no you have not entered an  integer \")\n",
    "        try :\n",
    "            val = float(input(\"plese enter an interger \"))\n",
    "        except : \n",
    "            print(\"we are able to handle your mistake second time \")\n",
    "    finally : \n",
    "         print(\"finally will be executed anyhow \")"
   ]
  },
  {
   "cell_type": "code",
   "execution_count": 27,
   "id": "a745afcf",
   "metadata": {},
   "outputs": [
    {
     "name": "stdout",
     "output_type": "stream",
     "text": [
      "plese enter an interger 8\n",
      "finally will be executed anyhow \n"
     ]
    }
   ],
   "source": [
    "askfloat()"
   ]
  },
  {
   "cell_type": "code",
   "execution_count": 28,
   "id": "1d7ea2a4",
   "metadata": {},
   "outputs": [
    {
     "data": {
      "text/plain": [
       "5.0"
      ]
     },
     "execution_count": 28,
     "metadata": {},
     "output_type": "execute_result"
    }
   ],
   "source": [
    "float(5)"
   ]
  },
  {
   "cell_type": "code",
   "execution_count": 29,
   "id": "ef30442f",
   "metadata": {},
   "outputs": [
    {
     "data": {
      "text/plain": [
       "5"
      ]
     },
     "execution_count": 29,
     "metadata": {},
     "output_type": "execute_result"
    }
   ],
   "source": [
    "int(5.0)"
   ]
  },
  {
   "cell_type": "code",
   "execution_count": 30,
   "id": "fc28ec16",
   "metadata": {},
   "outputs": [
    {
     "ename": "ValueError",
     "evalue": "invalid literal for int() with base 10: 'hg'",
     "output_type": "error",
     "traceback": [
      "\u001b[1;31m---------------------------------------------------------------------------\u001b[0m",
      "\u001b[1;31mValueError\u001b[0m                                Traceback (most recent call last)",
      "Cell \u001b[1;32mIn[30], line 1\u001b[0m\n\u001b[1;32m----> 1\u001b[0m \u001b[38;5;28mint\u001b[39m(\u001b[38;5;124m\"\u001b[39m\u001b[38;5;124mhg\u001b[39m\u001b[38;5;124m\"\u001b[39m)\n",
      "\u001b[1;31mValueError\u001b[0m: invalid literal for int() with base 10: 'hg'"
     ]
    }
   ],
   "source": [
    "int(\"hg\")"
   ]
  },
  {
   "cell_type": "code",
   "execution_count": 32,
   "id": "c13380c4",
   "metadata": {},
   "outputs": [],
   "source": [
    "def que1( ) :\n",
    "        \n",
    "        try :\n",
    "           \n",
    "            set1 = {'cat','dog','lion','tiger','elephant','rabbit'}\n",
    "\n",
    "            print(set1)\n",
    "            \n",
    "        except Exception as e :\n",
    "           \n",
    "            print(e)"
   ]
  },
  {
   "cell_type": "code",
   "execution_count": 33,
   "id": "2f134428",
   "metadata": {},
   "outputs": [
    {
     "name": "stdout",
     "output_type": "stream",
     "text": [
      "{'dog', 'cat', 'elephant', 'tiger', 'rabbit', 'lion'}\n"
     ]
    }
   ],
   "source": [
    "que1( )"
   ]
  },
  {
   "cell_type": "code",
   "execution_count": 34,
   "id": "0c90378b",
   "metadata": {},
   "outputs": [],
   "source": [
    "def askint1():\n",
    "    while True :\n",
    "        try :\n",
    "            val = int(input(\"please try to input an interger \"))\n",
    "            break \n",
    "        except : \n",
    "            print(\"looks like you have not enterd an integer \")\n",
    "            continue"
   ]
  },
  {
   "cell_type": "code",
   "execution_count": 35,
   "id": "bccf80ef",
   "metadata": {},
   "outputs": [
    {
     "name": "stdout",
     "output_type": "stream",
     "text": [
      "please try to input an interger iuy\n",
      "looks like you have not enterd an integer \n",
      "please try to input an interger hg\n",
      "looks like you have not enterd an integer \n",
      "please try to input an interger lj\n",
      "looks like you have not enterd an integer \n",
      "please try to input an interger gf\n",
      "looks like you have not enterd an integer \n",
      "please try to input an interger hg\n",
      "looks like you have not enterd an integer \n",
      "please try to input an interger hg\n",
      "looks like you have not enterd an integer \n",
      "please try to input an interger hg\n",
      "looks like you have not enterd an integer \n",
      "please try to input an interger hg\n",
      "looks like you have not enterd an integer \n",
      "please try to input an interger ghcv\n",
      "looks like you have not enterd an integer \n",
      "please try to input an interger gf\n",
      "looks like you have not enterd an integer \n",
      "please try to input an interger hg\n",
      "looks like you have not enterd an integer \n",
      "please try to input an interger 7\n"
     ]
    }
   ],
   "source": [
    "askint1()"
   ]
  },
  {
   "cell_type": "code",
   "execution_count": null,
   "id": "8fe2aeec",
   "metadata": {},
   "outputs": [],
   "source": [
    "def askint3():\n",
    "    while True :\n",
    "        try :\n",
    "            val=int(input('enter integer'))\n",
    "            break\n",
    "        except :\n",
    "            print('Plz enter integer')\n",
    "            continue\n",
    "        finally :\n",
    "            print(\"it will be executed always\")"
   ]
  },
  {
   "cell_type": "code",
   "execution_count": 36,
   "id": "01a43ae2",
   "metadata": {},
   "outputs": [],
   "source": [
    "def check_str1(a):\n",
    "    try:\n",
    "        for i in a:\n",
    "            if type(i) == str:\n",
    "                print(i)\n",
    "    except Exception as e:\n",
    "        print(e)"
   ]
  },
  {
   "cell_type": "code",
   "execution_count": 37,
   "id": "2a4c1f44",
   "metadata": {},
   "outputs": [
    {
     "name": "stdout",
     "output_type": "stream",
     "text": [
      "Enter a number: \n",
      "invalid literal for int() with base 10: ''\n",
      "Not an even number!\n"
     ]
    }
   ],
   "source": [
    "# program to print the reciprocal of even numbers\n",
    "\n",
    "try:\n",
    "    num = int(input(\"Enter a number: \"))\n",
    "    assert num % 2 == 0\n",
    "except Exception as e:\n",
    "    print(e)\n",
    "    print(\"Not an even number!\")\n",
    "else:\n",
    "    reciprocal = 1/num\n",
    "    print(reciprocal)"
   ]
  },
  {
   "cell_type": "code",
   "execution_count": 38,
   "id": "dd2a1f59",
   "metadata": {},
   "outputs": [
    {
     "name": "stdout",
     "output_type": "stream",
     "text": [
      "Enter a number: 7\n",
      "\n",
      "Not an even number!\n"
     ]
    }
   ],
   "source": [
    "try:\n",
    "    num = int(input(\"Enter a number: \"))\n",
    "    assert num % 2 == 0\n",
    "except Exception as e:\n",
    "    print(e)\n",
    "    print(\"Not an even number!\")\n",
    "else:\n",
    "    reciprocal = 1/num\n",
    "    print(reciprocal)"
   ]
  },
  {
   "cell_type": "code",
   "execution_count": 40,
   "id": "6fd48342",
   "metadata": {},
   "outputs": [
    {
     "name": "stdout",
     "output_type": "stream",
     "text": [
      "[[4, 5, 6, 4]]\n"
     ]
    }
   ],
   "source": [
    "l = [4,5,6,4]\n",
    "l1 =[]\n",
    "l1.append(l)\n",
    "print(l1)"
   ]
  },
  {
   "cell_type": "code",
   "execution_count": 41,
   "id": "717dcc99",
   "metadata": {},
   "outputs": [
    {
     "name": "stdout",
     "output_type": "stream",
     "text": [
      "[[4, 6]]\n"
     ]
    }
   ],
   "source": [
    "l = [4,6]\n",
    "try:\n",
    "    l1 =[]\n",
    "    l1.append(l)\n",
    "    print(l1)\n",
    "except Exception as e:\n",
    "    print(e)"
   ]
  },
  {
   "cell_type": "code",
   "execution_count": null,
   "id": "1b4dc33f",
   "metadata": {},
   "outputs": [],
   "source": []
  }
 ],
 "metadata": {
  "kernelspec": {
   "display_name": "Python 3 (ipykernel)",
   "language": "python",
   "name": "python3"
  },
  "language_info": {
   "codemirror_mode": {
    "name": "ipython",
    "version": 3
   },
   "file_extension": ".py",
   "mimetype": "text/x-python",
   "name": "python",
   "nbconvert_exporter": "python",
   "pygments_lexer": "ipython3",
   "version": "3.11.5"
  }
 },
 "nbformat": 4,
 "nbformat_minor": 5
}
