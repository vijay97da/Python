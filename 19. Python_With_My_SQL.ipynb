{
 "cells": [
  {
   "cell_type": "code",
   "execution_count": 1,
   "id": "9cfdef4a",
   "metadata": {},
   "outputs": [
    {
     "name": "stdout",
     "output_type": "stream",
     "text": [
      "Collecting mysql-connector-python\n",
      "  Obtaining dependency information for mysql-connector-python from https://files.pythonhosted.org/packages/d9/91/007a0d60fee8db4f7385075dc50bf62d2d359b417b374ec06b06ce6c2d64/mysql_connector_python-8.3.0-cp311-cp311-win_amd64.whl.metadata\n",
      "  Downloading mysql_connector_python-8.3.0-cp311-cp311-win_amd64.whl.metadata (2.0 kB)\n",
      "Downloading mysql_connector_python-8.3.0-cp311-cp311-win_amd64.whl (15.4 MB)\n",
      "   ---------------------------------------- 0.0/15.4 MB ? eta -:--:--\n",
      "   ---------------------------------------- 0.0/15.4 MB ? eta -:--:--\n",
      "   ---------------------------------------- 0.0/15.4 MB ? eta -:--:--\n",
      "   ---------------------------------------- 0.0/15.4 MB 330.3 kB/s eta 0:00:47\n",
      "   ---------------------------------------- 0.1/15.4 MB 409.6 kB/s eta 0:00:38\n",
      "    --------------------------------------- 0.2/15.4 MB 1.3 MB/s eta 0:00:13\n",
      "   - -------------------------------------- 0.7/15.4 MB 3.1 MB/s eta 0:00:05\n",
      "   -- ------------------------------------- 0.9/15.4 MB 3.5 MB/s eta 0:00:05\n",
      "   -- ------------------------------------- 1.1/15.4 MB 3.5 MB/s eta 0:00:05\n",
      "   --- ------------------------------------ 1.3/15.4 MB 3.6 MB/s eta 0:00:04\n",
      "   --- ------------------------------------ 1.3/15.4 MB 3.6 MB/s eta 0:00:04\n",
      "   --- ------------------------------------ 1.3/15.4 MB 3.6 MB/s eta 0:00:04\n",
      "   ---- ----------------------------------- 1.8/15.4 MB 3.6 MB/s eta 0:00:04\n",
      "   ----- ---------------------------------- 2.0/15.4 MB 3.7 MB/s eta 0:00:04\n",
      "   ----- ---------------------------------- 2.1/15.4 MB 3.5 MB/s eta 0:00:04\n",
      "   ----- ---------------------------------- 2.2/15.4 MB 3.4 MB/s eta 0:00:04\n",
      "   ----- ---------------------------------- 2.2/15.4 MB 3.4 MB/s eta 0:00:04\n",
      "   ----- ---------------------------------- 2.2/15.4 MB 3.0 MB/s eta 0:00:05\n",
      "   ------ --------------------------------- 2.4/15.4 MB 3.1 MB/s eta 0:00:05\n",
      "   ------ --------------------------------- 2.6/15.4 MB 3.1 MB/s eta 0:00:05\n",
      "   ------- -------------------------------- 2.8/15.4 MB 3.2 MB/s eta 0:00:04\n",
      "   -------- ------------------------------- 3.1/15.4 MB 3.4 MB/s eta 0:00:04\n",
      "   -------- ------------------------------- 3.3/15.4 MB 3.4 MB/s eta 0:00:04\n",
      "   -------- ------------------------------- 3.5/15.4 MB 3.4 MB/s eta 0:00:04\n",
      "   --------- ------------------------------ 3.6/15.4 MB 3.4 MB/s eta 0:00:04\n",
      "   --------- ------------------------------ 3.6/15.4 MB 3.4 MB/s eta 0:00:04\n",
      "   --------- ------------------------------ 3.6/15.4 MB 3.4 MB/s eta 0:00:04\n",
      "   --------- ------------------------------ 3.9/15.4 MB 3.2 MB/s eta 0:00:04\n",
      "   ---------- ----------------------------- 4.1/15.4 MB 3.3 MB/s eta 0:00:04\n",
      "   ----------- ---------------------------- 4.5/15.4 MB 3.5 MB/s eta 0:00:04\n",
      "   ------------ --------------------------- 4.7/15.4 MB 3.5 MB/s eta 0:00:04\n",
      "   ------------ --------------------------- 4.9/15.4 MB 3.5 MB/s eta 0:00:03\n",
      "   ------------- -------------------------- 5.1/15.4 MB 3.5 MB/s eta 0:00:03\n",
      "   ------------- -------------------------- 5.3/15.4 MB 3.5 MB/s eta 0:00:03\n",
      "   -------------- ------------------------- 5.4/15.4 MB 3.6 MB/s eta 0:00:03\n",
      "   -------------- ------------------------- 5.6/15.4 MB 3.5 MB/s eta 0:00:03\n",
      "   -------------- ------------------------- 5.8/15.4 MB 3.5 MB/s eta 0:00:03\n",
      "   --------------- ------------------------ 5.9/15.4 MB 3.6 MB/s eta 0:00:03\n",
      "   --------------- ------------------------ 6.1/15.4 MB 3.6 MB/s eta 0:00:03\n",
      "   ---------------- ----------------------- 6.3/15.4 MB 3.6 MB/s eta 0:00:03\n",
      "   ---------------- ----------------------- 6.5/15.4 MB 3.6 MB/s eta 0:00:03\n",
      "   ----------------- ---------------------- 6.6/15.4 MB 3.6 MB/s eta 0:00:03\n",
      "   ----------------- ---------------------- 6.8/15.4 MB 3.6 MB/s eta 0:00:03\n",
      "   ------------------ --------------------- 6.9/15.4 MB 3.6 MB/s eta 0:00:03\n",
      "   ------------------ --------------------- 7.1/15.4 MB 3.6 MB/s eta 0:00:03\n",
      "   ------------------ --------------------- 7.3/15.4 MB 3.6 MB/s eta 0:00:03\n",
      "   ------------------- -------------------- 7.4/15.4 MB 3.6 MB/s eta 0:00:03\n",
      "   ------------------- -------------------- 7.6/15.4 MB 3.6 MB/s eta 0:00:03\n",
      "   -------------------- ------------------- 7.8/15.4 MB 3.6 MB/s eta 0:00:03\n",
      "   -------------------- ------------------- 7.9/15.4 MB 3.6 MB/s eta 0:00:03\n",
      "   --------------------- ------------------ 8.1/15.4 MB 3.6 MB/s eta 0:00:03\n",
      "   --------------------- ------------------ 8.3/15.4 MB 3.6 MB/s eta 0:00:02\n",
      "   --------------------- ------------------ 8.4/15.4 MB 3.6 MB/s eta 0:00:02\n",
      "   ---------------------- ----------------- 8.6/15.4 MB 3.6 MB/s eta 0:00:02\n",
      "   ---------------------- ----------------- 8.8/15.4 MB 3.6 MB/s eta 0:00:02\n",
      "   ----------------------- ---------------- 8.9/15.4 MB 3.6 MB/s eta 0:00:02\n",
      "   ----------------------- ---------------- 9.1/15.4 MB 3.6 MB/s eta 0:00:02\n",
      "   ------------------------ --------------- 9.3/15.4 MB 3.6 MB/s eta 0:00:02\n",
      "   ------------------------ --------------- 9.5/15.4 MB 3.6 MB/s eta 0:00:02\n",
      "   ------------------------- -------------- 9.7/15.4 MB 3.6 MB/s eta 0:00:02\n",
      "   ------------------------- -------------- 9.9/15.4 MB 3.6 MB/s eta 0:00:02\n",
      "   -------------------------- ------------- 10.0/15.4 MB 3.6 MB/s eta 0:00:02\n",
      "   -------------------------- ------------- 10.2/15.4 MB 3.6 MB/s eta 0:00:02\n",
      "   -------------------------- ------------- 10.4/15.4 MB 3.8 MB/s eta 0:00:02\n",
      "   --------------------------- ------------ 10.6/15.4 MB 3.7 MB/s eta 0:00:02\n",
      "   --------------------------- ------------ 10.7/15.4 MB 3.7 MB/s eta 0:00:02\n",
      "   ---------------------------- ----------- 10.9/15.4 MB 3.7 MB/s eta 0:00:02\n",
      "   ---------------------------- ----------- 11.1/15.4 MB 3.6 MB/s eta 0:00:02\n",
      "   ----------------------------- ---------- 11.3/15.4 MB 3.6 MB/s eta 0:00:02\n",
      "   ----------------------------- ---------- 11.5/15.4 MB 3.6 MB/s eta 0:00:02\n",
      "   ------------------------------ --------- 11.7/15.4 MB 3.8 MB/s eta 0:00:01\n",
      "   ------------------------------ --------- 11.8/15.4 MB 3.7 MB/s eta 0:00:01\n",
      "   ------------------------------- -------- 12.0/15.4 MB 3.7 MB/s eta 0:00:01\n",
      "   ------------------------------- -------- 12.2/15.4 MB 3.6 MB/s eta 0:00:01\n",
      "   -------------------------------- ------- 12.4/15.4 MB 3.7 MB/s eta 0:00:01\n",
      "   -------------------------------- ------- 12.6/15.4 MB 3.8 MB/s eta 0:00:01\n",
      "   --------------------------------- ------ 12.7/15.4 MB 3.8 MB/s eta 0:00:01\n",
      "   --------------------------------- ------ 12.9/15.4 MB 3.8 MB/s eta 0:00:01\n",
      "   ---------------------------------- ----- 13.1/15.4 MB 3.8 MB/s eta 0:00:01\n",
      "   ---------------------------------- ----- 13.3/15.4 MB 3.7 MB/s eta 0:00:01\n",
      "   ---------------------------------- ----- 13.5/15.4 MB 3.8 MB/s eta 0:00:01\n",
      "   ----------------------------------- ---- 13.6/15.4 MB 3.8 MB/s eta 0:00:01\n",
      "   ----------------------------------- ---- 13.8/15.4 MB 3.8 MB/s eta 0:00:01\n",
      "   ------------------------------------ --- 14.0/15.4 MB 3.9 MB/s eta 0:00:01\n",
      "   ------------------------------------ --- 14.2/15.4 MB 3.9 MB/s eta 0:00:01\n",
      "   ------------------------------------- -- 14.4/15.4 MB 3.9 MB/s eta 0:00:01\n",
      "   ------------------------------------- -- 14.5/15.4 MB 3.8 MB/s eta 0:00:01\n",
      "   -------------------------------------- - 14.7/15.4 MB 3.8 MB/s eta 0:00:01\n",
      "   -------------------------------------- - 14.9/15.4 MB 3.8 MB/s eta 0:00:01\n",
      "   ---------------------------------------  15.1/15.4 MB 3.8 MB/s eta 0:00:01\n",
      "   ---------------------------------------  15.3/15.4 MB 3.8 MB/s eta 0:00:01\n",
      "   ---------------------------------------  15.4/15.4 MB 3.8 MB/s eta 0:00:01\n",
      "   ---------------------------------------  15.4/15.4 MB 3.8 MB/s eta 0:00:01\n",
      "   ---------------------------------------- 15.4/15.4 MB 3.6 MB/s eta 0:00:00\n",
      "Installing collected packages: mysql-connector-python\n",
      "Successfully installed mysql-connector-python-8.3.0\n"
     ]
    }
   ],
   "source": [
    "# install mysql connection package\n",
    "!pip install mysql-connector-python"
   ]
  },
  {
   "cell_type": "code",
   "execution_count": 3,
   "id": "f67fd665",
   "metadata": {},
   "outputs": [],
   "source": [
    "# import module\n",
    "import mysql.connector as conn"
   ]
  },
  {
   "cell_type": "code",
   "execution_count": 72,
   "id": "0cb8836e",
   "metadata": {},
   "outputs": [
    {
     "name": "stdout",
     "output_type": "stream",
     "text": [
      "<mysql.connector.connection_cext.CMySQLConnection object at 0x00000265C0D1B9D0>\n"
     ]
    }
   ],
   "source": [
    "# make a connection with mysql\n",
    "mydb = conn.connect(host=\"localhost\", user=\"root\", password=\"Betul3146\")\n",
    "\n",
    "print(mydb)"
   ]
  },
  {
   "cell_type": "code",
   "execution_count": 73,
   "id": "5e957cd2",
   "metadata": {},
   "outputs": [],
   "source": [
    "#create a database in mysql \n",
    "mycursor = mydb.cursor()"
   ]
  },
  {
   "cell_type": "code",
   "execution_count": 22,
   "id": "25b127eb",
   "metadata": {},
   "outputs": [],
   "source": [
    "mycursor.execute(\"CREATE DATABASE df\")"
   ]
  },
  {
   "cell_type": "code",
   "execution_count": 77,
   "id": "f6debbac",
   "metadata": {},
   "outputs": [
    {
     "name": "stdout",
     "output_type": "stream",
     "text": [
      "CMySQLCursor: use df\n"
     ]
    }
   ],
   "source": [
    "print(mycursor)"
   ]
  },
  {
   "cell_type": "code",
   "execution_count": 78,
   "id": "a290ab41",
   "metadata": {},
   "outputs": [
    {
     "data": {
      "text/plain": [
       "[('class_11',),\n",
       " ('class_7',),\n",
       " ('demo',),\n",
       " ('df',),\n",
       " ('information_schema',),\n",
       " ('key',),\n",
       " ('mysql',),\n",
       " ('neuron',),\n",
       " ('operation',),\n",
       " ('performance_schema',),\n",
       " ('sakila',),\n",
       " ('sales',),\n",
       " ('sys',),\n",
       " ('test_partition',),\n",
       " ('trainning',),\n",
       " ('win_fun',),\n",
       " ('world',)]"
      ]
     },
     "execution_count": 78,
     "metadata": {},
     "output_type": "execute_result"
    }
   ],
   "source": [
    "#show database\n",
    "mycursor.execute(\"SHOW DATABASES\")\n",
    "mycursor.fetchall()\n",
    "#for x in result:\n",
    "    #print(x)"
   ]
  },
  {
   "cell_type": "code",
   "execution_count": 20,
   "id": "beae6376",
   "metadata": {},
   "outputs": [],
   "source": [
    "mycursor.execute(\"DROP DATABASE df\")"
   ]
  },
  {
   "cell_type": "code",
   "execution_count": 79,
   "id": "2a25a8be",
   "metadata": {},
   "outputs": [
    {
     "data": {
      "text/plain": [
       "[('class_11',),\n",
       " ('class_7',),\n",
       " ('demo',),\n",
       " ('df',),\n",
       " ('information_schema',),\n",
       " ('key',),\n",
       " ('mysql',),\n",
       " ('neuron',),\n",
       " ('operation',),\n",
       " ('performance_schema',),\n",
       " ('sakila',),\n",
       " ('sales',),\n",
       " ('sys',),\n",
       " ('test_partition',),\n",
       " ('trainning',),\n",
       " ('win_fun',),\n",
       " ('world',)]"
      ]
     },
     "execution_count": 79,
     "metadata": {},
     "output_type": "execute_result"
    }
   ],
   "source": [
    "mycursor.execute(\"SHOW DATABASES\")\n",
    "mycursor.fetchall()"
   ]
  },
  {
   "cell_type": "code",
   "execution_count": 80,
   "id": "f8a268e6",
   "metadata": {},
   "outputs": [],
   "source": [
    "mycursor.execute(\"USE df\")"
   ]
  },
  {
   "cell_type": "code",
   "execution_count": 25,
   "id": "924f5cc1",
   "metadata": {},
   "outputs": [],
   "source": [
    "#CREATE TABLE \n",
    "mycursor.execute(\"CREATE TABLE customer (name VARCHAR(255), address VARCHAR(255))\")"
   ]
  },
  {
   "cell_type": "code",
   "execution_count": 26,
   "id": "0fe8377b",
   "metadata": {},
   "outputs": [],
   "source": [
    "# HERE WE EDIT THE TABLE ADD ANOTHER COLUMN \"MOB\", WHICH IS AUTOINCREMENTED AND ALSO PRIMARY KEY\n",
    "mycursor.execute(\"ALTER TABLE customer ADD COLUMN id INT AUTO_INCREMENT PRIMARY KEY\")"
   ]
  },
  {
   "cell_type": "code",
   "execution_count": 27,
   "id": "d7452cd9",
   "metadata": {},
   "outputs": [],
   "source": [
    "#inserting single row \n",
    "# NO NEED OF GIVE PARAMETER WHICH IS AUTOINCEMENTED\n",
    "sql = \"INSERT INTO customer (name, address) VALUES (%s, %s)\"\n",
    "val = (\"ROHIT\", \"Highway 21\")\n",
    "mycursor.execute(sql, val)\n",
    "mydb.commit()"
   ]
  },
  {
   "cell_type": "code",
   "execution_count": 28,
   "id": "84b5762b",
   "metadata": {},
   "outputs": [
    {
     "name": "stdout",
     "output_type": "stream",
     "text": [
      "1 record inserted.\n"
     ]
    }
   ],
   "source": [
    "print(mycursor.rowcount, \"record inserted.\")"
   ]
  },
  {
   "cell_type": "code",
   "execution_count": 29,
   "id": "9197e446",
   "metadata": {},
   "outputs": [],
   "source": [
    "# INSERT MANY VALUE AT A TIME\n",
    "sql = \"INSERT INTO customer(name, address) VALUES (%s, %s)\"\n",
    "val = [(\"ROHIT\", \"Highway 21\"),\n",
    "  ('Peter', 'Lowstreet 4'),\n",
    "  ('Ammy', 'Apple st 652'),\n",
    "  ('Huma', 'Mountain 21')]"
   ]
  },
  {
   "cell_type": "code",
   "execution_count": 30,
   "id": "184d2a30",
   "metadata": {},
   "outputs": [
    {
     "name": "stdout",
     "output_type": "stream",
     "text": [
      "4 was inserted.\n"
     ]
    }
   ],
   "source": [
    "#COMMIT THE VALUE WHICH WE INSERTED \n",
    "mycursor.executemany(sql, val)\n",
    "\n",
    "mydb.commit()\n",
    "\n",
    "print(mycursor.rowcount, \"was inserted.\")"
   ]
  },
  {
   "cell_type": "code",
   "execution_count": 31,
   "id": "2d01d563",
   "metadata": {},
   "outputs": [
    {
     "name": "stdout",
     "output_type": "stream",
     "text": [
      "1 record inserted, ID: 6\n"
     ]
    }
   ],
   "source": [
    "#here again inserted a valus but will show the saperate id name of last added row\n",
    "sql = \"INSERT INTO customer (name, address) VALUES (%s, %s)\"\n",
    "val = (\"Mohit\", \"sainagar\")\n",
    "mycursor.execute(sql, val)\n",
    "\n",
    "mydb.commit()\n",
    "print(\"1 record inserted, ID:\", mycursor.lastrowid)"
   ]
  },
  {
   "cell_type": "code",
   "execution_count": 32,
   "id": "0fff2a12",
   "metadata": {},
   "outputs": [
    {
     "name": "stdout",
     "output_type": "stream",
     "text": [
      "('ROHIT', 'Highway 21', 1)\n",
      "('ROHIT', 'Highway 21', 2)\n",
      "('Peter', 'Lowstreet 4', 3)\n",
      "('Ammy', 'Apple st 652', 4)\n",
      "('Huma', 'Mountain 21', 5)\n",
      "('Mohit', 'sainagar', 6)\n"
     ]
    }
   ],
   "source": [
    "# for view all the existing records available in table\n",
    "mycursor.execute(\"SELECT * FROM customer\")\n",
    "\n",
    "myresult = mycursor.fetchall()\n",
    "\n",
    "for x in myresult:\n",
    "      print(x)"
   ]
  },
  {
   "cell_type": "code",
   "execution_count": 33,
   "id": "13c4848a",
   "metadata": {},
   "outputs": [
    {
     "name": "stdout",
     "output_type": "stream",
     "text": [
      "('ROHIT', 'Highway 21')\n",
      "('ROHIT', 'Highway 21')\n",
      "('Peter', 'Lowstreet 4')\n",
      "('Ammy', 'Apple st 652')\n",
      "('Huma', 'Mountain 21')\n",
      "('Mohit', 'sainagar')\n"
     ]
    }
   ],
   "source": [
    "# here we can view seperately induvisual column like here we are showing name and address\n",
    "\n",
    "mycursor.execute(\"SELECT name, address FROM customer\")\n",
    "\n",
    "myresult = mycursor.fetchall()\n",
    "\n",
    "for x in myresult:\n",
    "    print(x)"
   ]
  },
  {
   "cell_type": "code",
   "execution_count": 34,
   "id": "bf7330f9",
   "metadata": {},
   "outputs": [
    {
     "name": "stdout",
     "output_type": "stream",
     "text": [
      "('ROHIT',)\n",
      "('ROHIT',)\n",
      "('Peter',)\n",
      "('Ammy',)\n",
      "('Huma',)\n",
      "('Mohit',)\n"
     ]
    }
   ],
   "source": [
    "mycursor.execute(\"SELECT name FROM customer\")\n",
    "\n",
    "myresult = mycursor.fetchall()\n",
    "\n",
    "for x in myresult:\n",
    "    print(x)"
   ]
  },
  {
   "cell_type": "code",
   "execution_count": 35,
   "id": "bf487780",
   "metadata": {},
   "outputs": [
    {
     "name": "stdout",
     "output_type": "stream",
     "text": [
      "('Mohit', 'sainagar', 6)\n"
     ]
    }
   ],
   "source": [
    "# we filtering the data by using where condition \n",
    "sql = \"SELECT * FROM customer WHERE address ='sainagar'\"\n",
    "\n",
    "mycursor.execute(sql)\n",
    "\n",
    "myresult = mycursor.fetchall()\n",
    "\n",
    "for x in myresult:\n",
    "    print(x)"
   ]
  },
  {
   "cell_type": "code",
   "execution_count": 36,
   "id": "8cebe9a8",
   "metadata": {},
   "outputs": [
    {
     "name": "stdout",
     "output_type": "stream",
     "text": [
      "('Ammy', 'Apple st 652', 4)\n"
     ]
    }
   ],
   "source": [
    "# with only single word in syllabus we are applying filter  \"Wildcard Character\"\n",
    "sql = \"SELECT * FROM customer WHERE address LIKE '%652%'\"\n",
    "\n",
    "mycursor.execute(sql)\n",
    "\n",
    "myresult = mycursor.fetchall()\n",
    "\n",
    "for x in myresult:\n",
    "    print(x)"
   ]
  },
  {
   "cell_type": "code",
   "execution_count": 37,
   "id": "67d6c7b4",
   "metadata": {},
   "outputs": [],
   "source": [
    "### ?????????????\n",
    "sql = \"SELECT * FROM customer WHERE address = %s\"\n",
    "adr = (\"Yellow Garden 2\", )\n",
    "\n",
    "mycursor.execute(sql, adr)\n",
    "\n",
    "myresult = mycursor.fetchall()\n",
    "\n",
    "for x in myresult:\n",
    "    print(x)"
   ]
  },
  {
   "cell_type": "code",
   "execution_count": 38,
   "id": "3237e86f",
   "metadata": {},
   "outputs": [
    {
     "name": "stdout",
     "output_type": "stream",
     "text": [
      "('Ammy', 'Apple st 652', 4)\n",
      "('Huma', 'Mountain 21', 5)\n",
      "('Mohit', 'sainagar', 6)\n",
      "('Peter', 'Lowstreet 4', 3)\n",
      "('ROHIT', 'Highway 21', 1)\n",
      "('ROHIT', 'Highway 21', 2)\n"
     ]
    }
   ],
   "source": [
    "# using order by short the list  \n",
    "sql = \"SELECT * FROM customer ORDER BY name\"\n",
    "\n",
    "mycursor.execute(sql)\n",
    "\n",
    "myresult = mycursor.fetchall()\n",
    "\n",
    "for x in myresult:\n",
    "    print(x)"
   ]
  },
  {
   "cell_type": "code",
   "execution_count": 39,
   "id": "70ff40cc",
   "metadata": {},
   "outputs": [
    {
     "name": "stdout",
     "output_type": "stream",
     "text": [
      "('ROHIT', 'Highway 21', 1)\n",
      "('ROHIT', 'Highway 21', 2)\n",
      "('Peter', 'Lowstreet 4', 3)\n",
      "('Mohit', 'sainagar', 6)\n",
      "('Huma', 'Mountain 21', 5)\n",
      "('Ammy', 'Apple st 652', 4)\n"
     ]
    }
   ],
   "source": [
    "# order by descending order\n",
    "sql = \"SELECT * FROM customer ORDER BY name DESC\"\n",
    "\n",
    "mycursor.execute(sql)\n",
    "\n",
    "myresult = mycursor.fetchall()\n",
    "\n",
    "for x in myresult:\n",
    "    print(x)"
   ]
  },
  {
   "cell_type": "code",
   "execution_count": 40,
   "id": "83b98b10",
   "metadata": {},
   "outputs": [
    {
     "name": "stdout",
     "output_type": "stream",
     "text": [
      "('Ammy', 'Apple st 652', 4)\n",
      "('Huma', 'Mountain 21', 5)\n",
      "('Mohit', 'sainagar', 6)\n",
      "('Peter', 'Lowstreet 4', 3)\n",
      "('ROHIT', 'Highway 21', 1)\n",
      "('ROHIT', 'Highway 21', 2)\n"
     ]
    }
   ],
   "source": [
    "#short by ascending order\n",
    "\n",
    "sql = \"SELECT * FROM customer ORDER BY name ASC\"\n",
    "\n",
    "mycursor.execute(sql)\n",
    "\n",
    "myresult = mycursor.fetchall()\n",
    "\n",
    "for x in myresult:\n",
    "    print(x)"
   ]
  },
  {
   "cell_type": "code",
   "execution_count": 41,
   "id": "b514a373",
   "metadata": {},
   "outputs": [
    {
     "name": "stdout",
     "output_type": "stream",
     "text": [
      "1 record(s) deleted\n"
     ]
    }
   ],
   "source": [
    "# Delete record usning where condition \n",
    "\n",
    "sql = \"DELETE FROM customer WHERE address = 'Mountain 21'\"\n",
    "\n",
    "mycursor.execute(sql)\n",
    "\n",
    "mydb.commit()\n",
    "\n",
    "print(mycursor.rowcount, \"record(s) deleted\")"
   ]
  },
  {
   "cell_type": "code",
   "execution_count": 42,
   "id": "4a47da15",
   "metadata": {},
   "outputs": [
    {
     "name": "stdout",
     "output_type": "stream",
     "text": [
      "0 record(s) deleted\n"
     ]
    }
   ],
   "source": [
    "# It is considered a good practice to escape the values of any query, also in delete statements.\n",
    "\n",
    "# This is to prevent SQL injections, which is a common web hacking technique to destroy or misuse your database.\n",
    "\n",
    "# The mysql.connector module uses the placeholder %s to escape values in the delete statement: \n",
    "\n",
    "sql = \"DELETE FROM customer WHERE address = %s\"\n",
    "adr = (\"Yellow Garden 2\", )\n",
    "\n",
    "mycursor.execute(sql, adr)\n",
    "\n",
    "mydb.commit()\n",
    "\n",
    "print(mycursor.rowcount, \"record(s) deleted\")"
   ]
  },
  {
   "cell_type": "code",
   "execution_count": null,
   "id": "5d0cb4be",
   "metadata": {},
   "outputs": [],
   "source": [
    "# If the table you want to delete is already deleted, or for any other reason does not exist, you can use the IF EXISTS keyword to avoid getting an error.\n",
    "\n",
    "sql = \"DROP TABLE IF EXISTS customers\"\n",
    "\n",
    "mycursor.execute(sql)"
   ]
  },
  {
   "cell_type": "code",
   "execution_count": 43,
   "id": "0adda536",
   "metadata": {},
   "outputs": [
    {
     "name": "stdout",
     "output_type": "stream",
     "text": [
      "1 record(s) affected\n"
     ]
    }
   ],
   "source": [
    "# Update table Overwrite the address column from \"Valley 345\" to \"Canyon 123\":\n",
    "\n",
    "sql = \"UPDATE customer SET address = 'sainagar-2' WHERE address = 'sainagar'\"\n",
    "\n",
    "mycursor.execute(sql)\n",
    "\n",
    "mydb.commit()\n",
    "\n",
    "print(mycursor.rowcount, \"record(s) affected\")"
   ]
  },
  {
   "cell_type": "code",
   "execution_count": 44,
   "id": "18049aa4",
   "metadata": {},
   "outputs": [
    {
     "name": "stdout",
     "output_type": "stream",
     "text": [
      "0 record(s) affected\n"
     ]
    }
   ],
   "source": [
    "# Prevent SQL Injection: Escape values by using the placeholder %s method:\n",
    "\n",
    "sql = \"UPDATE customer SET address = %s WHERE address = %s\"\n",
    "val = (\"Valley 345\", \"Canyon 123\")\n",
    "\n",
    "mycursor.execute(sql, val)\n",
    "\n",
    "mydb.commit()\n",
    "\n",
    "print(mycursor.rowcount, \"record(s) affected\")"
   ]
  },
  {
   "cell_type": "code",
   "execution_count": 45,
   "id": "e7bb0f65",
   "metadata": {},
   "outputs": [
    {
     "name": "stdout",
     "output_type": "stream",
     "text": [
      "('ROHIT', 'Highway 21', 1)\n",
      "('ROHIT', 'Highway 21', 2)\n",
      "('Peter', 'Lowstreet 4', 3)\n"
     ]
    }
   ],
   "source": [
    "# you can limit the record and the row using limit \n",
    "\n",
    "mycursor.execute(\"SELECT * FROM customer LIMIT 3\")\n",
    "\n",
    "myresult = mycursor.fetchall()\n",
    "\n",
    "for x in myresult:\n",
    "    print(x)"
   ]
  },
  {
   "cell_type": "code",
   "execution_count": 52,
   "id": "5df69f79",
   "metadata": {},
   "outputs": [
    {
     "name": "stdout",
     "output_type": "stream",
     "text": [
      "('Peter', 'Lowstreet 4', 3)\n",
      "('Ammy', 'Apple st 652', 4)\n",
      "('Mohit', 'sainagar-2', 6)\n"
     ]
    }
   ],
   "source": [
    "# you can limit the record and the row using limit \n",
    "\n",
    "mycursor.execute(\"SELECT * FROM customer LIMIT 2, 3\")\n",
    "\n",
    "myresult = mycursor.fetchall()\n",
    "\n",
    "for x in myresult:\n",
    "    print(x)"
   ]
  },
  {
   "cell_type": "code",
   "execution_count": 48,
   "id": "9da3d012",
   "metadata": {},
   "outputs": [
    {
     "name": "stdout",
     "output_type": "stream",
     "text": [
      "('ROHIT', 'Highway 21', 1)\n",
      "('ROHIT', 'Highway 21', 2)\n",
      "('Peter', 'Lowstreet 4', 3)\n",
      "('Ammy', 'Apple st 652', 4)\n",
      "('Mohit', 'sainagar-2', 6)\n"
     ]
    }
   ],
   "source": [
    "# you can limit the record and the row using limit \n",
    "\n",
    "mycursor.execute(\"SELECT * FROM customer\")\n",
    "\n",
    "myresult = mycursor.fetchall()\n",
    "\n",
    "for x in myresult:\n",
    "    print(x)"
   ]
  },
  {
   "cell_type": "code",
   "execution_count": 55,
   "id": "0f18c86a",
   "metadata": {},
   "outputs": [
    {
     "name": "stdout",
     "output_type": "stream",
     "text": [
      "('Peter', 'Lowstreet 4', 3)\n",
      "('Ammy', 'Apple st 652', 4)\n",
      "('Mohit', 'sainagar-2', 6)\n"
     ]
    }
   ],
   "source": [
    "# offset Start from position 3, and return 5 records:\n",
    "\n",
    "mycursor.execute(\"SELECT * FROM customer LIMIT 5 OFFSET 2\")\n",
    "\n",
    "myresult = mycursor.fetchall()\n",
    "\n",
    "for x in myresult:\n",
    "    print(x)"
   ]
  },
  {
   "cell_type": "code",
   "execution_count": 56,
   "id": "9b12314a",
   "metadata": {},
   "outputs": [],
   "source": [
    "query = \"\"\"\n",
    "    SELECT name, address,\n",
    "    CASE\n",
    "        WHEN  id > 3 THEN '4-6'\n",
    "        ELSE '1-3'\n",
    "    END AS priority\n",
    "    FROM customer\n",
    "\"\"\""
   ]
  },
  {
   "cell_type": "code",
   "execution_count": 57,
   "id": "f441923c",
   "metadata": {},
   "outputs": [
    {
     "name": "stdout",
     "output_type": "stream",
     "text": [
      "('ROHIT', 'Highway 21', '1-3')\n",
      "('ROHIT', 'Highway 21', '1-3')\n",
      "('Peter', 'Lowstreet 4', '1-3')\n",
      "('Ammy', 'Apple st 652', '4-6')\n",
      "('Mohit', 'sainagar-2', '4-6')\n"
     ]
    }
   ],
   "source": [
    "mycursor.execute(query)\n",
    "\n",
    "myresult = mycursor.fetchall()\n",
    "\n",
    "for x in myresult:\n",
    "    print(x)"
   ]
  },
  {
   "cell_type": "code",
   "execution_count": 62,
   "id": "d5dfdcf2",
   "metadata": {},
   "outputs": [],
   "source": [
    "procedure_query = \"\"\"\n",
    "    DELIMITER //\n",
    "    CREATE PROCEDURE ProcedureName()\n",
    "    BEGIN\n",
    "        SELECT * FROM customer;\n",
    "    END //\n",
    "    DELIMITER ;\n",
    "\"\"\""
   ]
  },
  {
   "cell_type": "code",
   "execution_count": 63,
   "id": "80932bd4",
   "metadata": {},
   "outputs": [
    {
     "ename": "ProgrammingError",
     "evalue": "1064 (42000): You have an error in your SQL syntax; check the manual that corresponds to your MySQL server version for the right syntax to use near 'DELIMITER //\n    CREATE PROCEDURE ProcedureName()\n    BEGIN\n        SELECT * FRO' at line 1",
     "output_type": "error",
     "traceback": [
      "\u001b[1;31m---------------------------------------------------------------------------\u001b[0m",
      "\u001b[1;31mMySQLInterfaceError\u001b[0m                       Traceback (most recent call last)",
      "File \u001b[1;32m~\\anaconda3\\Lib\\site-packages\\mysql\\connector\\connection_cext.py:661\u001b[0m, in \u001b[0;36mCMySQLConnection.cmd_query\u001b[1;34m(self, query, raw, buffered, raw_as_string)\u001b[0m\n\u001b[0;32m    660\u001b[0m         query \u001b[38;5;241m=\u001b[39m query\u001b[38;5;241m.\u001b[39mencode(\u001b[38;5;124m\"\u001b[39m\u001b[38;5;124mutf-8\u001b[39m\u001b[38;5;124m\"\u001b[39m)\n\u001b[1;32m--> 661\u001b[0m     \u001b[38;5;28mself\u001b[39m\u001b[38;5;241m.\u001b[39m_cmysql\u001b[38;5;241m.\u001b[39mquery(\n\u001b[0;32m    662\u001b[0m         query,\n\u001b[0;32m    663\u001b[0m         raw\u001b[38;5;241m=\u001b[39mraw,\n\u001b[0;32m    664\u001b[0m         buffered\u001b[38;5;241m=\u001b[39mbuffered,\n\u001b[0;32m    665\u001b[0m         raw_as_string\u001b[38;5;241m=\u001b[39mraw_as_string,\n\u001b[0;32m    666\u001b[0m         query_attrs\u001b[38;5;241m=\u001b[39m\u001b[38;5;28mself\u001b[39m\u001b[38;5;241m.\u001b[39mquery_attrs,\n\u001b[0;32m    667\u001b[0m     )\n\u001b[0;32m    668\u001b[0m \u001b[38;5;28;01mexcept\u001b[39;00m MySQLInterfaceError \u001b[38;5;28;01mas\u001b[39;00m err:\n",
      "\u001b[1;31mMySQLInterfaceError\u001b[0m: You have an error in your SQL syntax; check the manual that corresponds to your MySQL server version for the right syntax to use near 'DELIMITER //\n    CREATE PROCEDURE ProcedureName()\n    BEGIN\n        SELECT * FRO' at line 1",
      "\nThe above exception was the direct cause of the following exception:\n",
      "\u001b[1;31mProgrammingError\u001b[0m                          Traceback (most recent call last)",
      "Cell \u001b[1;32mIn[63], line 1\u001b[0m\n\u001b[1;32m----> 1\u001b[0m mycursor\u001b[38;5;241m.\u001b[39mexecute(procedure_query)\n",
      "File \u001b[1;32m~\\anaconda3\\Lib\\site-packages\\mysql\\connector\\cursor_cext.py:374\u001b[0m, in \u001b[0;36mCMySQLCursor.execute\u001b[1;34m(self, operation, params, multi)\u001b[0m\n\u001b[0;32m    369\u001b[0m             \u001b[38;5;28;01mraise\u001b[39;00m ProgrammingError(\n\u001b[0;32m    370\u001b[0m                 \u001b[38;5;124m\"\u001b[39m\u001b[38;5;124mNot all parameters were used in the SQL statement\u001b[39m\u001b[38;5;124m\"\u001b[39m\n\u001b[0;32m    371\u001b[0m             )\n\u001b[0;32m    373\u001b[0m \u001b[38;5;28;01mtry\u001b[39;00m:\n\u001b[1;32m--> 374\u001b[0m     result \u001b[38;5;241m=\u001b[39m \u001b[38;5;28mself\u001b[39m\u001b[38;5;241m.\u001b[39m_cnx\u001b[38;5;241m.\u001b[39mcmd_query(\n\u001b[0;32m    375\u001b[0m         stmt,\n\u001b[0;32m    376\u001b[0m         raw\u001b[38;5;241m=\u001b[39m\u001b[38;5;28mself\u001b[39m\u001b[38;5;241m.\u001b[39m_raw,\n\u001b[0;32m    377\u001b[0m         buffered\u001b[38;5;241m=\u001b[39m\u001b[38;5;28mself\u001b[39m\u001b[38;5;241m.\u001b[39m_buffered,\n\u001b[0;32m    378\u001b[0m         raw_as_string\u001b[38;5;241m=\u001b[39m\u001b[38;5;28mself\u001b[39m\u001b[38;5;241m.\u001b[39m_raw_as_string,\n\u001b[0;32m    379\u001b[0m     )\n\u001b[0;32m    380\u001b[0m \u001b[38;5;28;01mexcept\u001b[39;00m MySQLInterfaceError \u001b[38;5;28;01mas\u001b[39;00m err:\n\u001b[0;32m    381\u001b[0m     \u001b[38;5;28;01mraise\u001b[39;00m get_mysql_exception(\n\u001b[0;32m    382\u001b[0m         msg\u001b[38;5;241m=\u001b[39merr\u001b[38;5;241m.\u001b[39mmsg, errno\u001b[38;5;241m=\u001b[39merr\u001b[38;5;241m.\u001b[39merrno, sqlstate\u001b[38;5;241m=\u001b[39merr\u001b[38;5;241m.\u001b[39msqlstate\n\u001b[0;32m    383\u001b[0m     ) \u001b[38;5;28;01mfrom\u001b[39;00m \u001b[38;5;21;01merr\u001b[39;00m\n",
      "File \u001b[1;32m~\\anaconda3\\Lib\\site-packages\\mysql\\connector\\opentelemetry\\context_propagation.py:74\u001b[0m, in \u001b[0;36mwith_context_propagation.<locals>.wrapper\u001b[1;34m(cnx, *args, **kwargs)\u001b[0m\n\u001b[0;32m     72\u001b[0m \u001b[38;5;250m\u001b[39m\u001b[38;5;124;03m\"\"\"Context propagation decorator.\"\"\"\u001b[39;00m\n\u001b[0;32m     73\u001b[0m \u001b[38;5;28;01mif\u001b[39;00m \u001b[38;5;129;01mnot\u001b[39;00m OTEL_ENABLED \u001b[38;5;129;01mor\u001b[39;00m \u001b[38;5;129;01mnot\u001b[39;00m cnx\u001b[38;5;241m.\u001b[39motel_context_propagation:\n\u001b[1;32m---> 74\u001b[0m     \u001b[38;5;28;01mreturn\u001b[39;00m method(cnx, \u001b[38;5;241m*\u001b[39margs, \u001b[38;5;241m*\u001b[39m\u001b[38;5;241m*\u001b[39mkwargs)\n\u001b[0;32m     76\u001b[0m current_span \u001b[38;5;241m=\u001b[39m trace\u001b[38;5;241m.\u001b[39mget_current_span()\n\u001b[0;32m     77\u001b[0m tp_header \u001b[38;5;241m=\u001b[39m \u001b[38;5;28;01mNone\u001b[39;00m\n",
      "File \u001b[1;32m~\\anaconda3\\Lib\\site-packages\\mysql\\connector\\connection_cext.py:669\u001b[0m, in \u001b[0;36mCMySQLConnection.cmd_query\u001b[1;34m(self, query, raw, buffered, raw_as_string)\u001b[0m\n\u001b[0;32m    661\u001b[0m     \u001b[38;5;28mself\u001b[39m\u001b[38;5;241m.\u001b[39m_cmysql\u001b[38;5;241m.\u001b[39mquery(\n\u001b[0;32m    662\u001b[0m         query,\n\u001b[0;32m    663\u001b[0m         raw\u001b[38;5;241m=\u001b[39mraw,\n\u001b[1;32m   (...)\u001b[0m\n\u001b[0;32m    666\u001b[0m         query_attrs\u001b[38;5;241m=\u001b[39m\u001b[38;5;28mself\u001b[39m\u001b[38;5;241m.\u001b[39mquery_attrs,\n\u001b[0;32m    667\u001b[0m     )\n\u001b[0;32m    668\u001b[0m \u001b[38;5;28;01mexcept\u001b[39;00m MySQLInterfaceError \u001b[38;5;28;01mas\u001b[39;00m err:\n\u001b[1;32m--> 669\u001b[0m     \u001b[38;5;28;01mraise\u001b[39;00m get_mysql_exception(\n\u001b[0;32m    670\u001b[0m         err\u001b[38;5;241m.\u001b[39merrno, msg\u001b[38;5;241m=\u001b[39merr\u001b[38;5;241m.\u001b[39mmsg, sqlstate\u001b[38;5;241m=\u001b[39merr\u001b[38;5;241m.\u001b[39msqlstate\n\u001b[0;32m    671\u001b[0m     ) \u001b[38;5;28;01mfrom\u001b[39;00m \u001b[38;5;21;01merr\u001b[39;00m\n\u001b[0;32m    672\u001b[0m \u001b[38;5;28;01mexcept\u001b[39;00m \u001b[38;5;167;01mAttributeError\u001b[39;00m \u001b[38;5;28;01mas\u001b[39;00m err:\n\u001b[0;32m    673\u001b[0m     addr \u001b[38;5;241m=\u001b[39m (\n\u001b[0;32m    674\u001b[0m         \u001b[38;5;28mself\u001b[39m\u001b[38;5;241m.\u001b[39m_unix_socket \u001b[38;5;28;01mif\u001b[39;00m \u001b[38;5;28mself\u001b[39m\u001b[38;5;241m.\u001b[39m_unix_socket \u001b[38;5;28;01melse\u001b[39;00m \u001b[38;5;124mf\u001b[39m\u001b[38;5;124m\"\u001b[39m\u001b[38;5;132;01m{\u001b[39;00m\u001b[38;5;28mself\u001b[39m\u001b[38;5;241m.\u001b[39m_host\u001b[38;5;132;01m}\u001b[39;00m\u001b[38;5;124m:\u001b[39m\u001b[38;5;132;01m{\u001b[39;00m\u001b[38;5;28mself\u001b[39m\u001b[38;5;241m.\u001b[39m_port\u001b[38;5;132;01m}\u001b[39;00m\u001b[38;5;124m\"\u001b[39m\n\u001b[0;32m    675\u001b[0m     )\n",
      "\u001b[1;31mProgrammingError\u001b[0m: 1064 (42000): You have an error in your SQL syntax; check the manual that corresponds to your MySQL server version for the right syntax to use near 'DELIMITER //\n    CREATE PROCEDURE ProcedureName()\n    BEGIN\n        SELECT * FRO' at line 1"
     ]
    }
   ],
   "source": [
    "mycursor.execute(procedure_query)"
   ]
  },
  {
   "cell_type": "code",
   "execution_count": 87,
   "id": "4abdc67a",
   "metadata": {},
   "outputs": [],
   "source": [
    "create_procedure_query = \"\"\"\n",
    "    CREATE PROCEDURE YourProcedure()\n",
    "    BEGIN\n",
    "        SELECT * FROM customer;\n",
    "    END \n",
    "\"\"\""
   ]
  },
  {
   "cell_type": "code",
   "execution_count": 89,
   "id": "c7fe55fc",
   "metadata": {},
   "outputs": [],
   "source": [
    "mycursor.execute(create_procedure_query )"
   ]
  },
  {
   "cell_type": "code",
   "execution_count": 90,
   "id": "57d17afd",
   "metadata": {},
   "outputs": [],
   "source": [
    "mydb.commit()"
   ]
  },
  {
   "cell_type": "code",
   "execution_count": 69,
   "id": "e2808a6a",
   "metadata": {},
   "outputs": [],
   "source": [
    "#mycursor.close()\n",
    "#mydb.close()"
   ]
  },
  {
   "cell_type": "code",
   "execution_count": 113,
   "id": "acac8668",
   "metadata": {},
   "outputs": [
    {
     "data": {
      "text/plain": [
       "()"
      ]
     },
     "execution_count": 113,
     "metadata": {},
     "output_type": "execute_result"
    }
   ],
   "source": [
    "mycursor.callproc('YourProcedure')"
   ]
  },
  {
   "cell_type": "code",
   "execution_count": 112,
   "id": "17f9b8b2",
   "metadata": {},
   "outputs": [],
   "source": [
    "mycursor.callproc('YourProcedure')\n",
    "mycursor.fetchall()\n",
    "for row in result:\n",
    "    print(row)"
   ]
  },
  {
   "cell_type": "code",
   "execution_count": 103,
   "id": "f1be6eaa",
   "metadata": {},
   "outputs": [],
   "source": [
    "procedure_query = \"\"\"\n",
    "    CREATE PROCEDURE pro_2(IN col VARCHAR(255))\n",
    "    BEGIN\n",
    "        SELECT col FROM customer;\n",
    "    END\n",
    "\"\"\""
   ]
  },
  {
   "cell_type": "code",
   "execution_count": 104,
   "id": "ecd4b9f7",
   "metadata": {},
   "outputs": [],
   "source": [
    "mycursor.execute(procedure_query)"
   ]
  }
 ],
 "metadata": {
  "kernelspec": {
   "display_name": "Python 3 (ipykernel)",
   "language": "python",
   "name": "python3"
  },
  "language_info": {
   "codemirror_mode": {
    "name": "ipython",
    "version": 3
   },
   "file_extension": ".py",
   "mimetype": "text/x-python",
   "name": "python",
   "nbconvert_exporter": "python",
   "pygments_lexer": "ipython3",
   "version": "3.11.5"
  }
 },
 "nbformat": 4,
 "nbformat_minor": 5
}
