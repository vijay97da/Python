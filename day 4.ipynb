{
 "cells": [
  {
   "cell_type": "code",
   "execution_count": 5,
   "id": "7d81dd35",
   "metadata": {},
   "outputs": [
    {
     "name": "stdout",
     "output_type": "stream",
     "text": [
      "nagpur\n"
     ]
    }
   ],
   "source": [
    "a = input()"
   ]
  },
  {
   "cell_type": "code",
   "execution_count": 6,
   "id": "9683da76",
   "metadata": {},
   "outputs": [
    {
     "data": {
      "text/plain": [
       "'nagpur'"
      ]
     },
     "execution_count": 6,
     "metadata": {},
     "output_type": "execute_result"
    }
   ],
   "source": [
    "a"
   ]
  },
  {
   "cell_type": "code",
   "execution_count": 8,
   "id": "b289551e",
   "metadata": {},
   "outputs": [
    {
     "name": "stdout",
     "output_type": "stream",
     "text": [
      " best place in nagpur ambazari\n"
     ]
    }
   ],
   "source": [
    "a = input(\" best place in nagpur\")"
   ]
  },
  {
   "cell_type": "code",
   "execution_count": 9,
   "id": "cc445ec7",
   "metadata": {},
   "outputs": [
    {
     "data": {
      "text/plain": [
       "' ambazari'"
      ]
     },
     "execution_count": 9,
     "metadata": {},
     "output_type": "execute_result"
    }
   ],
   "source": [
    "a"
   ]
  },
  {
   "cell_type": "code",
   "execution_count": 10,
   "id": "a0b01e67",
   "metadata": {},
   "outputs": [
    {
     "name": "stdout",
     "output_type": "stream",
     "text": [
      "futala\n"
     ]
    }
   ],
   "source": [
    "best_place_01 = input()"
   ]
  },
  {
   "cell_type": "code",
   "execution_count": 11,
   "id": "1827b777",
   "metadata": {},
   "outputs": [
    {
     "data": {
      "text/plain": [
       "'futala'"
      ]
     },
     "execution_count": 11,
     "metadata": {},
     "output_type": "execute_result"
    }
   ],
   "source": [
    "best_place_01"
   ]
  },
  {
   "cell_type": "code",
   "execution_count": null,
   "id": "73c17649",
   "metadata": {},
   "outputs": [],
   "source": [
    "place1 = (input(\"in nagpur  \"))\n",
    "place2 = (input(\"in delhi  \"))"
   ]
  },
  {
   "cell_type": "code",
   "execution_count": null,
   "id": "667e724a",
   "metadata": {},
   "outputs": [],
   "source": []
  }
 ],
 "metadata": {
  "kernelspec": {
   "display_name": "Python 3 (ipykernel)",
   "language": "python",
   "name": "python3"
  },
  "language_info": {
   "codemirror_mode": {
    "name": "ipython",
    "version": 3
   },
   "file_extension": ".py",
   "mimetype": "text/x-python",
   "name": "python",
   "nbconvert_exporter": "python",
   "pygments_lexer": "ipython3",
   "version": "3.11.5"
  }
 },
 "nbformat": 4,
 "nbformat_minor": 5
}
