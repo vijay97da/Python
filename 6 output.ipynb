{
 "cells": [
  {
   "cell_type": "code",
   "execution_count": 1,
   "id": "90e54d1c",
   "metadata": {},
   "outputs": [
    {
     "name": "stdout",
     "output_type": "stream",
     "text": [
      "Hello World from Python!\n"
     ]
    }
   ],
   "source": [
    "print(\"Hello World from Python!\")"
   ]
  },
  {
   "cell_type": "code",
   "execution_count": 2,
   "id": "0e515392",
   "metadata": {},
   "outputs": [
    {
     "name": "stdout",
     "output_type": "stream",
     "text": [
      "Single quotes also works!\n"
     ]
    }
   ],
   "source": [
    "print('Single quotes also works!')"
   ]
  },
  {
   "cell_type": "code",
   "execution_count": 3,
   "id": "358c2d2b",
   "metadata": {},
   "outputs": [
    {
     "data": {
      "text/plain": [
       "'Hello World from Python!'"
      ]
     },
     "execution_count": 3,
     "metadata": {},
     "output_type": "execute_result"
    }
   ],
   "source": [
    "\"Hello World from Python!\""
   ]
  },
  {
   "cell_type": "code",
   "execution_count": 4,
   "id": "e0938c51",
   "metadata": {},
   "outputs": [
    {
     "data": {
      "text/plain": [
       "'Single quotes also works!'"
      ]
     },
     "execution_count": 4,
     "metadata": {},
     "output_type": "execute_result"
    }
   ],
   "source": [
    "'Single quotes also works!'"
   ]
  },
  {
   "cell_type": "code",
   "execution_count": 6,
   "id": "241baade",
   "metadata": {},
   "outputs": [
    {
     "name": "stdout",
     "output_type": "stream",
     "text": [
      "Multiline output \n",
      "can also be printed.\n"
     ]
    }
   ],
   "source": [
    "print(\"Multiline output \\ncan also be printed.\")"
   ]
  },
  {
   "cell_type": "code",
   "execution_count": 10,
   "id": "a832b0a5",
   "metadata": {},
   "outputs": [],
   "source": [
    "tup1 = ('String concatenation', 'also', 'works.')"
   ]
  },
  {
   "cell_type": "code",
   "execution_count": 11,
   "id": "df9fb9b1",
   "metadata": {},
   "outputs": [
    {
     "data": {
      "text/plain": [
       "tuple"
      ]
     },
     "execution_count": 11,
     "metadata": {},
     "output_type": "execute_result"
    }
   ],
   "source": [
    "type(tup1)"
   ]
  },
  {
   "cell_type": "code",
   "execution_count": 12,
   "id": "130000a1",
   "metadata": {},
   "outputs": [
    {
     "data": {
      "text/plain": [
       "('String concatenation', 'also', 'works.')"
      ]
     },
     "execution_count": 12,
     "metadata": {},
     "output_type": "execute_result"
    }
   ],
   "source": [
    "tup1"
   ]
  },
  {
   "cell_type": "code",
   "execution_count": 13,
   "id": "3b14450a",
   "metadata": {},
   "outputs": [
    {
     "name": "stdout",
     "output_type": "stream",
     "text": [
      "String concatenation also works.\n"
     ]
    }
   ],
   "source": [
    "print('String concatenation', 'also', 'works.')"
   ]
  },
  {
   "cell_type": "code",
   "execution_count": 14,
   "id": "6c412b33",
   "metadata": {},
   "outputs": [
    {
     "name": "stdout",
     "output_type": "stream",
     "text": [
      "3+4\n"
     ]
    }
   ],
   "source": [
    "print('3+4')   #treats '3+4' as string and outputs as is"
   ]
  },
  {
   "cell_type": "code",
   "execution_count": 15,
   "id": "e3f7ad51",
   "metadata": {},
   "outputs": [
    {
     "name": "stdout",
     "output_type": "stream",
     "text": [
      "7\n"
     ]
    }
   ],
   "source": [
    "print(3+4)"
   ]
  },
  {
   "cell_type": "code",
   "execution_count": 16,
   "id": "66d9c4fc",
   "metadata": {},
   "outputs": [
    {
     "name": "stdout",
     "output_type": "stream",
     "text": [
      "3 + 4 =  7\n"
     ]
    }
   ],
   "source": [
    "print('3 + 4 = ', (3+4) )  # strings and expressions can be concatenanted in the single print function call"
   ]
  },
  {
   "cell_type": "code",
   "execution_count": 17,
   "id": "8b7c3451",
   "metadata": {},
   "outputs": [
    {
     "name": "stdout",
     "output_type": "stream",
     "text": [
      "age  35 name ABC\n"
     ]
    }
   ],
   "source": [
    "print('age ', 35, 'name', 'ABC')"
   ]
  },
  {
   "cell_type": "code",
   "execution_count": 18,
   "id": "c6be58b4",
   "metadata": {},
   "outputs": [
    {
     "name": "stdout",
     "output_type": "stream",
     "text": [
      "This is first line\n"
     ]
    }
   ],
   "source": [
    "print(\"This\", \"is\", \"first\", \"line\")"
   ]
  },
  {
   "cell_type": "code",
   "execution_count": 19,
   "id": "98a39c2d",
   "metadata": {},
   "outputs": [
    {
     "name": "stdout",
     "output_type": "stream",
     "text": [
      "This, is, first, line\n"
     ]
    }
   ],
   "source": [
    "print(\"This\", \"is\", \"first\", \"line\", sep=\", \")"
   ]
  },
  {
   "cell_type": "code",
   "execution_count": 20,
   "id": "bdc33d88",
   "metadata": {},
   "outputs": [
    {
     "name": "stdout",
     "output_type": "stream",
     "text": [
      "This# is# first# line\n"
     ]
    }
   ],
   "source": [
    "print(\"This\", \"is\", \"first\", \"line\", sep=\"# \")"
   ]
  },
  {
   "cell_type": "code",
   "execution_count": 21,
   "id": "0bc922a8",
   "metadata": {},
   "outputs": [
    {
     "name": "stdout",
     "output_type": "stream",
     "text": [
      "This is first line\n"
     ]
    }
   ],
   "source": [
    "print(\"This\", \"is\", \"first\", \"line\", sep=\" \")"
   ]
  },
  {
   "cell_type": "code",
   "execution_count": 22,
   "id": "b57d3516",
   "metadata": {},
   "outputs": [
    {
     "name": "stdout",
     "output_type": "stream",
     "text": [
      "This. is. first. line\n"
     ]
    }
   ],
   "source": [
    "print(\"This\", \"is\", \"first\", \"line\", sep=\". \")"
   ]
  },
  {
   "cell_type": "code",
   "execution_count": 23,
   "id": "1fbe1075",
   "metadata": {},
   "outputs": [
    {
     "name": "stdout",
     "output_type": "stream",
     "text": [
      "This$is$first$line\n"
     ]
    }
   ],
   "source": [
    "print(\"This\", \"is\", \"first\", \"line\", sep=\"$\")"
   ]
  },
  {
   "cell_type": "code",
   "execution_count": 24,
   "id": "e18c5ed7",
   "metadata": {},
   "outputs": [
    {
     "data": {
      "text/plain": [
       "'#'"
      ]
     },
     "execution_count": 24,
     "metadata": {},
     "output_type": "execute_result"
    }
   ],
   "source": [
    "\"#\""
   ]
  },
  {
   "cell_type": "code",
   "execution_count": 25,
   "id": "c93ffc7e",
   "metadata": {},
   "outputs": [
    {
     "name": "stdout",
     "output_type": "stream",
     "text": [
      "this is first line\n",
      "this is second line\n"
     ]
    }
   ],
   "source": [
    "print(\"this is first line\")\n",
    "print(\"this is second line\")"
   ]
  },
  {
   "cell_type": "code",
   "execution_count": 26,
   "id": "473f002a",
   "metadata": {},
   "outputs": [
    {
     "name": "stdout",
     "output_type": "stream",
     "text": [
      "this is first line.this is second line\n"
     ]
    }
   ],
   "source": [
    "print(\"this is first line\", end='.')\n",
    "print(\"this is second line\")"
   ]
  },
  {
   "cell_type": "code",
   "execution_count": 27,
   "id": "3e076050",
   "metadata": {},
   "outputs": [
    {
     "name": "stdout",
     "output_type": "stream",
     "text": [
      "this is first line this is second line\n"
     ]
    }
   ],
   "source": [
    "print(\"this is first line\", end=' ')\n",
    "print(\"this is second line\")"
   ]
  },
  {
   "cell_type": "code",
   "execution_count": 29,
   "id": "c38b20c9",
   "metadata": {},
   "outputs": [
    {
     "name": "stdout",
     "output_type": "stream",
     "text": [
      "this is first line & this is second line\n"
     ]
    }
   ],
   "source": [
    "print(\"this is first line\", end=' & ')\n",
    "print(\"this is second line\")"
   ]
  },
  {
   "cell_type": "code",
   "execution_count": 31,
   "id": "5567971e",
   "metadata": {},
   "outputs": [
    {
     "data": {
      "text/plain": [
       "[0, 1, 2, 3, 4]"
      ]
     },
     "execution_count": 31,
     "metadata": {},
     "output_type": "execute_result"
    }
   ],
   "source": [
    "list(range(0,5))"
   ]
  },
  {
   "cell_type": "code",
   "execution_count": 32,
   "id": "24c809a6",
   "metadata": {},
   "outputs": [
    {
     "name": "stdout",
     "output_type": "stream",
     "text": [
      "*\n",
      "\n",
      "**\n",
      "\n",
      "***\n",
      "\n",
      "****\n",
      "\n",
      "*****\n",
      "\n"
     ]
    }
   ],
   "source": [
    "for i in range(0,5):   # for loop  in the for loop variable will be itterate one by one\n",
    "    for j in range(0,i+1):\n",
    "        print(\"*\",end=\"\")\n",
    "    print(\"\\n\") "
   ]
  },
  {
   "cell_type": "code",
   "execution_count": 33,
   "id": "29c422bd",
   "metadata": {},
   "outputs": [
    {
     "name": "stdout",
     "output_type": "stream",
     "text": [
      "0\n",
      "1\n",
      "2\n",
      "3\n",
      "4\n"
     ]
    }
   ],
   "source": [
    "for i in range(5):\n",
    "    print(i)           # space before print is called indantation "
   ]
  },
  {
   "cell_type": "code",
   "execution_count": 34,
   "id": "318c3208",
   "metadata": {},
   "outputs": [],
   "source": [
    "list = [3,6,\"u\", 4.6, [1,2,3]]"
   ]
  },
  {
   "cell_type": "code",
   "execution_count": 37,
   "id": "1782c318",
   "metadata": {},
   "outputs": [
    {
     "name": "stdout",
     "output_type": "stream",
     "text": [
      "3\n",
      "6\n",
      "u\n",
      "4.6\n",
      "[1, 2, 3]\n"
     ]
    }
   ],
   "source": [
    "for u in list:\n",
    "    print(u)"
   ]
  },
  {
   "cell_type": "code",
   "execution_count": 38,
   "id": "45ecc14b",
   "metadata": {},
   "outputs": [],
   "source": [
    "str = \"python\""
   ]
  },
  {
   "cell_type": "code",
   "execution_count": 39,
   "id": "5df6189e",
   "metadata": {},
   "outputs": [
    {
     "name": "stdout",
     "output_type": "stream",
     "text": [
      "p\n",
      "y\n",
      "t\n",
      "h\n",
      "o\n",
      "n\n"
     ]
    }
   ],
   "source": [
    "for i in str:\n",
    "    print(i)"
   ]
  },
  {
   "cell_type": "code",
   "execution_count": 40,
   "id": "b19a80ed",
   "metadata": {},
   "outputs": [],
   "source": [
    "intt = 5677"
   ]
  },
  {
   "cell_type": "code",
   "execution_count": 41,
   "id": "d282c30d",
   "metadata": {},
   "outputs": [
    {
     "ename": "TypeError",
     "evalue": "'int' object is not iterable",
     "output_type": "error",
     "traceback": [
      "\u001b[1;31m---------------------------------------------------------------------------\u001b[0m",
      "\u001b[1;31mTypeError\u001b[0m                                 Traceback (most recent call last)",
      "Cell \u001b[1;32mIn[41], line 1\u001b[0m\n\u001b[1;32m----> 1\u001b[0m \u001b[38;5;28;01mfor\u001b[39;00m i \u001b[38;5;129;01min\u001b[39;00m intt:\n\u001b[0;32m      2\u001b[0m     \u001b[38;5;28mprint\u001b[39m(i)\n",
      "\u001b[1;31mTypeError\u001b[0m: 'int' object is not iterable"
     ]
    }
   ],
   "source": [
    "for i in intt:\n",
    "    print(i)"
   ]
  },
  {
   "cell_type": "code",
   "execution_count": 42,
   "id": "e7b4284c",
   "metadata": {},
   "outputs": [],
   "source": [
    "inst = \"5677\""
   ]
  },
  {
   "cell_type": "code",
   "execution_count": 43,
   "id": "843ad4b9",
   "metadata": {},
   "outputs": [
    {
     "name": "stdout",
     "output_type": "stream",
     "text": [
      "5\n",
      "6\n",
      "7\n",
      "7\n"
     ]
    }
   ],
   "source": [
    "for i in inst:\n",
    "    print(i)"
   ]
  },
  {
   "cell_type": "code",
   "execution_count": 45,
   "id": "3cb374e8",
   "metadata": {},
   "outputs": [
    {
     "name": "stdout",
     "output_type": "stream",
     "text": [
      "123 - 282 =  -159\n"
     ]
    }
   ],
   "source": [
    "a = 123\n",
    "b = 282\n",
    "\n",
    "print('123 - 282 = ', a-b)"
   ]
  },
  {
   "cell_type": "code",
   "execution_count": 1,
   "id": "59027f3f",
   "metadata": {},
   "outputs": [
    {
     "name": "stdout",
     "output_type": "stream",
     "text": [
      "this*is*first*line\n"
     ]
    }
   ],
   "source": [
    "print(\"this\", \"is\", \"first\", \"line\", sep= '*')"
   ]
  },
  {
   "cell_type": "code",
   "execution_count": null,
   "id": "cc7b2192",
   "metadata": {},
   "outputs": [],
   "source": []
  }
 ],
 "metadata": {
  "kernelspec": {
   "display_name": "Python 3 (ipykernel)",
   "language": "python",
   "name": "python3"
  },
  "language_info": {
   "codemirror_mode": {
    "name": "ipython",
    "version": 3
   },
   "file_extension": ".py",
   "mimetype": "text/x-python",
   "name": "python",
   "nbconvert_exporter": "python",
   "pygments_lexer": "ipython3",
   "version": "3.11.5"
  }
 },
 "nbformat": 4,
 "nbformat_minor": 5
}
