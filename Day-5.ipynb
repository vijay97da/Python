{
 "cells": [
  {
   "cell_type": "code",
   "execution_count": 5,
   "id": "b344c93d",
   "metadata": {},
   "outputs": [
    {
     "name": "stdout",
     "output_type": "stream",
     "text": [
      "amit\n"
     ]
    }
   ],
   "source": [
    "a = input()"
   ]
  },
  {
   "cell_type": "code",
   "execution_count": 6,
   "id": "231695bc",
   "metadata": {},
   "outputs": [
    {
     "data": {
      "text/plain": [
       "'amit'"
      ]
     },
     "execution_count": 6,
     "metadata": {},
     "output_type": "execute_result"
    }
   ],
   "source": [
    "a"
   ]
  },
  {
   "cell_type": "code",
   "execution_count": null,
   "id": "f253adc2",
   "metadata": {},
   "outputs": [],
   "source": [
    "num1 = int(input(\"Enter 1st num\"))\n",
    "\n",
    "num2 = int(input(\"Enter 2nd num\"))"
   ]
  },
  {
   "cell_type": "code",
   "execution_count": 8,
   "id": "c030a2db",
   "metadata": {},
   "outputs": [
    {
     "name": "stdout",
     "output_type": "stream",
     "text": [
      "Enter 1st num 20\n"
     ]
    }
   ],
   "source": [
    "num1 = input(\"Enter 1st num \")"
   ]
  },
  {
   "cell_type": "code",
   "execution_count": 9,
   "id": "a338570e",
   "metadata": {},
   "outputs": [
    {
     "data": {
      "text/plain": [
       "str"
      ]
     },
     "execution_count": 9,
     "metadata": {},
     "output_type": "execute_result"
    }
   ],
   "source": [
    "type(num1)"
   ]
  },
  {
   "cell_type": "code",
   "execution_count": 10,
   "id": "b3f62cfc",
   "metadata": {},
   "outputs": [
    {
     "name": "stdout",
     "output_type": "stream",
     "text": [
      "%\n"
     ]
    },
    {
     "data": {
      "text/plain": [
       "'%'"
      ]
     },
     "execution_count": 10,
     "metadata": {},
     "output_type": "execute_result"
    }
   ],
   "source": [
    "input()"
   ]
  },
  {
   "cell_type": "code",
   "execution_count": 11,
   "id": "faacb6ed",
   "metadata": {},
   "outputs": [
    {
     "name": "stdout",
     "output_type": "stream",
     "text": [
      "Enter 1st num20\n",
      "Enter 2nd num10\n"
     ]
    }
   ],
   "source": [
    "num1 = int(input(\"Enter 1st num\"))\n",
    "\n",
    "num2 = float(input(\"Enter 2nd num\"))"
   ]
  },
  {
   "cell_type": "code",
   "execution_count": 12,
   "id": "d23d2e33",
   "metadata": {},
   "outputs": [
    {
     "data": {
      "text/plain": [
       "int"
      ]
     },
     "execution_count": 12,
     "metadata": {},
     "output_type": "execute_result"
    }
   ],
   "source": [
    "type(num1)"
   ]
  },
  {
   "cell_type": "code",
   "execution_count": 13,
   "id": "9fae1930",
   "metadata": {},
   "outputs": [
    {
     "data": {
      "text/plain": [
       "float"
      ]
     },
     "execution_count": 13,
     "metadata": {},
     "output_type": "execute_result"
    }
   ],
   "source": [
    "type(num2)"
   ]
  },
  {
   "cell_type": "code",
   "execution_count": 14,
   "id": "74c8b4be",
   "metadata": {},
   "outputs": [
    {
     "name": "stdout",
     "output_type": "stream",
     "text": [
      "What is your name?4555\n",
      "4555\n"
     ]
    }
   ],
   "source": [
    "name = input('What is your name? ')\n",
    "print(name)"
   ]
  },
  {
   "cell_type": "code",
   "execution_count": 15,
   "id": "8ad86841",
   "metadata": {},
   "outputs": [
    {
     "data": {
      "text/plain": [
       "str"
      ]
     },
     "execution_count": 15,
     "metadata": {},
     "output_type": "execute_result"
    }
   ],
   "source": [
    "type(name)"
   ]
  },
  {
   "cell_type": "code",
   "execution_count": 18,
   "id": "196ba511",
   "metadata": {},
   "outputs": [
    {
     "name": "stdout",
     "output_type": "stream",
     "text": [
      "What is your name?amit\n"
     ]
    }
   ],
   "source": [
    "name = input('What is your name?')"
   ]
  },
  {
   "cell_type": "code",
   "execution_count": 19,
   "id": "a1f5696c",
   "metadata": {},
   "outputs": [
    {
     "name": "stdout",
     "output_type": "stream",
     "text": [
      "Welcome amit\n"
     ]
    }
   ],
   "source": [
    "print(\"Welcome\", name)"
   ]
  },
  {
   "cell_type": "code",
   "execution_count": 20,
   "id": "77b2da62",
   "metadata": {},
   "outputs": [
    {
     "name": "stdout",
     "output_type": "stream",
     "text": [
      "What is your age? 30\n",
      "You have entered age as  30\n",
      "Type :  <class 'str'>\n"
     ]
    }
   ],
   "source": [
    "age = input('What is your age? ')\n",
    "\n",
    "\n",
    "print(\"You have entered age as \", age)\n",
    "\n",
    "\n",
    "print(\"Type : \" , type(age))"
   ]
  },
  {
   "cell_type": "code",
   "execution_count": 22,
   "id": "8c2acebb",
   "metadata": {},
   "outputs": [
    {
     "name": "stdout",
     "output_type": "stream",
     "text": [
      "What is your age? 30\n",
      "\n",
      "You have entered age as  30\n",
      "\n",
      "Type :  <class 'int'>\n"
     ]
    }
   ],
   "source": [
    "age = input('What is your age? ')\n",
    "modified_age = int(age)\n",
    "print()\n",
    "print(\"You have entered age as \", modified_age)\n",
    "print()\n",
    "print(\"Type : \" , type(modified_age))"
   ]
  },
  {
   "cell_type": "code",
   "execution_count": 23,
   "id": "57f68a7b",
   "metadata": {},
   "outputs": [
    {
     "name": "stdout",
     "output_type": "stream",
     "text": [
      "What is your age? 30\n",
      "\n",
      "You have entered age as  30\n",
      "\n",
      "Type :  <class 'str'>\n"
     ]
    }
   ],
   "source": [
    "age = input('What is your age? ')\n",
    "print()\n",
    "print(\"You have entered age as \", int(age))\n",
    "print()\n",
    "print(\"Type : \" , type(age))"
   ]
  },
  {
   "cell_type": "code",
   "execution_count": 24,
   "id": "45cc4230",
   "metadata": {},
   "outputs": [
    {
     "data": {
      "text/plain": [
       "'30'"
      ]
     },
     "execution_count": 24,
     "metadata": {},
     "output_type": "execute_result"
    }
   ],
   "source": [
    "age"
   ]
  },
  {
   "cell_type": "code",
   "execution_count": 25,
   "id": "5da330e4",
   "metadata": {},
   "outputs": [
    {
     "data": {
      "text/plain": [
       "30"
      ]
     },
     "execution_count": 25,
     "metadata": {},
     "output_type": "execute_result"
    }
   ],
   "source": [
    "int(age)"
   ]
  },
  {
   "cell_type": "code",
   "execution_count": 26,
   "id": "64decce8",
   "metadata": {},
   "outputs": [
    {
     "data": {
      "text/plain": [
       "30.0"
      ]
     },
     "execution_count": 26,
     "metadata": {},
     "output_type": "execute_result"
    }
   ],
   "source": [
    "float(age)"
   ]
  },
  {
   "cell_type": "code",
   "execution_count": 27,
   "id": "8623c935",
   "metadata": {},
   "outputs": [
    {
     "data": {
      "text/plain": [
       "str"
      ]
     },
     "execution_count": 27,
     "metadata": {},
     "output_type": "execute_result"
    }
   ],
   "source": [
    "type(age)"
   ]
  },
  {
   "cell_type": "code",
   "execution_count": 29,
   "id": "0c5ea9de",
   "metadata": {},
   "outputs": [
    {
     "data": {
      "text/plain": [
       "['3', '0']"
      ]
     },
     "execution_count": 29,
     "metadata": {},
     "output_type": "execute_result"
    }
   ],
   "source": [
    "list(age)"
   ]
  },
  {
   "cell_type": "code",
   "execution_count": 30,
   "id": "3471f2a8",
   "metadata": {},
   "outputs": [
    {
     "data": {
      "text/plain": [
       "{'0', '3'}"
      ]
     },
     "execution_count": 30,
     "metadata": {},
     "output_type": "execute_result"
    }
   ],
   "source": [
    "set(age)"
   ]
  },
  {
   "cell_type": "code",
   "execution_count": 31,
   "id": "4726a2b8",
   "metadata": {},
   "outputs": [
    {
     "ename": "ValueError",
     "evalue": "dictionary update sequence element #0 has length 1; 2 is required",
     "output_type": "error",
     "traceback": [
      "\u001b[1;31m---------------------------------------------------------------------------\u001b[0m",
      "\u001b[1;31mValueError\u001b[0m                                Traceback (most recent call last)",
      "Cell \u001b[1;32mIn[31], line 1\u001b[0m\n\u001b[1;32m----> 1\u001b[0m \u001b[38;5;28mdict\u001b[39m(age)\n",
      "\u001b[1;31mValueError\u001b[0m: dictionary update sequence element #0 has length 1; 2 is required"
     ]
    }
   ],
   "source": [
    "dict(age)"
   ]
  },
  {
   "cell_type": "code",
   "execution_count": 28,
   "id": "a7a5ac3a",
   "metadata": {},
   "outputs": [
    {
     "data": {
      "text/plain": [
       "('3', '0')"
      ]
     },
     "execution_count": 28,
     "metadata": {},
     "output_type": "execute_result"
    }
   ],
   "source": [
    "tuple(age)"
   ]
  },
  {
   "cell_type": "code",
   "execution_count": 32,
   "id": "4e30d380",
   "metadata": {},
   "outputs": [
    {
     "name": "stdout",
     "output_type": "stream",
     "text": [
      "What is your salary? 40000\n",
      "You have entered salary as  40000.0\n",
      "Type :  <class 'float'>\n"
     ]
    }
   ],
   "source": [
    "salary = input('What is your salary? ') \n",
    "\n",
    "modified_salary = float(salary)\n",
    "\n",
    "print(\"You have entered salary as \", modified_salary)\n",
    "\n",
    "print(\"Type : \" , type(modified_salary))"
   ]
  },
  {
   "cell_type": "code",
   "execution_count": 33,
   "id": "e041b991",
   "metadata": {},
   "outputs": [
    {
     "name": "stdout",
     "output_type": "stream",
     "text": [
      "What is your age?\n",
      "30\n",
      "\n",
      "You have entered age as  30\n",
      "\n",
      "Type :  <class 'int'>\n"
     ]
    }
   ],
   "source": [
    "my_age = eval(input('What is your age?\\n'))\n",
    "print()\n",
    "print(\"You have entered age as \", my_age)\n",
    "print()\n",
    "print(\"Type : \" , type(my_age))"
   ]
  },
  {
   "cell_type": "code",
   "execution_count": 35,
   "id": "93c9fb2c",
   "metadata": {},
   "outputs": [
    {
     "name": "stdout",
     "output_type": "stream",
     "text": [
      "What is your age?\n",
      "30.5\n",
      "\n",
      "You have entered age as  30.5\n",
      "\n",
      "Type :  <class 'float'>\n"
     ]
    }
   ],
   "source": [
    "my_age = eval(input('What is your age?\\n'))\n",
    "print()\n",
    "print(\"You have entered age as \", my_age)\n",
    "print()\n",
    "print(\"Type : \" , type(my_age))"
   ]
  },
  {
   "cell_type": "code",
   "execution_count": 37,
   "id": "1c2cb41e",
   "metadata": {},
   "outputs": [
    {
     "name": "stdout",
     "output_type": "stream",
     "text": [
      "What is your age?\n",
      "True\n",
      "\n",
      "You have entered age as  True\n",
      "\n",
      "Type :  <class 'bool'>\n"
     ]
    }
   ],
   "source": [
    "my_age = eval(input('What is your age?\\n'))\n",
    "print()\n",
    "print(\"You have entered age as \", my_age)\n",
    "print()\n",
    "print(\"Type : \" , type(my_age))"
   ]
  },
  {
   "cell_type": "code",
   "execution_count": 39,
   "id": "f4e14fc9",
   "metadata": {},
   "outputs": [
    {
     "name": "stdout",
     "output_type": "stream",
     "text": [
      "What is your age?\n",
      "thirteen\n"
     ]
    },
    {
     "ename": "NameError",
     "evalue": "name 'thirteen' is not defined",
     "output_type": "error",
     "traceback": [
      "\u001b[1;31m---------------------------------------------------------------------------\u001b[0m",
      "\u001b[1;31mNameError\u001b[0m                                 Traceback (most recent call last)",
      "Cell \u001b[1;32mIn[39], line 1\u001b[0m\n\u001b[1;32m----> 1\u001b[0m my_age \u001b[38;5;241m=\u001b[39m \u001b[38;5;28meval\u001b[39m(\u001b[38;5;28minput\u001b[39m(\u001b[38;5;124m'\u001b[39m\u001b[38;5;124mWhat is your age?\u001b[39m\u001b[38;5;130;01m\\n\u001b[39;00m\u001b[38;5;124m'\u001b[39m))\n\u001b[0;32m      2\u001b[0m \u001b[38;5;28mprint\u001b[39m()\n\u001b[0;32m      3\u001b[0m \u001b[38;5;28mprint\u001b[39m(\u001b[38;5;124m\"\u001b[39m\u001b[38;5;124mYou have entered age as \u001b[39m\u001b[38;5;124m\"\u001b[39m, my_age)\n",
      "File \u001b[1;32m<string>:1\u001b[0m\n",
      "\u001b[1;31mNameError\u001b[0m: name 'thirteen' is not defined"
     ]
    }
   ],
   "source": [
    "my_age = eval(input('What is your age?\\n'))\n",
    "print()\n",
    "print(\"You have entered age as \", my_age)\n",
    "print()\n",
    "print(\"Type : \" , type(my_age))"
   ]
  },
  {
   "cell_type": "code",
   "execution_count": 40,
   "id": "06f8f861",
   "metadata": {},
   "outputs": [
    {
     "name": "stdout",
     "output_type": "stream",
     "text": [
      "What is your age?\n",
      "33 + 8i\n"
     ]
    },
    {
     "ename": "SyntaxError",
     "evalue": "invalid decimal literal (<string>, line 1)",
     "output_type": "error",
     "traceback": [
      "Traceback \u001b[1;36m(most recent call last)\u001b[0m:\n",
      "\u001b[0m  File \u001b[0;32m~\\AppData\\Local\\anaconda3\\Lib\\site-packages\\IPython\\core\\interactiveshell.py:3526\u001b[0m in \u001b[0;35mrun_code\u001b[0m\n    exec(code_obj, self.user_global_ns, self.user_ns)\u001b[0m\n",
      "\u001b[1;36m  Cell \u001b[1;32mIn[40], line 1\u001b[1;36m\n\u001b[1;33m    my_age = eval(input('What is your age?\\n'))\u001b[1;36m\n",
      "\u001b[1;36m  File \u001b[1;32m<string>:1\u001b[1;36m\u001b[0m\n\u001b[1;33m    33 + 8i\u001b[0m\n\u001b[1;37m         ^\u001b[0m\n\u001b[1;31mSyntaxError\u001b[0m\u001b[1;31m:\u001b[0m invalid decimal literal\n"
     ]
    }
   ],
   "source": [
    "my_age = eval(input('What is your age?\\n'))\n",
    "print()\n",
    "print(\"You have entered age as \", my_age)\n",
    "print()\n",
    "print(\"Type : \" , type(my_age))"
   ]
  },
  {
   "cell_type": "code",
   "execution_count": 41,
   "id": "c35f03d0",
   "metadata": {},
   "outputs": [
    {
     "name": "stdout",
     "output_type": "stream",
     "text": [
      "Enter your marks\n",
      "45+50+80+65\n",
      "You have entered age as  240\n"
     ]
    }
   ],
   "source": [
    "my_total_marks = eval(input('Enter your marks\\n'))\n",
    "\n",
    "#Enter an expression like 23 + 34 + 45 \n",
    "\n",
    "print(\"You have entered age as \", my_total_marks)"
   ]
  },
  {
   "cell_type": "code",
   "execution_count": 42,
   "id": "74cfc227",
   "metadata": {},
   "outputs": [
    {
     "name": "stdout",
     "output_type": "stream",
     "text": [
      "Enter your marks\n",
      "33+44\n"
     ]
    },
    {
     "ename": "ValueError",
     "evalue": "invalid literal for int() with base 10: '33+44'",
     "output_type": "error",
     "traceback": [
      "\u001b[1;31m---------------------------------------------------------------------------\u001b[0m",
      "\u001b[1;31mValueError\u001b[0m                                Traceback (most recent call last)",
      "Cell \u001b[1;32mIn[42], line 1\u001b[0m\n\u001b[1;32m----> 1\u001b[0m my_total_marks \u001b[38;5;241m=\u001b[39m \u001b[38;5;28mint\u001b[39m(\u001b[38;5;28minput\u001b[39m(\u001b[38;5;124m'\u001b[39m\u001b[38;5;124mEnter your marks\u001b[39m\u001b[38;5;130;01m\\n\u001b[39;00m\u001b[38;5;124m'\u001b[39m))\n\u001b[0;32m      3\u001b[0m \u001b[38;5;66;03m#Enter an expression like 23 + 34 + 45 \u001b[39;00m\n\u001b[0;32m      5\u001b[0m \u001b[38;5;28mprint\u001b[39m(\u001b[38;5;124m\"\u001b[39m\u001b[38;5;124mYou have entered age as \u001b[39m\u001b[38;5;124m\"\u001b[39m, my_total_marks)\n",
      "\u001b[1;31mValueError\u001b[0m: invalid literal for int() with base 10: '33+44'"
     ]
    }
   ],
   "source": [
    "my_total_marks = int(input('Enter your marks\\n'))\n",
    "\n",
    "#Enter an expression like 23 + 34 + 45 \n",
    "\n",
    "print(\"You have entered age as \", my_total_marks)"
   ]
  },
  {
   "cell_type": "code",
   "execution_count": 43,
   "id": "f1d3a042",
   "metadata": {},
   "outputs": [
    {
     "name": "stdout",
     "output_type": "stream",
     "text": [
      "Enter the number : 4\n",
      "Square of 4 is :  16\n",
      "Cube of 4 is :  64\n"
     ]
    }
   ],
   "source": [
    "ask_num = eval(input('Enter the number : '))\n",
    "sq_num = ask_num * ask_num\n",
    "cub_num = pow(ask_num,3)\n",
    "\n",
    "print('Square of ' + str(ask_num) + ' is : ' , str(sq_num))\n",
    "print('Cube of ' + str(ask_num) + ' is : ' , str(cub_num))"
   ]
  },
  {
   "cell_type": "code",
   "execution_count": 44,
   "id": "83feb5aa",
   "metadata": {},
   "outputs": [
    {
     "name": "stdout",
     "output_type": "stream",
     "text": [
      "Enter the number : 4\n",
      "Square of 4 is :  16\n",
      "Cube of 4 is :  64\n"
     ]
    }
   ],
   "source": [
    "ask_num = eval(input('Enter the number : '))\n",
    "sq_num = ask_num ** 2\n",
    "cub_num = ask_num ** 3\n",
    "\n",
    "print('Square of ' + str(ask_num) + ' is : ' , str(sq_num))\n",
    "print('Cube of ' + str(ask_num) + ' is : ' , str(cub_num))"
   ]
  },
  {
   "cell_type": "code",
   "execution_count": 45,
   "id": "336ae90e",
   "metadata": {},
   "outputs": [
    {
     "name": "stdout",
     "output_type": "stream",
     "text": [
      "Enter 1st Number : 10\n",
      "Enter 2nd Number : 20\n",
      "Enter 3rd Number : 30\n",
      "Numbers entered are : 10 20 30 and their totals are : 60 and avg is : 20.0\n"
     ]
    }
   ],
   "source": [
    "num1 = eval(input('Enter 1st Number : '))\n",
    "num2 = eval(input('Enter 2nd Number : '))\n",
    "num3 = eval(input('Enter 3rd Number : '))\n",
    "\n",
    "total = num1 + num2 + num3\n",
    "\n",
    "avg = total/3\n",
    "\n",
    "print(\"Numbers entered are : \" + str(num1) + \" \" +str(num2) + \" \" + str(num3) + \n",
    "      \" and their totals are : \" + str(total) + \" and avg is : \" + str(avg))"
   ]
  },
  {
   "cell_type": "code",
   "execution_count": 46,
   "id": "8b13352d",
   "metadata": {},
   "outputs": [
    {
     "name": "stdout",
     "output_type": "stream",
     "text": [
      "Enter 1st Number : 10\n",
      "Enter 2nd Number : 20\n",
      "Enter 3rd Number : 30\n"
     ]
    }
   ],
   "source": [
    "num1 = eval(input('Enter 1st Number : '))\n",
    "num2 = eval(input('Enter 2nd Number : '))\n",
    "num3 = eval(input('Enter 3rd Number : '))\n",
    "\n",
    "total = num1 + num2 + num3\n",
    "\n",
    "avg = total/3"
   ]
  },
  {
   "cell_type": "code",
   "execution_count": 53,
   "id": "47bf6f02",
   "metadata": {},
   "outputs": [
    {
     "name": "stdout",
     "output_type": "stream",
     "text": [
      " these are input num:- 10 20 30 \n",
      " total of the numbers:-- 60 \n",
      " avg of the number:- 20.0\n"
     ]
    }
   ],
   "source": [
    "print(\" these are input num:-\", num1,num2,num3,\"\\n\",\"total of the numbers:--\",total,\"\\n\",\"avg of the number:-\", avg)"
   ]
  },
  {
   "cell_type": "code",
   "execution_count": 55,
   "id": "fefe9d5b",
   "metadata": {},
   "outputs": [
    {
     "name": "stdout",
     "output_type": "stream",
     "text": [
      "Enter basic salary: 40000\n",
      "Basic Salary :  40000\n",
      "HRA Components :  4000.0\n",
      "Conveyance  Allowance :  20000.0\n",
      "Total Salary :  64000.0\n"
     ]
    }
   ],
   "source": [
    "basic_sal = eval(input('Enter basic salary: '))\n",
    "\n",
    "hra = 0.1 * basic_sal\n",
    "\n",
    "conv_allw = 0.5*basic_sal\n",
    "\n",
    "total_sal = basic_sal + hra + conv_allw\n",
    "\n",
    "print(\"Basic Salary : \" , str(basic_sal))\n",
    "print(\"HRA Components : \", str(hra))\n",
    "print(\"Conveyance  Allowance : \" , str(conv_allw))\n",
    "print(\"Total Salary : \" ,str(total_sal))"
   ]
  },
  {
   "cell_type": "code",
   "execution_count": null,
   "id": "bce8b535",
   "metadata": {},
   "outputs": [],
   "source": []
  }
 ],
 "metadata": {
  "kernelspec": {
   "display_name": "Python 3 (ipykernel)",
   "language": "python",
   "name": "python3"
  },
  "language_info": {
   "codemirror_mode": {
    "name": "ipython",
    "version": 3
   },
   "file_extension": ".py",
   "mimetype": "text/x-python",
   "name": "python",
   "nbconvert_exporter": "python",
   "pygments_lexer": "ipython3",
   "version": "3.11.5"
  }
 },
 "nbformat": 4,
 "nbformat_minor": 5
}
