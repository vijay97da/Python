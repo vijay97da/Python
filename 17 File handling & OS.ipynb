{
 "cells": [
  {
   "cell_type": "markdown",
   "id": "c9554803",
   "metadata": {},
   "source": [
    "## file handling"
   ]
  },
  {
   "cell_type": "code",
   "execution_count": 1,
   "id": "29c78b87",
   "metadata": {},
   "outputs": [
    {
     "name": "stdout",
     "output_type": "stream",
     "text": [
      " Volume in drive C is Local Disk\n",
      " Volume Serial Number is F00E-CCC8\n",
      "\n",
      " Directory of C:\\Users\\amitm\\Class\\10_00\n",
      "\n",
      "14-12-2023  10:22    <DIR>          .\n",
      "12-12-2023  19:50    <DIR>          ..\n",
      "14-12-2023  10:22    <DIR>          .ipynb_checkpoints\n",
      "28-11-2023  09:43            22,588 1 Basics .ipynb\n",
      "08-12-2023  14:17            18,408 2 string.ipynb\n",
      "11-12-2023  13:27            13,066 3 string Operation.ipynb\n",
      "01-12-2023  10:24            22,398 6 Dictionary, F-string .ipynb\n",
      "06-12-2023  10:59            18,242 Condition 4.ipynb\n",
      "13-12-2023  10:22            11,162 Function .ipynb\n",
      "13-12-2023  11:05            11,818 List comprehension  and lambda function.ipynb\n",
      "11-12-2023  11:00             9,984 Loop for .ipynb\n",
      "29-11-2023  10:09            24,078 Untitled.ipynb\n",
      "30-11-2023  10:39            31,739 Untitled1.ipynb\n",
      "02-12-2023  11:50            17,692 Untitled2.ipynb\n",
      "04-12-2023  10:20            16,183 Untitled3.ipynb\n",
      "05-12-2023  09:56               589 Untitled4.ipynb\n",
      "07-12-2023  11:05            13,708 Untitled5.ipynb\n",
      "12-12-2023  18:39             9,618 Untitled6.ipynb\n",
      "14-12-2023  10:22                72 Untitled7.ipynb\n",
      "11-12-2023  11:15        36,590,146 while loop.ipynb\n",
      "              17 File(s)     36,831,491 bytes\n",
      "               3 Dir(s)  139,306,266,624 bytes free\n"
     ]
    }
   ],
   "source": [
    "ls"
   ]
  },
  {
   "cell_type": "code",
   "execution_count": 4,
   "id": "5acd7f46",
   "metadata": {},
   "outputs": [],
   "source": [
    "f = open(\"demo.txt\", \"w\")"
   ]
  },
  {
   "cell_type": "code",
   "execution_count": 5,
   "id": "7a5fac15",
   "metadata": {},
   "outputs": [
    {
     "data": {
      "text/plain": [
       "36"
      ]
     },
     "execution_count": 5,
     "metadata": {},
     "output_type": "execute_result"
    }
   ],
   "source": [
    "f.write(\"i am a student learning data science\")"
   ]
  },
  {
   "cell_type": "code",
   "execution_count": 6,
   "id": "ae141d06",
   "metadata": {},
   "outputs": [],
   "source": [
    "f.close()"
   ]
  },
  {
   "cell_type": "code",
   "execution_count": 7,
   "id": "4af845a7",
   "metadata": {},
   "outputs": [
    {
     "data": {
      "text/plain": [
       "'w'"
      ]
     },
     "execution_count": 7,
     "metadata": {},
     "output_type": "execute_result"
    }
   ],
   "source": [
    "f.mode"
   ]
  },
  {
   "cell_type": "code",
   "execution_count": 8,
   "id": "b423b2b0",
   "metadata": {},
   "outputs": [
    {
     "ename": "ValueError",
     "evalue": "I/O operation on closed file.",
     "output_type": "error",
     "traceback": [
      "\u001b[1;31m---------------------------------------------------------------------------\u001b[0m",
      "\u001b[1;31mValueError\u001b[0m                                Traceback (most recent call last)",
      "Cell \u001b[1;32mIn[8], line 1\u001b[0m\n\u001b[1;32m----> 1\u001b[0m f\u001b[38;5;241m.\u001b[39mwrite(\u001b[38;5;124m\"\u001b[39m\u001b[38;5;124maksldfj \u001b[39m\u001b[38;5;124m\"\u001b[39m)\n",
      "\u001b[1;31mValueError\u001b[0m: I/O operation on closed file."
     ]
    }
   ],
   "source": [
    "f.write(\"aksldfj \")"
   ]
  },
  {
   "cell_type": "code",
   "execution_count": 10,
   "id": "ffdbceb2",
   "metadata": {},
   "outputs": [],
   "source": [
    "f1= open(\"demo.txt\", \"r\")"
   ]
  },
  {
   "cell_type": "code",
   "execution_count": 11,
   "id": "7176d0eb",
   "metadata": {},
   "outputs": [
    {
     "data": {
      "text/plain": [
       "'r'"
      ]
     },
     "execution_count": 11,
     "metadata": {},
     "output_type": "execute_result"
    }
   ],
   "source": [
    "f1.mode"
   ]
  },
  {
   "cell_type": "code",
   "execution_count": 12,
   "id": "8460571b",
   "metadata": {},
   "outputs": [
    {
     "data": {
      "text/plain": [
       "'i am a student learning data science'"
      ]
     },
     "execution_count": 12,
     "metadata": {},
     "output_type": "execute_result"
    }
   ],
   "source": [
    "f1.read()"
   ]
  },
  {
   "cell_type": "code",
   "execution_count": 13,
   "id": "8e70fadf",
   "metadata": {},
   "outputs": [
    {
     "ename": "UnsupportedOperation",
     "evalue": "not writable",
     "output_type": "error",
     "traceback": [
      "\u001b[1;31m---------------------------------------------------------------------------\u001b[0m",
      "\u001b[1;31mUnsupportedOperation\u001b[0m                      Traceback (most recent call last)",
      "Cell \u001b[1;32mIn[13], line 1\u001b[0m\n\u001b[1;32m----> 1\u001b[0m f1\u001b[38;5;241m.\u001b[39mwrite(\u001b[38;5;124m\"\u001b[39m\u001b[38;5;124msdfshfgdfj\u001b[39m\u001b[38;5;124m\"\u001b[39m)\n",
      "\u001b[1;31mUnsupportedOperation\u001b[0m: not writable"
     ]
    }
   ],
   "source": [
    "f1.write(\"sdfshfgdfj\")"
   ]
  },
  {
   "cell_type": "code",
   "execution_count": 15,
   "id": "b9f54631",
   "metadata": {},
   "outputs": [],
   "source": [
    "f2 =open(\"demo.txt\", \"r+\")"
   ]
  },
  {
   "cell_type": "code",
   "execution_count": 16,
   "id": "82474594",
   "metadata": {},
   "outputs": [
    {
     "data": {
      "text/plain": [
       "'r+'"
      ]
     },
     "execution_count": 16,
     "metadata": {},
     "output_type": "execute_result"
    }
   ],
   "source": [
    "f2.mode"
   ]
  },
  {
   "cell_type": "code",
   "execution_count": 18,
   "id": "09a3d401",
   "metadata": {},
   "outputs": [
    {
     "data": {
      "text/plain": [
       "'i am a student learning data science'"
      ]
     },
     "execution_count": 18,
     "metadata": {},
     "output_type": "execute_result"
    }
   ],
   "source": [
    "f2.read()"
   ]
  },
  {
   "cell_type": "code",
   "execution_count": 21,
   "id": "c17198ab",
   "metadata": {},
   "outputs": [
    {
     "ename": "ValueError",
     "evalue": "I/O operation on closed file.",
     "output_type": "error",
     "traceback": [
      "\u001b[1;31m---------------------------------------------------------------------------\u001b[0m",
      "\u001b[1;31mValueError\u001b[0m                                Traceback (most recent call last)",
      "Cell \u001b[1;32mIn[21], line 1\u001b[0m\n\u001b[1;32m----> 1\u001b[0m f2\u001b[38;5;241m.\u001b[39mwrite(\u001b[38;5;124m\"\u001b[39m\u001b[38;5;124m hello everyone\u001b[39m\u001b[38;5;124m\"\u001b[39m)\n",
      "\u001b[1;31mValueError\u001b[0m: I/O operation on closed file."
     ]
    }
   ],
   "source": [
    "f2.write(\" hello everyone\")"
   ]
  },
  {
   "cell_type": "code",
   "execution_count": 20,
   "id": "c6db2f8c",
   "metadata": {},
   "outputs": [],
   "source": [
    "f2.close()"
   ]
  },
  {
   "cell_type": "code",
   "execution_count": 23,
   "id": "a286af22",
   "metadata": {},
   "outputs": [],
   "source": [
    "f3 = open(\"test.ipynb\", \"w\")"
   ]
  },
  {
   "cell_type": "code",
   "execution_count": 25,
   "id": "b2270bb9",
   "metadata": {},
   "outputs": [],
   "source": [
    "f4 =open(\"demo.txt\", \"r+\")"
   ]
  },
  {
   "cell_type": "code",
   "execution_count": 26,
   "id": "53138097",
   "metadata": {},
   "outputs": [
    {
     "data": {
      "text/plain": [
       "7"
      ]
     },
     "execution_count": 26,
     "metadata": {},
     "output_type": "execute_result"
    }
   ],
   "source": [
    "f4.seek(7)"
   ]
  },
  {
   "cell_type": "code",
   "execution_count": 27,
   "id": "14ac7443",
   "metadata": {},
   "outputs": [
    {
     "data": {
      "text/plain": [
       "'student learning data sciencehello everyone'"
      ]
     },
     "execution_count": 27,
     "metadata": {},
     "output_type": "execute_result"
    }
   ],
   "source": [
    "f4.read()"
   ]
  },
  {
   "cell_type": "code",
   "execution_count": 28,
   "id": "4ccd5f57",
   "metadata": {},
   "outputs": [
    {
     "data": {
      "text/plain": [
       "50"
      ]
     },
     "execution_count": 28,
     "metadata": {},
     "output_type": "execute_result"
    }
   ],
   "source": [
    "f4.tell()"
   ]
  },
  {
   "cell_type": "code",
   "execution_count": 29,
   "id": "e4c1795e",
   "metadata": {},
   "outputs": [
    {
     "data": {
      "text/plain": [
       "''"
      ]
     },
     "execution_count": 29,
     "metadata": {},
     "output_type": "execute_result"
    }
   ],
   "source": [
    "f4.read()"
   ]
  },
  {
   "cell_type": "code",
   "execution_count": 30,
   "id": "4f9f849e",
   "metadata": {},
   "outputs": [
    {
     "data": {
      "text/plain": [
       "'r+'"
      ]
     },
     "execution_count": 30,
     "metadata": {},
     "output_type": "execute_result"
    }
   ],
   "source": [
    "f4.mode"
   ]
  },
  {
   "cell_type": "code",
   "execution_count": 31,
   "id": "e68c4461",
   "metadata": {},
   "outputs": [],
   "source": [
    "f4.close()"
   ]
  },
  {
   "cell_type": "code",
   "execution_count": 33,
   "id": "f87c0b1c",
   "metadata": {},
   "outputs": [],
   "source": [
    "f5 =open(\"demo.txt\", \"w\")"
   ]
  },
  {
   "cell_type": "code",
   "execution_count": 34,
   "id": "671057a9",
   "metadata": {},
   "outputs": [
    {
     "data": {
      "text/plain": [
       "21"
      ]
     },
     "execution_count": 34,
     "metadata": {},
     "output_type": "execute_result"
    }
   ],
   "source": [
    "f5.write(\" python is beautiful!\")"
   ]
  },
  {
   "cell_type": "code",
   "execution_count": 36,
   "id": "01a65417",
   "metadata": {},
   "outputs": [],
   "source": [
    "f5.close()"
   ]
  },
  {
   "cell_type": "code",
   "execution_count": 38,
   "id": "24255a11",
   "metadata": {},
   "outputs": [],
   "source": [
    "f6 = open(\"demo.txt\", \"a\")"
   ]
  },
  {
   "cell_type": "code",
   "execution_count": 40,
   "id": "7eb890f6",
   "metadata": {},
   "outputs": [
    {
     "data": {
      "text/plain": [
       "49"
      ]
     },
     "execution_count": 40,
     "metadata": {},
     "output_type": "execute_result"
    }
   ],
   "source": [
    "f6.write(\" python is a data science and production language\")"
   ]
  },
  {
   "cell_type": "code",
   "execution_count": 42,
   "id": "f022b41a",
   "metadata": {},
   "outputs": [],
   "source": [
    "f6.close()"
   ]
  },
  {
   "cell_type": "code",
   "execution_count": 44,
   "id": "15cf8c8d",
   "metadata": {},
   "outputs": [
    {
     "name": "stdout",
     "output_type": "stream",
     "text": [
      "Writing demo2.txt\n"
     ]
    }
   ],
   "source": [
    "%%writefile demo2.txt    # direct method of file creating\n",
    "my name is amit "
   ]
  },
  {
   "cell_type": "code",
   "execution_count": 46,
   "id": "20e933f9",
   "metadata": {},
   "outputs": [],
   "source": [
    "f7 = open(\"demo.txt\", \"r+\")"
   ]
  },
  {
   "cell_type": "code",
   "execution_count": 48,
   "id": "1a37bba4",
   "metadata": {},
   "outputs": [
    {
     "data": {
      "text/plain": [
       "''"
      ]
     },
     "execution_count": 48,
     "metadata": {},
     "output_type": "execute_result"
    }
   ],
   "source": [
    "f7.readline(2)"
   ]
  },
  {
   "cell_type": "code",
   "execution_count": 50,
   "id": "e664f2c0",
   "metadata": {},
   "outputs": [],
   "source": [
    "f7.writelines(\"lskhdfkl\")"
   ]
  },
  {
   "cell_type": "code",
   "execution_count": 51,
   "id": "6224b6b9",
   "metadata": {},
   "outputs": [],
   "source": [
    "f7.close()"
   ]
  },
  {
   "cell_type": "code",
   "execution_count": null,
   "id": "f577266c",
   "metadata": {},
   "outputs": [],
   "source": [
    "f7.truncate"
   ]
  },
  {
   "cell_type": "code",
   "execution_count": null,
   "id": "e8526055",
   "metadata": {},
   "outputs": [],
   "source": []
  },
  {
   "cell_type": "markdown",
   "id": "337449b5",
   "metadata": {},
   "source": [
    "## OS"
   ]
  },
  {
   "cell_type": "code",
   "execution_count": 1,
   "id": "ee855009",
   "metadata": {},
   "outputs": [],
   "source": [
    "import os"
   ]
  },
  {
   "cell_type": "code",
   "execution_count": 53,
   "id": "ddd44f5a",
   "metadata": {},
   "outputs": [
    {
     "data": {
      "text/plain": [
       "'C:\\\\Users\\\\amitm\\\\Class\\\\10_00'"
      ]
     },
     "execution_count": 53,
     "metadata": {},
     "output_type": "execute_result"
    }
   ],
   "source": [
    "pwd()"
   ]
  },
  {
   "cell_type": "code",
   "execution_count": 54,
   "id": "bb9b11c4",
   "metadata": {},
   "outputs": [
    {
     "data": {
      "text/plain": [
       "'C:\\\\Users\\\\amitm\\\\Class\\\\10_00'"
      ]
     },
     "execution_count": 54,
     "metadata": {},
     "output_type": "execute_result"
    }
   ],
   "source": [
    "os.getcwd()"
   ]
  },
  {
   "cell_type": "code",
   "execution_count": 56,
   "id": "c79565de",
   "metadata": {},
   "outputs": [
    {
     "data": {
      "text/plain": [
       "['.ipynb_checkpoints',\n",
       " '1 Basics .ipynb',\n",
       " '2 string.ipynb',\n",
       " '3 string Operation.ipynb',\n",
       " '6 Dictionary, F-string .ipynb',\n",
       " 'Condition 4.ipynb',\n",
       " 'demo.txt',\n",
       " 'demo2.txt',\n",
       " 'Function .ipynb',\n",
       " 'List comprehension  and lambda function.ipynb',\n",
       " 'Loop for .ipynb',\n",
       " 'test.ipynb',\n",
       " 'Untitled.ipynb',\n",
       " 'Untitled1.ipynb',\n",
       " 'Untitled2.ipynb',\n",
       " 'Untitled3.ipynb',\n",
       " 'Untitled4.ipynb',\n",
       " 'Untitled5.ipynb',\n",
       " 'Untitled6.ipynb',\n",
       " 'Untitled7.ipynb',\n",
       " 'while loop.ipynb']"
      ]
     },
     "execution_count": 56,
     "metadata": {},
     "output_type": "execute_result"
    }
   ],
   "source": [
    "os.listdir()"
   ]
  },
  {
   "cell_type": "code",
   "execution_count": 57,
   "id": "e9ba868d",
   "metadata": {},
   "outputs": [],
   "source": [
    "os.chdir(\"C:\\\\Users\\\\amitm\\\\Downloads\")"
   ]
  },
  {
   "cell_type": "code",
   "execution_count": 58,
   "id": "44724b3f",
   "metadata": {},
   "outputs": [
    {
     "data": {
      "text/plain": [
       "'C:\\\\Users\\\\amitm\\\\Downloads'"
      ]
     },
     "execution_count": 58,
     "metadata": {},
     "output_type": "execute_result"
    }
   ],
   "source": [
    "os.getcwd()"
   ]
  },
  {
   "cell_type": "code",
   "execution_count": 59,
   "id": "7816ad6b",
   "metadata": {},
   "outputs": [
    {
     "data": {
      "text/plain": [
       "['!qhlogs.doc',\n",
       " '-1097780674286916724.pdf',\n",
       " \"30'x36' south-PLAN 2.pdf\",\n",
       " 'Amit-Poonam-Kundali-Match-By-Drik-Panchang.pdf',\n",
       " 'AnyDesk.exe',\n",
       " 'Babulal-Chaturvedi-Calendar-Panchang-2023-PDF-Download.pdf',\n",
       " 'COAL_INDIA.ppt',\n",
       " 'desktop.ini',\n",
       " 'Gaurav Talodhikar (1).pdf',\n",
       " 'gcapi.dll',\n",
       " 'kunalkumbhalkar[resume].pdf',\n",
       " 'microsoft 360 invoice.pdf',\n",
       " 'NIT.pptx',\n",
       " 'OD222510161868653000.pdf',\n",
       " 'OD222510161868653000_page-0001.jpg',\n",
       " 'Resume.pdf',\n",
       " 'Rohit Sahu - 1yearEX-1.pdf',\n",
       " 'Rohit Samgir - AWS Cloud Engineer.pdf',\n",
       " 'Samuel_Meghnathan_Salesforce_Developer_certified_pd1 1.pdf',\n",
       " 'WhatsApp Image 2023-12-01 at 12.19.12 PM.jpeg',\n",
       " 'WhatsApp Image 2023-12-11 at 1.41.54 PM.jpeg']"
      ]
     },
     "execution_count": 59,
     "metadata": {},
     "output_type": "execute_result"
    }
   ],
   "source": [
    "os.listdir()"
   ]
  },
  {
   "cell_type": "code",
   "execution_count": 60,
   "id": "c7a3c34f",
   "metadata": {},
   "outputs": [],
   "source": [
    "os.mkdir(\"test\")"
   ]
  },
  {
   "cell_type": "code",
   "execution_count": 61,
   "id": "b122dc6d",
   "metadata": {},
   "outputs": [
    {
     "data": {
      "text/plain": [
       "['!qhlogs.doc',\n",
       " '-1097780674286916724.pdf',\n",
       " \"30'x36' south-PLAN 2.pdf\",\n",
       " 'Amit-Poonam-Kundali-Match-By-Drik-Panchang.pdf',\n",
       " 'AnyDesk.exe',\n",
       " 'Babulal-Chaturvedi-Calendar-Panchang-2023-PDF-Download.pdf',\n",
       " 'COAL_INDIA.ppt',\n",
       " 'desktop.ini',\n",
       " 'Gaurav Talodhikar (1).pdf',\n",
       " 'gcapi.dll',\n",
       " 'kunalkumbhalkar[resume].pdf',\n",
       " 'microsoft 360 invoice.pdf',\n",
       " 'NIT.pptx',\n",
       " 'OD222510161868653000.pdf',\n",
       " 'OD222510161868653000_page-0001.jpg',\n",
       " 'Resume.pdf',\n",
       " 'Rohit Sahu - 1yearEX-1.pdf',\n",
       " 'Rohit Samgir - AWS Cloud Engineer.pdf',\n",
       " 'Samuel_Meghnathan_Salesforce_Developer_certified_pd1 1.pdf',\n",
       " 'test',\n",
       " 'WhatsApp Image 2023-12-01 at 12.19.12 PM.jpeg',\n",
       " 'WhatsApp Image 2023-12-11 at 1.41.54 PM.jpeg']"
      ]
     },
     "execution_count": 61,
     "metadata": {},
     "output_type": "execute_result"
    }
   ],
   "source": [
    "os.listdir()"
   ]
  },
  {
   "cell_type": "code",
   "execution_count": 62,
   "id": "67c844e3",
   "metadata": {},
   "outputs": [],
   "source": [
    "os.chdir(\"C:\\\\Users\\\\amitm\\\\Downloads\\\\test\")"
   ]
  },
  {
   "cell_type": "code",
   "execution_count": 69,
   "id": "f074de45",
   "metadata": {},
   "outputs": [
    {
     "data": {
      "text/plain": [
       "['filename.txt', 'filename2.txt']"
      ]
     },
     "execution_count": 69,
     "metadata": {},
     "output_type": "execute_result"
    }
   ],
   "source": [
    "os.listdir()"
   ]
  },
  {
   "cell_type": "code",
   "execution_count": 64,
   "id": "fc929ae5",
   "metadata": {},
   "outputs": [
    {
     "data": {
      "text/plain": [
       "'C:\\\\Users\\\\amitm\\\\Downloads\\\\test'"
      ]
     },
     "execution_count": 64,
     "metadata": {},
     "output_type": "execute_result"
    }
   ],
   "source": [
    "os.getcwd()"
   ]
  },
  {
   "cell_type": "code",
   "execution_count": 68,
   "id": "e4a62cc6",
   "metadata": {},
   "outputs": [],
   "source": [
    "f9 =open(\"filename2.txt\", \"w\")"
   ]
  },
  {
   "cell_type": "code",
   "execution_count": 70,
   "id": "f85210d0",
   "metadata": {},
   "outputs": [
    {
     "ename": "FileNotFoundError",
     "evalue": "[WinError 2] The system cannot find the file specified: 'test'",
     "output_type": "error",
     "traceback": [
      "\u001b[1;31m---------------------------------------------------------------------------\u001b[0m",
      "\u001b[1;31mFileNotFoundError\u001b[0m                         Traceback (most recent call last)",
      "Cell \u001b[1;32mIn[70], line 1\u001b[0m\n\u001b[1;32m----> 1\u001b[0m os\u001b[38;5;241m.\u001b[39mrmdir(\u001b[38;5;124m\"\u001b[39m\u001b[38;5;124mtest\u001b[39m\u001b[38;5;124m\"\u001b[39m)\n",
      "\u001b[1;31mFileNotFoundError\u001b[0m: [WinError 2] The system cannot find the file specified: 'test'"
     ]
    }
   ],
   "source": [
    "os.rmdir(\"test\")"
   ]
  },
  {
   "cell_type": "code",
   "execution_count": 71,
   "id": "3eecb7ba",
   "metadata": {},
   "outputs": [],
   "source": [
    "os.chdir(\"C:\\\\Users\\\\amitm\\\\Downloads\")"
   ]
  },
  {
   "cell_type": "code",
   "execution_count": 72,
   "id": "7a5fda47",
   "metadata": {},
   "outputs": [
    {
     "ename": "OSError",
     "evalue": "[WinError 145] The directory is not empty: 'test'",
     "output_type": "error",
     "traceback": [
      "\u001b[1;31m---------------------------------------------------------------------------\u001b[0m",
      "\u001b[1;31mOSError\u001b[0m                                   Traceback (most recent call last)",
      "Cell \u001b[1;32mIn[72], line 1\u001b[0m\n\u001b[1;32m----> 1\u001b[0m os\u001b[38;5;241m.\u001b[39mrmdir(\u001b[38;5;124m\"\u001b[39m\u001b[38;5;124mtest\u001b[39m\u001b[38;5;124m\"\u001b[39m)\n",
      "\u001b[1;31mOSError\u001b[0m: [WinError 145] The directory is not empty: 'test'"
     ]
    }
   ],
   "source": [
    "os.rmdir(\"test\")"
   ]
  },
  {
   "cell_type": "code",
   "execution_count": 73,
   "id": "404bbd37",
   "metadata": {},
   "outputs": [],
   "source": [
    "os.chdir(\"C:\\\\Users\\\\amitm\\\\Downloads\\\\test\")"
   ]
  },
  {
   "cell_type": "code",
   "execution_count": 74,
   "id": "9903c178",
   "metadata": {},
   "outputs": [
    {
     "ename": "PermissionError",
     "evalue": "[WinError 32] The process cannot access the file because it is being used by another process: 'filename.txt'",
     "output_type": "error",
     "traceback": [
      "\u001b[1;31m---------------------------------------------------------------------------\u001b[0m",
      "\u001b[1;31mPermissionError\u001b[0m                           Traceback (most recent call last)",
      "Cell \u001b[1;32mIn[74], line 1\u001b[0m\n\u001b[1;32m----> 1\u001b[0m os\u001b[38;5;241m.\u001b[39mremove(\u001b[38;5;124m\"\u001b[39m\u001b[38;5;124mfilename.txt\u001b[39m\u001b[38;5;124m\"\u001b[39m)\n",
      "\u001b[1;31mPermissionError\u001b[0m: [WinError 32] The process cannot access the file because it is being used by another process: 'filename.txt'"
     ]
    }
   ],
   "source": [
    "os.remove(\"filename.txt\")"
   ]
  },
  {
   "cell_type": "code",
   "execution_count": 75,
   "id": "51b10854",
   "metadata": {},
   "outputs": [],
   "source": [
    "f9.close()"
   ]
  },
  {
   "cell_type": "code",
   "execution_count": 76,
   "id": "3453a3b8",
   "metadata": {},
   "outputs": [
    {
     "data": {
      "text/plain": [
       "'w'"
      ]
     },
     "execution_count": 76,
     "metadata": {},
     "output_type": "execute_result"
    }
   ],
   "source": [
    "f9.mode"
   ]
  },
  {
   "cell_type": "code",
   "execution_count": 81,
   "id": "5a37bf6d",
   "metadata": {},
   "outputs": [
    {
     "data": {
      "text/plain": [
       "<function TextIOWrapper.flush()>"
      ]
     },
     "execution_count": 81,
     "metadata": {},
     "output_type": "execute_result"
    }
   ],
   "source": [
    "f9.flush"
   ]
  },
  {
   "cell_type": "code",
   "execution_count": 82,
   "id": "c57146da",
   "metadata": {},
   "outputs": [
    {
     "data": {
      "text/plain": [
       "'w'"
      ]
     },
     "execution_count": 82,
     "metadata": {},
     "output_type": "execute_result"
    }
   ],
   "source": [
    "f9.mode"
   ]
  },
  {
   "cell_type": "code",
   "execution_count": 83,
   "id": "a941e11b",
   "metadata": {},
   "outputs": [
    {
     "ename": "PermissionError",
     "evalue": "[WinError 32] The process cannot access the file because it is being used by another process: 'filename.txt'",
     "output_type": "error",
     "traceback": [
      "\u001b[1;31m---------------------------------------------------------------------------\u001b[0m",
      "\u001b[1;31mPermissionError\u001b[0m                           Traceback (most recent call last)",
      "Cell \u001b[1;32mIn[83], line 1\u001b[0m\n\u001b[1;32m----> 1\u001b[0m os\u001b[38;5;241m.\u001b[39mremove(\u001b[38;5;124m\"\u001b[39m\u001b[38;5;124mfilename.txt\u001b[39m\u001b[38;5;124m\"\u001b[39m)\n",
      "\u001b[1;31mPermissionError\u001b[0m: [WinError 32] The process cannot access the file because it is being used by another process: 'filename.txt'"
     ]
    }
   ],
   "source": [
    "os.remove(\"filename.txt\")"
   ]
  },
  {
   "cell_type": "code",
   "execution_count": 2,
   "id": "c89d3d18",
   "metadata": {},
   "outputs": [
    {
     "data": {
      "text/plain": [
       "'C:\\\\Users\\\\amitm\\\\Class\\\\10_00'"
      ]
     },
     "execution_count": 2,
     "metadata": {},
     "output_type": "execute_result"
    }
   ],
   "source": [
    "os.getcwd()"
   ]
  },
  {
   "cell_type": "code",
   "execution_count": 3,
   "id": "25a259b0",
   "metadata": {},
   "outputs": [],
   "source": [
    "os.chdir(\"C:\\\\Users\\\\amitm\\\\Downloads\\\\test\")"
   ]
  },
  {
   "cell_type": "code",
   "execution_count": 4,
   "id": "e0a51930",
   "metadata": {},
   "outputs": [],
   "source": [
    "os.remove(\"filename.txt\")"
   ]
  },
  {
   "cell_type": "code",
   "execution_count": 5,
   "id": "32b7fb3b",
   "metadata": {},
   "outputs": [],
   "source": [
    "os.remove(\"filename2.txt\")"
   ]
  },
  {
   "cell_type": "code",
   "execution_count": 6,
   "id": "ab01f432",
   "metadata": {},
   "outputs": [],
   "source": [
    "os.chdir(\"C:\\\\Users\\\\amitm\\\\Downloads\")"
   ]
  },
  {
   "cell_type": "code",
   "execution_count": 8,
   "id": "3f1b3862",
   "metadata": {},
   "outputs": [],
   "source": [
    "os.rmdir(\"test\")"
   ]
  },
  {
   "cell_type": "code",
   "execution_count": 10,
   "id": "61b07da4",
   "metadata": {},
   "outputs": [],
   "source": [
    "a =os.listdir()"
   ]
  },
  {
   "cell_type": "code",
   "execution_count": 11,
   "id": "ba7bd2d6",
   "metadata": {},
   "outputs": [
    {
     "data": {
      "text/plain": [
       "['!qhlogs.doc',\n",
       " '-1097780674286916724.pdf',\n",
       " \"30'x36' south-PLAN 2.pdf\",\n",
       " 'Amit-Poonam-Kundali-Match-By-Drik-Panchang.pdf',\n",
       " 'AnyDesk.exe',\n",
       " 'Babulal-Chaturvedi-Calendar-Panchang-2023-PDF-Download.pdf',\n",
       " 'COAL_INDIA.ppt',\n",
       " 'desktop.ini',\n",
       " 'Gaurav Talodhikar (1).pdf',\n",
       " 'gcapi.dll',\n",
       " 'kunalkumbhalkar[resume].pdf',\n",
       " 'microsoft 360 invoice.pdf',\n",
       " 'NIT.pptx',\n",
       " 'OD222510161868653000.pdf',\n",
       " 'OD222510161868653000_page-0001.jpg',\n",
       " 'Resume.pdf',\n",
       " 'Rohit Sahu - 1yearEX-1.pdf',\n",
       " 'Rohit Samgir - AWS Cloud Engineer.pdf',\n",
       " 'Samuel_Meghnathan_Salesforce_Developer_certified_pd1 1.pdf',\n",
       " 'WhatsApp Image 2023-12-01 at 12.19.12 PM.jpeg',\n",
       " 'WhatsApp Image 2023-12-11 at 1.41.54 PM.jpeg']"
      ]
     },
     "execution_count": 11,
     "metadata": {},
     "output_type": "execute_result"
    }
   ],
   "source": [
    "a"
   ]
  },
  {
   "cell_type": "code",
   "execution_count": null,
   "id": "dcd066f9",
   "metadata": {},
   "outputs": [],
   "source": [
    "if 'datafile' in os.listdir():\n",
    "    print(\"yes\")\n",
    "    f = open(\"new.txt\", \"w\")\n",
    "    for i in f:\n",
    "        print(i)\n",
    "else:\n",
    "    print(\"no\")"
   ]
  },
  {
   "cell_type": "code",
   "execution_count": null,
   "id": "c6cc2953",
   "metadata": {},
   "outputs": [],
   "source": [
    "if \"rahul.txt\" in os.listdir():\n",
    "    print(\"yes\")\n",
    "    f = open(\"New.txt\", \"w\")\n",
    "    f.write(\"hello\")\n",
    "    f.close()\n",
    "else:\n",
    "    print(\"no\")"
   ]
  },
  {
   "cell_type": "code",
   "execution_count": null,
   "id": "7ee981d0",
   "metadata": {},
   "outputs": [],
   "source": [
    "for i in os.listdir():\n",
    "    if i == \"filename\":\n",
    "        os.remove(i)"
   ]
  },
  {
   "cell_type": "code",
   "execution_count": null,
   "id": "63392599",
   "metadata": {},
   "outputs": [],
   "source": [
    "def remove_file(a):\n",
    "    import os\n",
    "    for i in os.a():\n",
    "        if i == \"filename\":\n",
    "            os.remove(i)\n",
    "    return "
   ]
  }
 ],
 "metadata": {
  "kernelspec": {
   "display_name": "Python 3 (ipykernel)",
   "language": "python",
   "name": "python3"
  },
  "language_info": {
   "codemirror_mode": {
    "name": "ipython",
    "version": 3
   },
   "file_extension": ".py",
   "mimetype": "text/x-python",
   "name": "python",
   "nbconvert_exporter": "python",
   "pygments_lexer": "ipython3",
   "version": "3.11.5"
  }
 },
 "nbformat": 4,
 "nbformat_minor": 5
}
