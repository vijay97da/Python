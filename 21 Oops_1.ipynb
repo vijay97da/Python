{
 "cells": [
  {
   "cell_type": "code",
   "execution_count": 1,
   "id": "a3293326",
   "metadata": {},
   "outputs": [],
   "source": [
    "class person:     #attributes     # __inti__ = constructor,  self is a pointer to class\n",
    "    \n",
    "    def __init__(self, name, surname, emailid , year_of_birth):   # method \n",
    "        \n",
    "        self.name = name\n",
    "        self.surname = surname\n",
    "        self.emailid = emailid\n",
    "        self.year_of_birth = year_of_birth"
   ]
  },
  {
   "cell_type": "code",
   "execution_count": 2,
   "id": "7b8014d6",
   "metadata": {},
   "outputs": [],
   "source": [
    "am =person(\"amit\", \"kumar\", \"amit@gmail\", 30)"
   ]
  },
  {
   "cell_type": "code",
   "execution_count": 3,
   "id": "e7f81d46",
   "metadata": {},
   "outputs": [
    {
     "data": {
      "text/plain": [
       "'kumar'"
      ]
     },
     "execution_count": 3,
     "metadata": {},
     "output_type": "execute_result"
    }
   ],
   "source": [
    "am.surname"
   ]
  },
  {
   "cell_type": "code",
   "execution_count": 4,
   "id": "86b16be9",
   "metadata": {},
   "outputs": [
    {
     "data": {
      "text/plain": [
       "30"
      ]
     },
     "execution_count": 4,
     "metadata": {},
     "output_type": "execute_result"
    }
   ],
   "source": [
    "am.year_of_birth"
   ]
  },
  {
   "cell_type": "code",
   "execution_count": 5,
   "id": "e3f3e289",
   "metadata": {},
   "outputs": [],
   "source": [
    "ar = person(\"arjit\", \"singh\", \"arjit@gmail\", 25)"
   ]
  },
  {
   "cell_type": "code",
   "execution_count": 6,
   "id": "7af09d44",
   "metadata": {},
   "outputs": [
    {
     "data": {
      "text/plain": [
       "'arjit'"
      ]
     },
     "execution_count": 6,
     "metadata": {},
     "output_type": "execute_result"
    }
   ],
   "source": [
    "ar.name"
   ]
  },
  {
   "cell_type": "code",
   "execution_count": 7,
   "id": "4e25befc",
   "metadata": {},
   "outputs": [
    {
     "data": {
      "text/plain": [
       "'amit'"
      ]
     },
     "execution_count": 7,
     "metadata": {},
     "output_type": "execute_result"
    }
   ],
   "source": [
    "am.name"
   ]
  },
  {
   "cell_type": "code",
   "execution_count": 8,
   "id": "6d3d6826",
   "metadata": {},
   "outputs": [
    {
     "name": "stdout",
     "output_type": "stream",
     "text": [
      "amit@gmail arjit@gmail\n"
     ]
    }
   ],
   "source": [
    "print(am.emailid, ar.emailid)"
   ]
  },
  {
   "cell_type": "code",
   "execution_count": 9,
   "id": "4ffdf0f4",
   "metadata": {},
   "outputs": [
    {
     "name": "stdout",
     "output_type": "stream",
     "text": [
      "('arjit@gmail', 'arjit')\n"
     ]
    }
   ],
   "source": [
    "print(f\"{ar.emailid, ar.name}\")"
   ]
  },
  {
   "cell_type": "code",
   "execution_count": null,
   "id": "123638d5",
   "metadata": {},
   "outputs": [],
   "source": [
    "*****************************************"
   ]
  },
  {
   "cell_type": "code",
   "execution_count": 10,
   "id": "8358a73b",
   "metadata": {},
   "outputs": [],
   "source": [
    "class person:\n",
    "\n",
    "    def __init__(self, name, surname, emailid, year_of_birth):\n",
    "        self.name = name\n",
    "        self.surname = surname\n",
    "        self.emailid = emailid\n",
    "        self.year_of_birth = year_of_birth\n",
    "                                              # last constructed method can only use\n",
    "        \n",
    "    def __init__(self, name, surname, year_of_birth):\n",
    "        self.name = name\n",
    "        self.surname = surname \n",
    "        self. year_of_birth= year_of_birth  \n",
    "        \n",
    "    def age(self, curretn_year):\n",
    "        return curretn_year - self.year_of_birth "
   ]
  },
  {
   "cell_type": "code",
   "execution_count": 12,
   "id": "e8c4c477",
   "metadata": {},
   "outputs": [],
   "source": [
    "amit = person(\"amit\", \"kumar\",  1993)"
   ]
  },
  {
   "cell_type": "code",
   "execution_count": 13,
   "id": "4065df72",
   "metadata": {},
   "outputs": [
    {
     "data": {
      "text/plain": [
       "'kumar'"
      ]
     },
     "execution_count": 13,
     "metadata": {},
     "output_type": "execute_result"
    }
   ],
   "source": [
    "amit.surname"
   ]
  },
  {
   "cell_type": "code",
   "execution_count": 14,
   "id": "3b89baa4",
   "metadata": {},
   "outputs": [
    {
     "data": {
      "text/plain": [
       "30"
      ]
     },
     "execution_count": 14,
     "metadata": {},
     "output_type": "execute_result"
    }
   ],
   "source": [
    "amit.age(2023)"
   ]
  },
  {
   "cell_type": "code",
   "execution_count": null,
   "id": "6bf5abf8",
   "metadata": {},
   "outputs": [],
   "source": [
    "********************************************"
   ]
  },
  {
   "cell_type": "code",
   "execution_count": 16,
   "id": "2994fd58",
   "metadata": {},
   "outputs": [],
   "source": [
    "class person :\n",
    "\n",
    "    def age(self, current_year , year_of_birth):\n",
    "        return current_year - year_of_birth\n",
    "\n",
    "    def email_id_input(self, email_id ):\n",
    "        print(\"take and mail id form a person and print it \" , email_id)\n",
    "\n",
    "    def ask_name(self):\n",
    "        name = input(\"tell me your name \")\n",
    "        return name\n",
    "\n",
    "    def ask_dob(self):\n",
    "        dob = input(\"tell me your date of birth \")\n",
    "        return dob"
   ]
  },
  {
   "cell_type": "code",
   "execution_count": 18,
   "id": "20adb390",
   "metadata": {},
   "outputs": [],
   "source": [
    "obj = person()"
   ]
  },
  {
   "cell_type": "code",
   "execution_count": 20,
   "id": "9c874001",
   "metadata": {},
   "outputs": [
    {
     "name": "stdout",
     "output_type": "stream",
     "text": [
      "tell me your name kartik\n"
     ]
    },
    {
     "data": {
      "text/plain": [
       "'kartik'"
      ]
     },
     "execution_count": 20,
     "metadata": {},
     "output_type": "execute_result"
    }
   ],
   "source": [
    "obj.ask_name()"
   ]
  },
  {
   "cell_type": "code",
   "execution_count": 21,
   "id": "421ec698",
   "metadata": {},
   "outputs": [
    {
     "name": "stdout",
     "output_type": "stream",
     "text": [
      "tell me your date of birth 1999\n"
     ]
    },
    {
     "data": {
      "text/plain": [
       "'1999'"
      ]
     },
     "execution_count": 21,
     "metadata": {},
     "output_type": "execute_result"
    }
   ],
   "source": [
    "obj.ask_dob()"
   ]
  },
  {
   "cell_type": "code",
   "execution_count": 23,
   "id": "017af330",
   "metadata": {},
   "outputs": [
    {
     "data": {
      "text/plain": [
       "33"
      ]
     },
     "execution_count": 23,
     "metadata": {},
     "output_type": "execute_result"
    }
   ],
   "source": [
    "obj.age(2023, 1990)"
   ]
  },
  {
   "cell_type": "code",
   "execution_count": 24,
   "id": "5a24c86f",
   "metadata": {},
   "outputs": [],
   "source": [
    "def age(current_year , year_of_birth):\n",
    "        return current_year - year_of_birth"
   ]
  },
  {
   "cell_type": "code",
   "execution_count": 25,
   "id": "c97a0921",
   "metadata": {},
   "outputs": [
    {
     "data": {
      "text/plain": [
       "23"
      ]
     },
     "execution_count": 25,
     "metadata": {},
     "output_type": "execute_result"
    }
   ],
   "source": [
    "age(2023, 2000)"
   ]
  },
  {
   "cell_type": "code",
   "execution_count": null,
   "id": "1edbdf5f",
   "metadata": {},
   "outputs": [],
   "source": [
    "obj."
   ]
  },
  {
   "cell_type": "code",
   "execution_count": null,
   "id": "83e5fa59",
   "metadata": {},
   "outputs": [],
   "source": [
    "******************************************************"
   ]
  },
  {
   "cell_type": "code",
   "execution_count": 26,
   "id": "b30c5d23",
   "metadata": {},
   "outputs": [],
   "source": [
    "class person1 :\n",
    "    \n",
    "    def __init__(self , name ,surname , yob):\n",
    "        self._name1 = name                 # single _ means private \n",
    "        self.__surname1 = surname          #  double __ means protective\n",
    "        self.yob1 = yob                    # public "
   ]
  },
  {
   "cell_type": "code",
   "execution_count": 27,
   "id": "684dd21c",
   "metadata": {},
   "outputs": [],
   "source": [
    "sudh = person1(\"amit\" , \"kumar\" , 1990)"
   ]
  },
  {
   "cell_type": "code",
   "execution_count": 28,
   "id": "055a50c4",
   "metadata": {},
   "outputs": [
    {
     "data": {
      "text/plain": [
       "1990"
      ]
     },
     "execution_count": 28,
     "metadata": {},
     "output_type": "execute_result"
    }
   ],
   "source": [
    "sudh.yob1"
   ]
  },
  {
   "cell_type": "code",
   "execution_count": 29,
   "id": "23af34d7",
   "metadata": {},
   "outputs": [
    {
     "data": {
      "text/plain": [
       "'amit'"
      ]
     },
     "execution_count": 29,
     "metadata": {},
     "output_type": "execute_result"
    }
   ],
   "source": [
    "sudh._name1"
   ]
  },
  {
   "cell_type": "code",
   "execution_count": 31,
   "id": "70a9776d",
   "metadata": {},
   "outputs": [
    {
     "data": {
      "text/plain": [
       "'kumar'"
      ]
     },
     "execution_count": 31,
     "metadata": {},
     "output_type": "execute_result"
    }
   ],
   "source": [
    "sudh._person1__surname1"
   ]
  },
  {
   "cell_type": "code",
   "execution_count": null,
   "id": "4bc1f771",
   "metadata": {},
   "outputs": [],
   "source": [
    "******************************************************"
   ]
  },
  {
   "cell_type": "code",
   "execution_count": null,
   "id": "5b7caa8a",
   "metadata": {},
   "outputs": [],
   "source": [
    "import test1\n",
    "print(test1)\n",
    "obj3 = test1.person1(\"amit\" , \"kumar\" , 1994)\n",
    "print(obj3.yob1)\n",
    "print(obj3._name1)\n",
    "print(obj3._person1__surname1)"
   ]
  },
  {
   "cell_type": "code",
   "execution_count": 45,
   "id": "a23ac89b",
   "metadata": {},
   "outputs": [],
   "source": [
    "class person :                             # parents class\n",
    "\n",
    "    name = \"amit\"\n",
    "    surname = \"kumar\"\n",
    "    yob = 1990\n",
    "\n",
    "    def age(self , current_year ):\n",
    "        return current_year - self.yob\n",
    "    \n",
    "    def age1(self , current_year ):\n",
    "        return current_year - self.yob\n",
    "\n",
    "\n",
    "\n",
    "class employee(person) : #child class\n",
    "    name = \"nitin\"\n",
    "    \n",
    "    "
   ]
  },
  {
   "cell_type": "code",
   "execution_count": 33,
   "id": "a5899b54",
   "metadata": {},
   "outputs": [
    {
     "name": "stdout",
     "output_type": "stream",
     "text": [
      "32\n",
      "32\n"
     ]
    }
   ],
   "source": [
    "obj = person()\n",
    "print(obj.age(2022))\n",
    "print(obj.age1(2022))"
   ]
  },
  {
   "cell_type": "code",
   "execution_count": 34,
   "id": "df20bf10",
   "metadata": {},
   "outputs": [
    {
     "data": {
      "text/plain": [
       "'kumar'"
      ]
     },
     "execution_count": 34,
     "metadata": {},
     "output_type": "execute_result"
    }
   ],
   "source": [
    "obj.surname"
   ]
  },
  {
   "cell_type": "code",
   "execution_count": 46,
   "id": "2aab64e6",
   "metadata": {},
   "outputs": [],
   "source": [
    "emp = employee()"
   ]
  },
  {
   "cell_type": "code",
   "execution_count": 47,
   "id": "9e037052",
   "metadata": {},
   "outputs": [
    {
     "data": {
      "text/plain": [
       "'nitin'"
      ]
     },
     "execution_count": 47,
     "metadata": {},
     "output_type": "execute_result"
    }
   ],
   "source": [
    "emp.name"
   ]
  },
  {
   "cell_type": "code",
   "execution_count": 49,
   "id": "1f171d44",
   "metadata": {},
   "outputs": [
    {
     "data": {
      "text/plain": [
       "'kumar'"
      ]
     },
     "execution_count": 49,
     "metadata": {},
     "output_type": "execute_result"
    }
   ],
   "source": [
    "emp.surname"
   ]
  },
  {
   "cell_type": "code",
   "execution_count": null,
   "id": "7aeae160",
   "metadata": {},
   "outputs": [],
   "source": [
    "***********************************************"
   ]
  },
  {
   "cell_type": "code",
   "execution_count": 51,
   "id": "a3814917",
   "metadata": {},
   "outputs": [],
   "source": [
    "class car :                 #perent class   \n",
    "                         # inheritence \n",
    "    def __init__(self , body , engin , tyre):\n",
    "        self.body = body\n",
    "        self.engin = engin\n",
    "        self.tyre = tyre\n",
    "\n",
    "    def milage (self):\n",
    "        print(\"milage of this car \") \n",
    "        \n",
    "        \n",
    "class tata(car):                #child class\n",
    "    pass\n",
    "\n"
   ]
  },
  {
   "cell_type": "code",
   "execution_count": 52,
   "id": "80866bd3",
   "metadata": {},
   "outputs": [
    {
     "name": "stdout",
     "output_type": "stream",
     "text": [
      "<__main__.tata object at 0x0000027243D67B10>\n",
      "milage of this car \n",
      "None\n"
     ]
    }
   ],
   "source": [
    "t = tata(\"solid1\" , \"v8\" , \"radial1\")\n",
    "print(t)\n",
    "print(t.milage())"
   ]
  },
  {
   "cell_type": "code",
   "execution_count": 55,
   "id": "a3317c1a",
   "metadata": {},
   "outputs": [],
   "source": [
    "pobj = car(\"hatchback\", \"v4\", \"radial\")"
   ]
  },
  {
   "cell_type": "code",
   "execution_count": 56,
   "id": "8def38de",
   "metadata": {},
   "outputs": [
    {
     "data": {
      "text/plain": [
       "'v4'"
      ]
     },
     "execution_count": 56,
     "metadata": {},
     "output_type": "execute_result"
    }
   ],
   "source": [
    "pobj.engin"
   ]
  },
  {
   "cell_type": "code",
   "execution_count": 57,
   "id": "7b94620a",
   "metadata": {},
   "outputs": [
    {
     "data": {
      "text/plain": [
       "'v8'"
      ]
     },
     "execution_count": 57,
     "metadata": {},
     "output_type": "execute_result"
    }
   ],
   "source": [
    "t.engin"
   ]
  },
  {
   "cell_type": "code",
   "execution_count": null,
   "id": "086786ba",
   "metadata": {},
   "outputs": [],
   "source": [
    "********************************************************8888"
   ]
  },
  {
   "cell_type": "code",
   "execution_count": 58,
   "id": "f0e1fa75",
   "metadata": {},
   "outputs": [],
   "source": [
    "class bank :             # perents class \n",
    "    def transaction(self) :\n",
    "        print(\"total transaction value \")\n",
    "    def account_opening(self):\n",
    "        print(\"this will show you your account open status \")\n",
    "    def deposite(self):\n",
    "        print(\"this will show your deposited amount\")\n",
    "\n",
    "\n",
    "class HDFC_bank(bank):             # child class\n",
    "    def hdfc_to_icici(self):\n",
    "        print(\"this will show you all the transaction happend to icici throuhg hdfc\")\n",
    "\n",
    "class icici(HDFC_bank):          # child class\n",
    "    pass                        \n",
    "\n",
    "# multilevel inheritence"
   ]
  },
  {
   "cell_type": "code",
   "execution_count": 59,
   "id": "e0c5d98c",
   "metadata": {},
   "outputs": [],
   "source": [
    "obj = icici()"
   ]
  },
  {
   "cell_type": "code",
   "execution_count": null,
   "id": "3bb982b1",
   "metadata": {},
   "outputs": [],
   "source": [
    "obj."
   ]
  },
  {
   "cell_type": "code",
   "execution_count": 60,
   "id": "699767fe",
   "metadata": {},
   "outputs": [],
   "source": [
    "hobj = HDFC_bank()"
   ]
  },
  {
   "cell_type": "code",
   "execution_count": 61,
   "id": "d061349e",
   "metadata": {},
   "outputs": [
    {
     "name": "stdout",
     "output_type": "stream",
     "text": [
      "this will show you all the transaction happend to icici throuhg hdfc\n"
     ]
    }
   ],
   "source": [
    "hobj.hdfc_to_icici()"
   ]
  },
  {
   "cell_type": "code",
   "execution_count": null,
   "id": "c91a1cca",
   "metadata": {},
   "outputs": [],
   "source": [
    "***********************************************************"
   ]
  },
  {
   "cell_type": "code",
   "execution_count": 62,
   "id": "1aad14fd",
   "metadata": {},
   "outputs": [],
   "source": [
    "class bank :\n",
    "    def transaction(self) :\n",
    "        print(\"total transaction value \")\n",
    "    def account_opening(self):\n",
    "        print(\"this will show you your account open status \")\n",
    "    def deposite(self):\n",
    "        print(\"this will show your deposited amount\")\n",
    "    def test(self):                          # override code\n",
    "        print(\"this is a test methond form bank class \")\n",
    "\n",
    "\n",
    "class HDFC_bank:\n",
    "    def hdfc_to_icici(self):\n",
    "        print(\"this will show you all the transaction happend to icici throuhg hdfc\")\n",
    "    def test(self):           #override code\n",
    "        print(\"this is a test method form hdfc bank \")\n",
    "\n",
    "class ineron_bank:\n",
    "    def account_status_icici(self):\n",
    "        print(\"print a account status in icici \")\n",
    "\n",
    "class icici(bank, HDFC_bank, ineron_bank):      # multiple inheritence\n",
    "    pass"
   ]
  },
  {
   "cell_type": "code",
   "execution_count": 63,
   "id": "a71d59a7",
   "metadata": {},
   "outputs": [],
   "source": [
    "obji = icici() "
   ]
  },
  {
   "cell_type": "code",
   "execution_count": 65,
   "id": "8ae4df48",
   "metadata": {},
   "outputs": [
    {
     "name": "stdout",
     "output_type": "stream",
     "text": [
      "this is a test methond form bank class \n"
     ]
    }
   ],
   "source": [
    "obji.test()"
   ]
  },
  {
   "cell_type": "code",
   "execution_count": null,
   "id": "f62bff2d",
   "metadata": {},
   "outputs": [],
   "source": []
  }
 ],
 "metadata": {
  "kernelspec": {
   "display_name": "Python 3 (ipykernel)",
   "language": "python",
   "name": "python3"
  },
  "language_info": {
   "codemirror_mode": {
    "name": "ipython",
    "version": 3
   },
   "file_extension": ".py",
   "mimetype": "text/x-python",
   "name": "python",
   "nbconvert_exporter": "python",
   "pygments_lexer": "ipython3",
   "version": "3.11.5"
  }
 },
 "nbformat": 4,
 "nbformat_minor": 5
}
