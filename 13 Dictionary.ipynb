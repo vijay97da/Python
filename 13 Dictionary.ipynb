{
 "cells": [
  {
   "cell_type": "code",
   "execution_count": 1,
   "id": "d460f6a1",
   "metadata": {},
   "outputs": [
    {
     "data": {
      "text/plain": [
       "'Oct'"
      ]
     },
     "execution_count": 1,
     "metadata": {},
     "output_type": "execute_result"
    }
   ],
   "source": [
    "month_list = ['Jan', 'Feb', 'Mar', 'Apr', \"May\", 'Jun', 'Jul', \"Aug\", 'Sep', 'Oct', 'Nov', 'Dec']\n",
    "month_list[9] # accessing Oct"
   ]
  },
  {
   "cell_type": "code",
   "execution_count": 2,
   "id": "139d80db",
   "metadata": {},
   "outputs": [
    {
     "data": {
      "text/plain": [
       "31"
      ]
     },
     "execution_count": 2,
     "metadata": {},
     "output_type": "execute_result"
    }
   ],
   "source": [
    "days_list = [31, 28, 31, 30, 31, 30, 31, 31, 30, 31, 30, 31]\n",
    "days_list[9] # accessing days of Oct"
   ]
  },
  {
   "cell_type": "code",
   "execution_count": 3,
   "id": "703e749c",
   "metadata": {},
   "outputs": [
    {
     "data": {
      "text/plain": [
       "{}"
      ]
     },
     "execution_count": 3,
     "metadata": {},
     "output_type": "execute_result"
    }
   ],
   "source": [
    "empty_dict = {}\n",
    "empty_dict"
   ]
  },
  {
   "cell_type": "code",
   "execution_count": 4,
   "id": "63a01bc1",
   "metadata": {},
   "outputs": [
    {
     "data": {
      "text/plain": [
       "{'Jan': 31, 'Feb': 28, 'March': 31, 'Apr': 30}"
      ]
     },
     "execution_count": 4,
     "metadata": {},
     "output_type": "execute_result"
    }
   ],
   "source": [
    "my_dict = {'Jan': 31, 'Feb':28, 'March': 31, 'Apr':30} # keys are strings\n",
    "my_dict"
   ]
  },
  {
   "cell_type": "code",
   "execution_count": 5,
   "id": "7256eafa",
   "metadata": {},
   "outputs": [
    {
     "data": {
      "text/plain": [
       "{1: 'Jan', 2: 'Feb', 3: 'March', 4: 'April'}"
      ]
     },
     "execution_count": 5,
     "metadata": {},
     "output_type": "execute_result"
    }
   ],
   "source": [
    "dict2 = {1:'Jan', 2:'Feb', 3:'March', 4:'April'}  # keys are numbers\n",
    "dict2"
   ]
  },
  {
   "cell_type": "code",
   "execution_count": 6,
   "id": "02a0d089",
   "metadata": {},
   "outputs": [
    {
     "data": {
      "text/plain": [
       "{(1, 2019): 'Jan', (2, 2019): 'Feb'}"
      ]
     },
     "execution_count": 6,
     "metadata": {},
     "output_type": "execute_result"
    }
   ],
   "source": [
    "dict3 = {(1, 2019) : 'Jan', (2, 2019):'Feb'}  #keys are tuples\n",
    "dict3"
   ]
  },
  {
   "cell_type": "code",
   "execution_count": 7,
   "id": "c8d8e7da",
   "metadata": {},
   "outputs": [
    {
     "ename": "TypeError",
     "evalue": "unhashable type: 'list'",
     "output_type": "error",
     "traceback": [
      "\u001b[1;31m---------------------------------------------------------------------------\u001b[0m",
      "\u001b[1;31mTypeError\u001b[0m                                 Traceback (most recent call last)",
      "Cell \u001b[1;32mIn[7], line 1\u001b[0m\n\u001b[1;32m----> 1\u001b[0m dict4 \u001b[38;5;241m=\u001b[39m {[\u001b[38;5;241m1\u001b[39m, \u001b[38;5;241m2019\u001b[39m] : \u001b[38;5;124m'\u001b[39m\u001b[38;5;124mJan\u001b[39m\u001b[38;5;124m'\u001b[39m, [\u001b[38;5;241m2\u001b[39m, \u001b[38;5;241m2019\u001b[39m]:\u001b[38;5;124m'\u001b[39m\u001b[38;5;124mFeb\u001b[39m\u001b[38;5;124m'\u001b[39m}  \u001b[38;5;66;03m#keys cannot be list\u001b[39;00m\n\u001b[0;32m      2\u001b[0m dict4\n",
      "\u001b[1;31mTypeError\u001b[0m: unhashable type: 'list'"
     ]
    }
   ],
   "source": [
    "dict4 = {[1, 2019] : 'Jan', [2, 2019]:'Feb'}  #keys cannot be list\n",
    "dict4"
   ]
  },
  {
   "cell_type": "code",
   "execution_count": 8,
   "id": "68ea4fd4",
   "metadata": {},
   "outputs": [
    {
     "data": {
      "text/plain": [
       "{'Jan': [1, 2019], 'Feb': [2, 2019]}"
      ]
     },
     "execution_count": 8,
     "metadata": {},
     "output_type": "execute_result"
    }
   ],
   "source": [
    "dict5 = {'Jan':[1, 2019],'Feb':[2, 2019]}  #keys are strings\n",
    "dict5"
   ]
  },
  {
   "cell_type": "code",
   "execution_count": 9,
   "id": "1cff16f1",
   "metadata": {},
   "outputs": [
    {
     "data": {
      "text/plain": [
       "dict"
      ]
     },
     "execution_count": 9,
     "metadata": {},
     "output_type": "execute_result"
    }
   ],
   "source": [
    "type(my_dict)"
   ]
  },
  {
   "cell_type": "code",
   "execution_count": 10,
   "id": "426e230e",
   "metadata": {},
   "outputs": [
    {
     "data": {
      "text/plain": [
       "4"
      ]
     },
     "execution_count": 10,
     "metadata": {},
     "output_type": "execute_result"
    }
   ],
   "source": [
    "len(my_dict)"
   ]
  },
  {
   "cell_type": "code",
   "execution_count": 11,
   "id": "ce73a1b8",
   "metadata": {},
   "outputs": [
    {
     "data": {
      "text/plain": [
       "{'A': 1, 'B': 2, 'C': 3}"
      ]
     },
     "execution_count": 11,
     "metadata": {},
     "output_type": "execute_result"
    }
   ],
   "source": [
    "d = dict([('A',1), ('B',2), ('C',3)])\n",
    "d"
   ]
  },
  {
   "cell_type": "code",
   "execution_count": 16,
   "id": "0dfbc51f",
   "metadata": {},
   "outputs": [],
   "source": [
    "complex = 56 + 4j"
   ]
  },
  {
   "cell_type": "code",
   "execution_count": 17,
   "id": "789a459c",
   "metadata": {},
   "outputs": [
    {
     "data": {
      "text/plain": [
       "4.0"
      ]
     },
     "execution_count": 17,
     "metadata": {},
     "output_type": "execute_result"
    }
   ],
   "source": [
    "complex.imag"
   ]
  },
  {
   "cell_type": "code",
   "execution_count": 18,
   "id": "83a8b8be",
   "metadata": {},
   "outputs": [
    {
     "data": {
      "text/plain": [
       "56.0"
      ]
     },
     "execution_count": 18,
     "metadata": {},
     "output_type": "execute_result"
    }
   ],
   "source": [
    "complex.real"
   ]
  },
  {
   "cell_type": "code",
   "execution_count": 19,
   "id": "3fa7b860",
   "metadata": {},
   "outputs": [
    {
     "data": {
      "text/plain": [
       "<function complex.conjugate()>"
      ]
     },
     "execution_count": 19,
     "metadata": {},
     "output_type": "execute_result"
    }
   ],
   "source": [
    "complex.conjugate"
   ]
  },
  {
   "cell_type": "code",
   "execution_count": 23,
   "id": "1d646a06",
   "metadata": {},
   "outputs": [
    {
     "data": {
      "text/plain": [
       "(56+9j)"
      ]
     },
     "execution_count": 23,
     "metadata": {},
     "output_type": "execute_result"
    }
   ],
   "source": [
    "56 + 9j"
   ]
  },
  {
   "cell_type": "code",
   "execution_count": 24,
   "id": "46e51045",
   "metadata": {},
   "outputs": [
    {
     "data": {
      "text/plain": [
       "['__add__',\n",
       " '__class__',\n",
       " '__class_getitem__',\n",
       " '__contains__',\n",
       " '__delattr__',\n",
       " '__delitem__',\n",
       " '__dir__',\n",
       " '__doc__',\n",
       " '__eq__',\n",
       " '__format__',\n",
       " '__ge__',\n",
       " '__getattribute__',\n",
       " '__getitem__',\n",
       " '__getstate__',\n",
       " '__gt__',\n",
       " '__hash__',\n",
       " '__iadd__',\n",
       " '__imul__',\n",
       " '__init__',\n",
       " '__init_subclass__',\n",
       " '__iter__',\n",
       " '__le__',\n",
       " '__len__',\n",
       " '__lt__',\n",
       " '__mul__',\n",
       " '__ne__',\n",
       " '__new__',\n",
       " '__reduce__',\n",
       " '__reduce_ex__',\n",
       " '__repr__',\n",
       " '__reversed__',\n",
       " '__rmul__',\n",
       " '__setattr__',\n",
       " '__setitem__',\n",
       " '__sizeof__',\n",
       " '__str__',\n",
       " '__subclasshook__',\n",
       " 'append',\n",
       " 'clear',\n",
       " 'copy',\n",
       " 'count',\n",
       " 'extend',\n",
       " 'index',\n",
       " 'insert',\n",
       " 'pop',\n",
       " 'remove',\n",
       " 'reverse',\n",
       " 'sort']"
      ]
     },
     "execution_count": 24,
     "metadata": {},
     "output_type": "execute_result"
    }
   ],
   "source": [
    "dir(list)"
   ]
  },
  {
   "cell_type": "code",
   "execution_count": 25,
   "id": "2586653b",
   "metadata": {},
   "outputs": [
    {
     "data": {
      "text/plain": [
       "{'Jan': 31, 'Feb': 28, 'March': 31, 'Apr': 30}"
      ]
     },
     "execution_count": 25,
     "metadata": {},
     "output_type": "execute_result"
    }
   ],
   "source": [
    "my_dict = {'Jan': 31, 'Feb':28, 'March': 31, 'Apr':30} # keys are strings\n",
    "my_dict"
   ]
  },
  {
   "cell_type": "code",
   "execution_count": 26,
   "id": "6780b6c7",
   "metadata": {},
   "outputs": [
    {
     "data": {
      "text/plain": [
       "dict_keys(['Jan', 'Feb', 'March', 'Apr'])"
      ]
     },
     "execution_count": 26,
     "metadata": {},
     "output_type": "execute_result"
    }
   ],
   "source": [
    "my_dict.keys()"
   ]
  },
  {
   "cell_type": "code",
   "execution_count": 27,
   "id": "f39bc703",
   "metadata": {},
   "outputs": [
    {
     "data": {
      "text/plain": [
       "dict_values([31, 28, 31, 30])"
      ]
     },
     "execution_count": 27,
     "metadata": {},
     "output_type": "execute_result"
    }
   ],
   "source": [
    "my_dict.values()"
   ]
  },
  {
   "cell_type": "code",
   "execution_count": 28,
   "id": "9571a736",
   "metadata": {},
   "outputs": [
    {
     "data": {
      "text/plain": [
       "dict_items([('Jan', 31), ('Feb', 28), ('March', 31), ('Apr', 30)])"
      ]
     },
     "execution_count": 28,
     "metadata": {},
     "output_type": "execute_result"
    }
   ],
   "source": [
    "my_dict.items()"
   ]
  },
  {
   "cell_type": "code",
   "execution_count": 31,
   "id": "69bcb592",
   "metadata": {},
   "outputs": [
    {
     "data": {
      "text/plain": [
       "30"
      ]
     },
     "execution_count": 31,
     "metadata": {},
     "output_type": "execute_result"
    }
   ],
   "source": [
    "my_dict.pop(\"Apr\")"
   ]
  },
  {
   "cell_type": "code",
   "execution_count": 33,
   "id": "61bc4461",
   "metadata": {},
   "outputs": [],
   "source": [
    "my_dict[\"Apr\"]= 30"
   ]
  },
  {
   "cell_type": "code",
   "execution_count": 34,
   "id": "670d8ea8",
   "metadata": {},
   "outputs": [
    {
     "data": {
      "text/plain": [
       "{'Jan': 31, 'Feb': 28, 'March': 31, 'Apr': 30}"
      ]
     },
     "execution_count": 34,
     "metadata": {},
     "output_type": "execute_result"
    }
   ],
   "source": [
    "my_dict"
   ]
  },
  {
   "cell_type": "code",
   "execution_count": 36,
   "id": "3103107d",
   "metadata": {},
   "outputs": [
    {
     "data": {
      "text/plain": [
       "31"
      ]
     },
     "execution_count": 36,
     "metadata": {},
     "output_type": "execute_result"
    }
   ],
   "source": [
    "my_dict[\"Jan\"]"
   ]
  },
  {
   "cell_type": "code",
   "execution_count": 41,
   "id": "8704706a",
   "metadata": {},
   "outputs": [],
   "source": [
    "my_dict.get('xyz')"
   ]
  },
  {
   "cell_type": "code",
   "execution_count": 39,
   "id": "656bd8f6",
   "metadata": {},
   "outputs": [
    {
     "data": {
      "text/plain": [
       "28"
      ]
     },
     "execution_count": 39,
     "metadata": {},
     "output_type": "execute_result"
    }
   ],
   "source": [
    "my_dict.get('Feb')"
   ]
  },
  {
   "cell_type": "code",
   "execution_count": 40,
   "id": "57e4b3d6",
   "metadata": {},
   "outputs": [
    {
     "data": {
      "text/plain": [
       "{'Jan': 31, 'Feb': 28, 'March': 31, 'Apr': 30}"
      ]
     },
     "execution_count": 40,
     "metadata": {},
     "output_type": "execute_result"
    }
   ],
   "source": [
    "my_dict"
   ]
  },
  {
   "cell_type": "code",
   "execution_count": 42,
   "id": "c2518682",
   "metadata": {},
   "outputs": [
    {
     "data": {
      "text/plain": [
       "True"
      ]
     },
     "execution_count": 42,
     "metadata": {},
     "output_type": "execute_result"
    }
   ],
   "source": [
    "'Apr' in my_dict  # check whether entry with key 'Apr' is present or not"
   ]
  },
  {
   "cell_type": "code",
   "execution_count": 43,
   "id": "6bd245f8",
   "metadata": {},
   "outputs": [
    {
     "data": {
      "text/plain": [
       "False"
      ]
     },
     "execution_count": 43,
     "metadata": {},
     "output_type": "execute_result"
    }
   ],
   "source": [
    "'Apr' not in my_dict "
   ]
  },
  {
   "cell_type": "code",
   "execution_count": 44,
   "id": "2a62dfbe",
   "metadata": {},
   "outputs": [
    {
     "data": {
      "text/plain": [
       "{'I': 1, 'V': 5, 'X': 10, 'L': 50, 'C': 100, 'D': 500, 'M': 1000}"
      ]
     },
     "execution_count": 44,
     "metadata": {},
     "output_type": "execute_result"
    }
   ],
   "source": [
    "letter_dict = { 'I':1, 'V':5, 'X':10, 'L':50, 'C':100, 'D':500, \"M\":1000}\n",
    "letter_dict"
   ]
  },
  {
   "cell_type": "code",
   "execution_count": 45,
   "id": "23acfde4",
   "metadata": {},
   "outputs": [
    {
     "name": "stdout",
     "output_type": "stream",
     "text": [
      "{1: ['1', 'Emp A', 34], 2: ['2', 'Emp B', 35], 3: ['3', 'Emp C', 36]}\n"
     ]
    }
   ],
   "source": [
    "emp_data = { 1:['1','Emp A', 34] , 2:['2','Emp B', 35], 3:['3','Emp C', 36]}\n",
    "\n",
    "print(emp_data)"
   ]
  },
  {
   "cell_type": "code",
   "execution_count": 47,
   "id": "f49984a3",
   "metadata": {},
   "outputs": [
    {
     "data": {
      "text/plain": [
       "'Emp A'"
      ]
     },
     "execution_count": 47,
     "metadata": {},
     "output_type": "execute_result"
    }
   ],
   "source": [
    "emp_data[1][1]"
   ]
  },
  {
   "cell_type": "code",
   "execution_count": 48,
   "id": "4fcb7c3b",
   "metadata": {},
   "outputs": [],
   "source": [
    "emp_data = { 1:['1',(\"A\",\"B\"),'Emp A', 34] , 2:['2',(\"C\", \"D\"),'Emp B', 35], 3:['3',(\"E\", \"F\"),'Emp C', 36]}"
   ]
  },
  {
   "cell_type": "code",
   "execution_count": 54,
   "id": "5d0668f5",
   "metadata": {},
   "outputs": [
    {
     "data": {
      "text/plain": [
       "'A'"
      ]
     },
     "execution_count": 54,
     "metadata": {},
     "output_type": "execute_result"
    }
   ],
   "source": [
    "emp_data[1][1][0]"
   ]
  },
  {
   "cell_type": "code",
   "execution_count": 55,
   "id": "3920ae68",
   "metadata": {},
   "outputs": [],
   "source": [
    "emp_data = { 1:['1',(\"A\",\"B\", {2:\"Amit\"}),'Emp A', 34] , 2:['2',(\"C\", \"D\",{3: \"Vijay\"}),'Emp B', 35], 3:['3',(\"E\", \"F\", {4:\"Chinikesh\"}),'Emp C', 36]}"
   ]
  },
  {
   "cell_type": "code",
   "execution_count": 70,
   "id": "e3f3f194",
   "metadata": {},
   "outputs": [
    {
     "data": {
      "text/plain": [
       "'Vijay'"
      ]
     },
     "execution_count": 70,
     "metadata": {},
     "output_type": "execute_result"
    }
   ],
   "source": [
    "emp_data[2][1][2][3]"
   ]
  },
  {
   "cell_type": "code",
   "execution_count": 73,
   "id": "47b8e5ec",
   "metadata": {},
   "outputs": [
    {
     "name": "stdout",
     "output_type": "stream",
     "text": [
      "['1', ('A', 'B', {2: 'Amit'}), 'Emp A', 34]\n",
      "['2', ('C', 'D', {3: 'Vijay'}), 'Emp B', 35]\n",
      "['3', ('E', 'F', {4: 'Chinikesh'}), 'Emp C', 36]\n"
     ]
    }
   ],
   "source": [
    "for i in emp_data.values():\n",
    "    print(i)"
   ]
  },
  {
   "cell_type": "code",
   "execution_count": 74,
   "id": "80cadfe9",
   "metadata": {},
   "outputs": [],
   "source": [
    "emp_data = { 1:{'1','Emp A', 34} , 2:['2','Emp B', 35], 3:['3','Emp C', 36]}"
   ]
  },
  {
   "cell_type": "code",
   "execution_count": 77,
   "id": "3a1eeed1",
   "metadata": {},
   "outputs": [
    {
     "data": {
      "text/plain": [
       "{'1', 34, 'Emp A'}"
      ]
     },
     "execution_count": 77,
     "metadata": {},
     "output_type": "execute_result"
    }
   ],
   "source": [
    "emp_data[1]"
   ]
  },
  {
   "cell_type": "code",
   "execution_count": null,
   "id": "0ce01f36",
   "metadata": {},
   "outputs": [],
   "source": []
  },
  {
   "cell_type": "markdown",
   "id": "b8b8cf02",
   "metadata": {},
   "source": [
    "# Mutability "
   ]
  },
  {
   "cell_type": "raw",
   "id": "37f1b0f4",
   "metadata": {},
   "source": [
    "str = immutable\n",
    "list = mutable\n",
    "tuple = immutable\n",
    "set = immutable\n",
    "dict = only values mutable"
   ]
  },
  {
   "cell_type": "code",
   "execution_count": null,
   "id": "8a03b4a3",
   "metadata": {},
   "outputs": [],
   "source": []
  }
 ],
 "metadata": {
  "kernelspec": {
   "display_name": "Python 3 (ipykernel)",
   "language": "python",
   "name": "python3"
  },
  "language_info": {
   "codemirror_mode": {
    "name": "ipython",
    "version": 3
   },
   "file_extension": ".py",
   "mimetype": "text/x-python",
   "name": "python",
   "nbconvert_exporter": "python",
   "pygments_lexer": "ipython3",
   "version": "3.11.5"
  }
 },
 "nbformat": 4,
 "nbformat_minor": 5
}
