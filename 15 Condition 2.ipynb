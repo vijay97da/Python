{
 "cells": [
  {
   "cell_type": "code",
   "execution_count": 1,
   "id": "3ea8f32f",
   "metadata": {},
   "outputs": [],
   "source": [
    "a = 10 \n",
    "\n",
    "if a == 11 :\n",
    "    print(\"this is my first condition\")"
   ]
  },
  {
   "cell_type": "code",
   "execution_count": 2,
   "id": "2d744cf2",
   "metadata": {},
   "outputs": [
    {
     "name": "stdout",
     "output_type": "stream",
     "text": [
      "this is my first condition\n"
     ]
    }
   ],
   "source": [
    "a = 11 \n",
    "\n",
    "if a == 11 :\n",
    "    print(\"this is my first condition\")"
   ]
  },
  {
   "cell_type": "code",
   "execution_count": 3,
   "id": "c42a40e9",
   "metadata": {},
   "outputs": [
    {
     "name": "stdout",
     "output_type": "stream",
     "text": [
      "ok i satisfy\n"
     ]
    }
   ],
   "source": [
    "a = 10\n",
    "if a > 5 :\n",
    "    print(\"ok i satisfy\")"
   ]
  },
  {
   "cell_type": "code",
   "execution_count": 4,
   "id": "c9758aa4",
   "metadata": {},
   "outputs": [],
   "source": [
    "a = 4\n",
    "if a > 5 :\n",
    "    print(\"ok i satisfy\")"
   ]
  },
  {
   "cell_type": "code",
   "execution_count": 5,
   "id": "c40e4204",
   "metadata": {},
   "outputs": [
    {
     "name": "stdout",
     "output_type": "stream",
     "text": [
      "print this \n"
     ]
    }
   ],
   "source": [
    "a = 10\n",
    "if a == 11:\n",
    "    print(\"my condition is false\")\n",
    "else :\n",
    "    print(\"print this \")"
   ]
  },
  {
   "cell_type": "code",
   "execution_count": 6,
   "id": "c930f4d6",
   "metadata": {},
   "outputs": [
    {
     "name": "stdout",
     "output_type": "stream",
     "text": [
      "we are trying to compare 10 with 11\n"
     ]
    }
   ],
   "source": [
    "a = 10 \n",
    "\n",
    "if a == 12 :\n",
    "    print(\"here we are trying to compare 10 with 12\")\n",
    "elif a == 10:\n",
    "    print(\"we are trying to compare 10 with 11\")\n",
    "else :\n",
    "    print(\"if all the blocks wil fail then do this \")"
   ]
  },
  {
   "cell_type": "code",
   "execution_count": 11,
   "id": "1913cb9d",
   "metadata": {},
   "outputs": [
    {
     "name": "stdout",
     "output_type": "stream",
     "text": [
      "enter a price amount 300\n",
      "i will be able to buy a jacket\n"
     ]
    }
   ],
   "source": [
    "price =  int(input(\"enter a price amount \"))\n",
    "\n",
    "if price > 500 : \n",
    "    print(\" may be i wont be able to buy a jacket \")\n",
    "elif price < 500 :\n",
    "    print(\"i will be able to buy a jacket\")\n",
    "elif  price == 500 :\n",
    "    print(\"for sure i will be able to buy\")\n",
    "else  :\n",
    "    print(\"i dont know\")"
   ]
  },
  {
   "cell_type": "code",
   "execution_count": 12,
   "id": "08f553d7",
   "metadata": {},
   "outputs": [
    {
     "name": "stdout",
     "output_type": "stream",
     "text": [
      "do not perform this task\n"
     ]
    }
   ],
   "source": [
    "lis = [1,2,3,4,5,6]\n",
    "\n",
    "if 60 in lis :\n",
    "    print(\"try to perform a task \")\n",
    "else :\n",
    "    print(\"do not perform this task\")"
   ]
  },
  {
   "cell_type": "code",
   "execution_count": 13,
   "id": "7547f0f3",
   "metadata": {},
   "outputs": [
    {
     "name": "stdout",
     "output_type": "stream",
     "text": [
      "try to perform a task \n"
     ]
    }
   ],
   "source": [
    "lis = [1,2,3,4,5,6]\n",
    "\n",
    "if 60 not in lis :\n",
    "    print(\"try to perform a task \")\n",
    "else :\n",
    "    print(\"do not perform this task\")"
   ]
  },
  {
   "cell_type": "code",
   "execution_count": 15,
   "id": "153a0e74",
   "metadata": {},
   "outputs": [
    {
     "name": "stdout",
     "output_type": "stream",
     "text": [
      "try to do sub\n",
      "this is new statement\n"
     ]
    }
   ],
   "source": [
    "lis = [1,2,3,4,5,6]\n",
    "\n",
    "if 10 in lis :\n",
    "    print(\"thy to do a addition\")\n",
    "elif 2 in lis :\n",
    "    print(\"try to do sub\")\n",
    "elif 3 in lis :\n",
    "    print(\"try to do mul\")\n",
    "if 4 in lis :\n",
    "    print(\"this is new statement\")"
   ]
  },
  {
   "cell_type": "code",
   "execution_count": 17,
   "id": "91c56985",
   "metadata": {},
   "outputs": [
    {
     "name": "stdout",
     "output_type": "stream",
     "text": [
      "enter a pricre amount 380\n",
      "i will be able to buy something\n",
      "\n",
      "i will be able to buy a jacket\n"
     ]
    }
   ],
   "source": [
    "price  = int(input(\"enter a pricre amount \"))\n",
    "\n",
    "if price  < 500 :\n",
    "    print(\"i will be able to buy something\")\n",
    "    print()\n",
    "    if price < 400 :\n",
    "        print(\"i will be able to buy a jacket\")\n",
    "    elif price < 300 :\n",
    "        print(\"i will be able to buy a shirt\")\n",
    "        if price < 200 :\n",
    "            print(\"i would like to do sometign\")\n",
    "    else :\n",
    "        print(\"i wont be able to buy anyting\")\n",
    "else :\n",
    "     print(\"i wont be able to buy anything with this price tag\")"
   ]
  },
  {
   "cell_type": "code",
   "execution_count": 20,
   "id": "aae3eadf",
   "metadata": {},
   "outputs": [
    {
     "name": "stdout",
     "output_type": "stream",
     "text": [
      "Enter first number \n",
      "100\n",
      "Enter second number \n",
      "90\n",
      "First number is bigger than second\n"
     ]
    }
   ],
   "source": [
    "number1 = int(input(\"Enter first number \\n\"))\n",
    "number2 = int(input(\"Enter second number \\n\"))\n",
    "\n",
    "\n",
    "if number1 == number2:\n",
    "    print(\"Both numbers are same\")\n",
    "else:\n",
    "    if number1 > number2:\n",
    "        print(\"First number is bigger than second\")\n",
    "    else:\n",
    "        print(\"First number is smaller than second\")"
   ]
  },
  {
   "cell_type": "code",
   "execution_count": 22,
   "id": "bee533dd",
   "metadata": {},
   "outputs": [
    {
     "name": "stdout",
     "output_type": "stream",
     "text": [
      "Enter a number\n",
      "55\n",
      "Number is odd\n"
     ]
    }
   ],
   "source": [
    "number = int(input(\"Enter a number\\n\")) # if number entered in string then it will throw error\n",
    "\n",
    "if number % 2 == 0 :  \n",
    "    print(\"Number is even\")\n",
    "else:\n",
    "    print(\"Number is odd\")"
   ]
  },
  {
   "cell_type": "code",
   "execution_count": 26,
   "id": "4b00b665",
   "metadata": {},
   "outputs": [
    {
     "name": "stdout",
     "output_type": "stream",
     "text": [
      "Enter your username: guest\n",
      "Enter your password: 12345\n",
      "Incorrect password. Please try again.\n"
     ]
    }
   ],
   "source": [
    "# Password and Username Checking\n",
    "username = input(\"Enter your username: \")\n",
    "password = input(\"Enter your password: \")\n",
    "\n",
    "\n",
    "if username == \"admin\":\n",
    "    if password == \"password\":\n",
    "        print(\"Login successful! Welcome, admin.\")\n",
    "    elif password == \"12345\":\n",
    "        print(\"Weak password. Please reset your password.\")\n",
    "    else:\n",
    "        print(\"Incorrect password. Please try again.\")\n",
    "else:\n",
    "    if username == \"guest\":\n",
    "        if password == \"guest\":\n",
    "            print(\"Login successful! Welcome, guest.\")\n",
    "        else:\n",
    "            print(\"Incorrect password. Please try again.\")\n",
    "    else:\n",
    "        print(\"Unknown user. Please try again.\")\n",
    "        "
   ]
  },
  {
   "cell_type": "code",
   "execution_count": 27,
   "id": "8e7f7ce0",
   "metadata": {},
   "outputs": [
    {
     "name": "stdout",
     "output_type": "stream",
     "text": [
      "Enter a number\n",
      "78000\n",
      "you can buy bike\n"
     ]
    }
   ],
   "source": [
    "salary = int(input(\"Enter a number\\n\"))\n",
    "\n",
    "if salary > 100000:\n",
    "    print(\"you can buy car as well home\")\n",
    "elif salary == 100000:\n",
    "    print(\"you can buy car only\")\n",
    "elif salary > 50000 and salary < 100000:\n",
    "    print(\"you can buy bike\")\n",
    "else:\n",
    "    print(\"save more money\")"
   ]
  },
  {
   "cell_type": "code",
   "execution_count": 28,
   "id": "b50a2193",
   "metadata": {},
   "outputs": [
    {
     "name": "stdout",
     "output_type": "stream",
     "text": [
      "Enter the mark\n",
      "65\n",
      "You passed in first class\n"
     ]
    }
   ],
   "source": [
    "mark = int(input(\"Enter the mark\\n\"))\n",
    "\n",
    "if mark < 0 or mark > 100: \n",
    "    print(\"Invalid marks are entered!\")\n",
    "elif mark >= 0 and mark < 35 :\n",
    "    print(\"Sorry you failed!\")\n",
    "elif mark >= 35 and mark < 80 :\n",
    "    print(\"You passed in first class\")\n",
    "else :\n",
    "    print(\"You got distinction!\")"
   ]
  },
  {
   "cell_type": "code",
   "execution_count": null,
   "id": "4ff7e94c",
   "metadata": {},
   "outputs": [],
   "source": []
  }
 ],
 "metadata": {
  "kernelspec": {
   "display_name": "Python 3 (ipykernel)",
   "language": "python",
   "name": "python3"
  },
  "language_info": {
   "codemirror_mode": {
    "name": "ipython",
    "version": 3
   },
   "file_extension": ".py",
   "mimetype": "text/x-python",
   "name": "python",
   "nbconvert_exporter": "python",
   "pygments_lexer": "ipython3",
   "version": "3.11.5"
  }
 },
 "nbformat": 4,
 "nbformat_minor": 5
}
